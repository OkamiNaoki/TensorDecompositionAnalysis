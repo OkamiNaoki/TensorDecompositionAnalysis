{
 "cells": [
  {
   "attachments": {},
   "cell_type": "markdown",
   "metadata": {
    "id": "n2Y2W3dz-RlW"
   },
   "source": [
    "# テンソル分解"
   ]
  },
  {
   "attachments": {},
   "cell_type": "markdown",
   "metadata": {
    "id": "CcNpO7QE4Ntm"
   },
   "source": [
    "目的　テンソル同士の比較、比較することで、そのテンソルの構成している要素を知る。何が原因となって、その特徴量を出しているのか"
   ]
  },
  {
   "attachments": {},
   "cell_type": "markdown",
   "metadata": {
    "id": "pI6_ePj97SGU"
   },
   "source": [
    "https://www.jstage.jst.go.jp/article/journalcpij/53/3/53_1320/_pdf/-char/ja\n",
    "\n",
    "タッカー分解のコアテンソル、因子の扱い全てある\n",
    "\n",
    "コアテンソルを一旦一緒にするのではなく、それぞれでどの要素が影響しているのかしっかり見極める必要がある、それぞれの特徴行列の数値からどの要素が影響しているのかこの論文を対象に調べる必要がある。"
   ]
  },
  {
   "attachments": {},
   "cell_type": "markdown",
   "metadata": {},
   "source": [
    "voilaではクラスタリングすることでより精度を高めるということをしていたが、これの目的は、クラスタリング後、比較することで異常を見つけ出すというのが目的、"
   ]
  },
  {
   "attachments": {},
   "cell_type": "markdown",
   "metadata": {
    "id": "rj1iRSsDKiQa"
   },
   "source": [
    "卒論完成目標\n",
    "\n",
    "1、テンソル分解をする（今のところ、コアテンソルが対角要素となっているCP分解を用いてただテンソル分解をする。\n",
    "\n",
    "２、テンソル分解後の空間軸のコンポーネントを見て、そこの差をとり、空間軸、４つのコンポーネント、4テンソルのそれぞれの差をとり６個、差分テンソルを作る、これが（８６４、４、６）のテンソルになる（テンソルオールは入れなくていいかも）\n",
    "\n",
    "３、上のテンソルをタッカー分解することでコアテンソル、空間軸コンポーネントを見ることで差分のつまり、テンソルに差をつけている部分の場所を把握することができる、今のところ順調\n",
    "\n",
    "４、これを時間軸でもやりたいが、差をとるという事ができるのかという点で最初のテンソル分解をタッカー分解に変えて、時間軸の方も探索するというのもありかもしれない、\n",
    "\n",
    "終わり、どの場所で差がついているか分かれば、そこから一個前の軸に戻り、また同様に、どの部分が大事かを探索することで、元データに戻り、最終的に、実際の数値の差として知る事ができる\n"
   ]
  },
  {
   "attachments": {},
   "cell_type": "markdown",
   "metadata": {
    "id": "ds4lbuSB-VhN"
   },
   "source": [
    "# データ処理"
   ]
  },
  {
   "attachments": {},
   "cell_type": "markdown",
   "metadata": {
    "id": "c5Gwo3WJ-eTs"
   },
   "source": [
    "## import"
   ]
  },
  {
   "cell_type": "code",
   "execution_count": 1,
   "metadata": {
    "executionInfo": {
     "elapsed": 1331,
     "status": "ok",
     "timestamp": 1672373822107,
     "user": {
      "displayName": "学生1935084t",
      "userId": "12227631716568337195"
     },
     "user_tz": -540
    },
    "id": "JaME2DYs9ZdD"
   },
   "outputs": [],
   "source": [
    "import pandas as pd\n",
    "import numpy as np\n",
    "from sklearn import preprocessing"
   ]
  },
  {
   "attachments": {},
   "cell_type": "markdown",
   "metadata": {
    "id": "HSGOOks6-hoB"
   },
   "source": [
    "## データ処理"
   ]
  },
  {
   "cell_type": "code",
   "execution_count": 2,
   "metadata": {},
   "outputs": [],
   "source": [
    "months=[30,31,30,31,31,30,25,30,31,31,28,31]#2014の含まれている日数,4月から順番に最後が3月、10月は9日から14日が欠けている,4:0,5:1,6:2,7:3,8:4,9:5,10:6,11:7,12:8,1:9,2:10,3:11"
   ]
  },
  {
   "cell_type": "code",
   "execution_count": 3,
   "metadata": {},
   "outputs": [],
   "source": [
    "month1=5\n",
    "month2=1\n",
    "month3=8"
   ]
  },
  {
   "cell_type": "code",
   "execution_count": 4,
   "metadata": {},
   "outputs": [],
   "source": [
    "#CP分解をするとき1\n",
    "cp=0"
   ]
  },
  {
   "cell_type": "code",
   "execution_count": 5,
   "metadata": {
    "executionInfo": {
     "elapsed": 2442,
     "status": "ok",
     "timestamp": 1672373824547,
     "user": {
      "displayName": "学生1935084t",
      "userId": "12227631716568337195"
     },
     "user_tz": -540
    },
    "id": "TtbnvOrQ-QhU"
   },
   "outputs": [
    {
     "ename": "KeyboardInterrupt",
     "evalue": "",
     "output_type": "error",
     "traceback": [
      "\u001b[1;31m---------------------------------------------------------------------------\u001b[0m",
      "\u001b[1;31mKeyboardInterrupt\u001b[0m                         Traceback (most recent call last)",
      "Cell \u001b[1;32mIn[5], line 10\u001b[0m\n\u001b[0;32m      8\u001b[0m df_cluster2[\u001b[39m'\u001b[39m\u001b[39mtime\u001b[39m\u001b[39m'\u001b[39m] \u001b[39m=\u001b[39m pd\u001b[39m.\u001b[39mto_datetime(df_cluster2[\u001b[39m'\u001b[39m\u001b[39mtime\u001b[39m\u001b[39m'\u001b[39m]\u001b[39m.\u001b[39mastype(\u001b[39mstr\u001b[39m))\n\u001b[0;32m      9\u001b[0m df_cluster0\u001b[39m=\u001b[39mdf_cluster0\u001b[39m.\u001b[39msort_values([\u001b[39m'\u001b[39m\u001b[39mtime\u001b[39m\u001b[39m'\u001b[39m,\u001b[39m'\u001b[39m\u001b[39mspace\u001b[39m\u001b[39m'\u001b[39m])\n\u001b[1;32m---> 10\u001b[0m df_cluster1\u001b[39m=\u001b[39mdf_cluster1\u001b[39m.\u001b[39;49msort_values([\u001b[39m'\u001b[39;49m\u001b[39mtime\u001b[39;49m\u001b[39m'\u001b[39;49m,\u001b[39m'\u001b[39;49m\u001b[39mspace\u001b[39;49m\u001b[39m'\u001b[39;49m])\n\u001b[0;32m     11\u001b[0m df_cluster2\u001b[39m=\u001b[39mdf_cluster2\u001b[39m.\u001b[39msort_values([\u001b[39m'\u001b[39m\u001b[39mtime\u001b[39m\u001b[39m'\u001b[39m,\u001b[39m'\u001b[39m\u001b[39mspace\u001b[39m\u001b[39m'\u001b[39m])\n",
      "File \u001b[1;32m~\\AppData\\Local\\Packages\\PythonSoftwareFoundation.Python.3.10_qbz5n2kfra8p0\\LocalCache\\local-packages\\Python310\\site-packages\\pandas\\util\\_decorators.py:331\u001b[0m, in \u001b[0;36mdeprecate_nonkeyword_arguments.<locals>.decorate.<locals>.wrapper\u001b[1;34m(*args, **kwargs)\u001b[0m\n\u001b[0;32m    325\u001b[0m \u001b[39mif\u001b[39;00m \u001b[39mlen\u001b[39m(args) \u001b[39m>\u001b[39m num_allow_args:\n\u001b[0;32m    326\u001b[0m     warnings\u001b[39m.\u001b[39mwarn(\n\u001b[0;32m    327\u001b[0m         msg\u001b[39m.\u001b[39mformat(arguments\u001b[39m=\u001b[39m_format_argument_list(allow_args)),\n\u001b[0;32m    328\u001b[0m         \u001b[39mFutureWarning\u001b[39;00m,\n\u001b[0;32m    329\u001b[0m         stacklevel\u001b[39m=\u001b[39mfind_stack_level(),\n\u001b[0;32m    330\u001b[0m     )\n\u001b[1;32m--> 331\u001b[0m \u001b[39mreturn\u001b[39;00m func(\u001b[39m*\u001b[39margs, \u001b[39m*\u001b[39m\u001b[39m*\u001b[39mkwargs)\n",
      "File \u001b[1;32m~\\AppData\\Local\\Packages\\PythonSoftwareFoundation.Python.3.10_qbz5n2kfra8p0\\LocalCache\\local-packages\\Python310\\site-packages\\pandas\\core\\frame.py:6905\u001b[0m, in \u001b[0;36mDataFrame.sort_values\u001b[1;34m(self, by, axis, ascending, inplace, kind, na_position, ignore_index, key)\u001b[0m\n\u001b[0;32m   6897\u001b[0m     \u001b[39mif\u001b[39;00m key \u001b[39mis\u001b[39;00m \u001b[39mnot\u001b[39;00m \u001b[39mNone\u001b[39;00m:\n\u001b[0;32m   6898\u001b[0m         \u001b[39m# error: List comprehension has incompatible type List[Series];\u001b[39;00m\n\u001b[0;32m   6899\u001b[0m         \u001b[39m# expected List[ndarray]\u001b[39;00m\n\u001b[0;32m   6900\u001b[0m         keys \u001b[39m=\u001b[39m [\n\u001b[0;32m   6901\u001b[0m             Series(k, name\u001b[39m=\u001b[39mname)  \u001b[39m# type: ignore[misc]\u001b[39;00m\n\u001b[0;32m   6902\u001b[0m             \u001b[39mfor\u001b[39;00m (k, name) \u001b[39min\u001b[39;00m \u001b[39mzip\u001b[39m(keys, by)\n\u001b[0;32m   6903\u001b[0m         ]\n\u001b[1;32m-> 6905\u001b[0m     indexer \u001b[39m=\u001b[39m lexsort_indexer(\n\u001b[0;32m   6906\u001b[0m         keys, orders\u001b[39m=\u001b[39;49mascending, na_position\u001b[39m=\u001b[39;49mna_position, key\u001b[39m=\u001b[39;49mkey\n\u001b[0;32m   6907\u001b[0m     )\n\u001b[0;32m   6908\u001b[0m \u001b[39melif\u001b[39;00m \u001b[39mlen\u001b[39m(by):\n\u001b[0;32m   6909\u001b[0m     \u001b[39m# len(by) == 1\u001b[39;00m\n\u001b[0;32m   6911\u001b[0m     by \u001b[39m=\u001b[39m by[\u001b[39m0\u001b[39m]\n",
      "File \u001b[1;32m~\\AppData\\Local\\Packages\\PythonSoftwareFoundation.Python.3.10_qbz5n2kfra8p0\\LocalCache\\local-packages\\Python310\\site-packages\\pandas\\core\\sorting.py:350\u001b[0m, in \u001b[0;36mlexsort_indexer\u001b[1;34m(keys, orders, na_position, key)\u001b[0m\n\u001b[0;32m    343\u001b[0m \u001b[39mwith\u001b[39;00m warnings\u001b[39m.\u001b[39mcatch_warnings():\n\u001b[0;32m    344\u001b[0m     \u001b[39m# TODO(2.0): unnecessary once deprecation is enforced\u001b[39;00m\n\u001b[0;32m    345\u001b[0m     \u001b[39m# GH#45618 don't issue warning user can't do anything about\u001b[39;00m\n\u001b[0;32m    346\u001b[0m     warnings\u001b[39m.\u001b[39mfilterwarnings(\n\u001b[0;32m    347\u001b[0m         \u001b[39m\"\u001b[39m\u001b[39mignore\u001b[39m\u001b[39m\"\u001b[39m, \u001b[39m\"\u001b[39m\u001b[39m.*(SparseArray|SparseDtype).*\u001b[39m\u001b[39m\"\u001b[39m, category\u001b[39m=\u001b[39m\u001b[39mFutureWarning\u001b[39;00m\n\u001b[0;32m    348\u001b[0m     )\n\u001b[1;32m--> 350\u001b[0m     cat \u001b[39m=\u001b[39m Categorical(k, ordered\u001b[39m=\u001b[39;49m\u001b[39mTrue\u001b[39;49;00m)\n\u001b[0;32m    352\u001b[0m \u001b[39mif\u001b[39;00m na_position \u001b[39mnot\u001b[39;00m \u001b[39min\u001b[39;00m [\u001b[39m\"\u001b[39m\u001b[39mlast\u001b[39m\u001b[39m\"\u001b[39m, \u001b[39m\"\u001b[39m\u001b[39mfirst\u001b[39m\u001b[39m\"\u001b[39m]:\n\u001b[0;32m    353\u001b[0m     \u001b[39mraise\u001b[39;00m \u001b[39mValueError\u001b[39;00m(\u001b[39mf\u001b[39m\u001b[39m\"\u001b[39m\u001b[39minvalid na_position: \u001b[39m\u001b[39m{\u001b[39;00mna_position\u001b[39m}\u001b[39;00m\u001b[39m\"\u001b[39m)\n",
      "File \u001b[1;32m~\\AppData\\Local\\Packages\\PythonSoftwareFoundation.Python.3.10_qbz5n2kfra8p0\\LocalCache\\local-packages\\Python310\\site-packages\\pandas\\core\\arrays\\categorical.py:441\u001b[0m, in \u001b[0;36mCategorical.__init__\u001b[1;34m(self, values, categories, ordered, dtype, fastpath, copy)\u001b[0m\n\u001b[0;32m    439\u001b[0m \u001b[39mif\u001b[39;00m dtype\u001b[39m.\u001b[39mcategories \u001b[39mis\u001b[39;00m \u001b[39mNone\u001b[39;00m:\n\u001b[0;32m    440\u001b[0m     \u001b[39mtry\u001b[39;00m:\n\u001b[1;32m--> 441\u001b[0m         codes, categories \u001b[39m=\u001b[39m factorize(values, sort\u001b[39m=\u001b[39;49m\u001b[39mTrue\u001b[39;49;00m)\n\u001b[0;32m    442\u001b[0m     \u001b[39mexcept\u001b[39;00m \u001b[39mTypeError\u001b[39;00m \u001b[39mas\u001b[39;00m err:\n\u001b[0;32m    443\u001b[0m         codes, categories \u001b[39m=\u001b[39m factorize(values, sort\u001b[39m=\u001b[39m\u001b[39mFalse\u001b[39;00m)\n",
      "File \u001b[1;32m~\\AppData\\Local\\Packages\\PythonSoftwareFoundation.Python.3.10_qbz5n2kfra8p0\\LocalCache\\local-packages\\Python310\\site-packages\\pandas\\core\\algorithms.py:822\u001b[0m, in \u001b[0;36mfactorize\u001b[1;34m(values, sort, na_sentinel, use_na_sentinel, size_hint)\u001b[0m\n\u001b[0;32m    819\u001b[0m             \u001b[39m# Don't modify (potentially user-provided) array\u001b[39;00m\n\u001b[0;32m    820\u001b[0m             values \u001b[39m=\u001b[39m np\u001b[39m.\u001b[39mwhere(null_mask, na_value, values)\n\u001b[1;32m--> 822\u001b[0m     codes, uniques \u001b[39m=\u001b[39m factorize_array(\n\u001b[0;32m    823\u001b[0m         values,\n\u001b[0;32m    824\u001b[0m         na_sentinel\u001b[39m=\u001b[39;49mna_sentinel_arg,\n\u001b[0;32m    825\u001b[0m         size_hint\u001b[39m=\u001b[39;49msize_hint,\n\u001b[0;32m    826\u001b[0m     )\n\u001b[0;32m    828\u001b[0m \u001b[39mif\u001b[39;00m sort \u001b[39mand\u001b[39;00m \u001b[39mlen\u001b[39m(uniques) \u001b[39m>\u001b[39m \u001b[39m0\u001b[39m:\n\u001b[0;32m    829\u001b[0m     \u001b[39mif\u001b[39;00m na_sentinel \u001b[39mis\u001b[39;00m \u001b[39mNone\u001b[39;00m:\n\u001b[0;32m    830\u001b[0m         \u001b[39m# TODO: Can remove when na_sentinel=na_sentinel as in TODO above\u001b[39;00m\n",
      "File \u001b[1;32m~\\AppData\\Local\\Packages\\PythonSoftwareFoundation.Python.3.10_qbz5n2kfra8p0\\LocalCache\\local-packages\\Python310\\site-packages\\pandas\\core\\algorithms.py:578\u001b[0m, in \u001b[0;36mfactorize_array\u001b[1;34m(values, na_sentinel, size_hint, na_value, mask)\u001b[0m\n\u001b[0;32m    575\u001b[0m hash_klass, values \u001b[39m=\u001b[39m _get_hashtable_algo(values)\n\u001b[0;32m    577\u001b[0m table \u001b[39m=\u001b[39m hash_klass(size_hint \u001b[39mor\u001b[39;00m \u001b[39mlen\u001b[39m(values))\n\u001b[1;32m--> 578\u001b[0m uniques, codes \u001b[39m=\u001b[39m table\u001b[39m.\u001b[39;49mfactorize(\n\u001b[0;32m    579\u001b[0m     values,\n\u001b[0;32m    580\u001b[0m     na_sentinel\u001b[39m=\u001b[39;49mna_sentinel,\n\u001b[0;32m    581\u001b[0m     na_value\u001b[39m=\u001b[39;49mna_value,\n\u001b[0;32m    582\u001b[0m     mask\u001b[39m=\u001b[39;49mmask,\n\u001b[0;32m    583\u001b[0m     ignore_na\u001b[39m=\u001b[39;49mignore_na,\n\u001b[0;32m    584\u001b[0m )\n\u001b[0;32m    586\u001b[0m \u001b[39m# re-cast e.g. i8->dt64/td64, uint8->bool\u001b[39;00m\n\u001b[0;32m    587\u001b[0m uniques \u001b[39m=\u001b[39m _reconstruct_data(uniques, original\u001b[39m.\u001b[39mdtype, original)\n",
      "\u001b[1;31mKeyboardInterrupt\u001b[0m: "
     ]
    }
   ],
   "source": [
    "#データ読み込み\n",
    "df_cluster0 = pd.read_csv('./2014_drop.csv') # 学習データの読み込み\n",
    "df_cluster1 = pd.read_csv('./2015_drop.csv') # 検証データの読み込み\n",
    "df_cluster2 = pd.read_csv('./RackEnv_201604-201703.csv') # 提出用サンプルデータの読み込み\n",
    "#df_clusterall = pd.read_csv('./RackEnv_201404-201703.csv') # 提出用サンプルデータの読み込み\n",
    "df_cluster0['time'] = pd.to_datetime(df_cluster0['time'])\n",
    "df_cluster1['time'] = pd.to_datetime(df_cluster1['time'])\n",
    "df_cluster2['time'] = pd.to_datetime(df_cluster2['time'].astype(str))\n",
    "df_cluster0=df_cluster0.sort_values(['time','space'])\n",
    "df_cluster1=df_cluster1.sort_values(['time','space'])\n",
    "df_cluster2=df_cluster2.sort_values(['time','space'])"
   ]
  },
  {
   "cell_type": "code",
   "execution_count": null,
   "metadata": {},
   "outputs": [
    {
     "name": "stdout",
     "output_type": "stream",
     "text": [
      "             time  space  AirIn  AirOut    CPU  Water\n",
      "0      2014-04-01      1  19.84   24.13  16.83  15.65\n",
      "1      2014-04-01      2  25.04   24.55  16.72  16.42\n",
      "2      2014-04-01      4  20.62   24.80  16.89  16.28\n",
      "3      2014-04-01      5  19.85   25.00  17.16  15.60\n",
      "4      2014-04-01      6  23.21   24.66  16.80  15.11\n",
      "...           ...    ...    ...     ...    ...    ...\n",
      "307579 2015-03-31   1075  20.09   24.30  17.42  15.55\n",
      "307580 2015-03-31   1076  19.96   25.19  17.57  15.58\n",
      "307581 2015-03-31   1077  20.14   24.66  17.50  14.94\n",
      "307582 2015-03-31   1079  24.25   24.32  17.70  16.21\n",
      "307583 2015-03-31   1080  19.41   25.45  17.78  15.55\n",
      "\n",
      "[307584 rows x 6 columns]\n"
     ]
    }
   ],
   "source": [
    "print(df_cluster0)"
   ]
  },
  {
   "cell_type": "code",
   "execution_count": null,
   "metadata": {},
   "outputs": [],
   "source": [
    "#df_failure=df_cluster0[['MEM_failure']]"
   ]
  },
  {
   "cell_type": "code",
   "execution_count": null,
   "metadata": {
    "colab": {
     "base_uri": "https://localhost:8080/",
     "height": 70
    },
    "executionInfo": {
     "elapsed": 14,
     "status": "ok",
     "timestamp": 1672373824548,
     "user": {
      "displayName": "学生1935084t",
      "userId": "12227631716568337195"
     },
     "user_tz": -540
    },
    "id": "pT6ygNG4-pcm",
    "outputId": "0800f881-9940-461f-cd49-434bba7607af"
   },
   "outputs": [
    {
     "data": {
      "text/plain": [
       "\"\\ndf_cluster0 = df_cluster0[['CPU', 'Water']]\\ndf_cluster1 = df_cluster1[['CPU', 'Water']]\\ndf_cluster2 = df_cluster2[[ 'CPU', 'Water']]\\ndf_clusterall = df_clusterall[[ 'CPU', 'Water']]\\n\""
      ]
     },
     "execution_count": 8,
     "metadata": {},
     "output_type": "execute_result"
    }
   ],
   "source": [
    "#データ削除\n",
    "df_cluster0 = df_cluster0[['AirIn','AirOut', 'CPU', 'Water']]\n",
    "df_cluster1 = df_cluster1[['AirIn','AirOut', 'CPU', 'Water']]\n",
    "df_cluster2 = df_cluster2[['AirIn','AirOut', 'CPU', 'Water']]\n",
    "#df_clusterall = df_clusterall[['AirIn','AirOut', 'CPU', 'Water']]\n",
    "\"\"\"\n",
    "df_cluster0 = df_cluster0[['CPU', 'Water']]\n",
    "df_cluster1 = df_cluster1[['CPU', 'Water']]\n",
    "df_cluster2 = df_cluster2[[ 'CPU', 'Water']]\n",
    "df_clusterall = df_clusterall[[ 'CPU', 'Water']]\n",
    "\"\"\""
   ]
  },
  {
   "cell_type": "code",
   "execution_count": null,
   "metadata": {
    "colab": {
     "base_uri": "https://localhost:8080/"
    },
    "executionInfo": {
     "elapsed": 479,
     "status": "ok",
     "timestamp": 1672373825017,
     "user": {
      "displayName": "学生1935084t",
      "userId": "12227631716568337195"
     },
     "user_tz": -540
    },
    "id": "exIAshxh1786",
    "outputId": "24f6703c-05fe-4421-fc53-ed54ee3fa1cb"
   },
   "outputs": [
    {
     "name": "stdout",
     "output_type": "stream",
     "text": [
      "        AirIn  AirOut    CPU  Water\n",
      "0       19.84   24.13  16.83  15.65\n",
      "1       25.04   24.55  16.72  16.42\n",
      "2       20.62   24.80  16.89  16.28\n",
      "3       19.85   25.00  17.16  15.60\n",
      "4       23.21   24.66  16.80  15.11\n",
      "...       ...     ...    ...    ...\n",
      "307579  20.09   24.30  17.42  15.55\n",
      "307580  19.96   25.19  17.57  15.58\n",
      "307581  20.14   24.66  17.50  14.94\n",
      "307582  24.25   24.32  17.70  16.21\n",
      "307583  19.41   25.45  17.78  15.55\n",
      "\n",
      "[307584 rows x 4 columns]\n"
     ]
    }
   ],
   "source": [
    "print(df_cluster0)"
   ]
  },
  {
   "cell_type": "code",
   "execution_count": null,
   "metadata": {
    "colab": {
     "base_uri": "https://localhost:8080/",
     "height": 52
    },
    "executionInfo": {
     "elapsed": 14,
     "status": "ok",
     "timestamp": 1672373825017,
     "user": {
      "displayName": "学生1935084t",
      "userId": "12227631716568337195"
     },
     "user_tz": -540
    },
    "id": "OIp-BqvE-rZE",
    "outputId": "988a3e23-228d-44a8-d381-da6ec6370218"
   },
   "outputs": [],
   "source": [
    "\n",
    "df_cluster0_sc = preprocessing.scale(df_cluster0, axis=0)\n",
    "df_cluster1_sc = preprocessing.scale(df_cluster1, axis=0)\n",
    "df_cluster2_sc = preprocessing.scale(df_cluster2, axis=0)\n",
    "#df_clusterall_sc = preprocessing.scale(df_clusterall, axis=0)\n",
    "\n",
    "\n",
    "df_cluster0 = df_cluster0.values\n",
    "df_cluster1 = df_cluster1.values\n",
    "df_cluster2 = df_cluster2.values\n",
    "#df_clusterall = df_clusterall.values\n"
   ]
  },
  {
   "cell_type": "code",
   "execution_count": null,
   "metadata": {
    "executionInfo": {
     "elapsed": 11,
     "status": "ok",
     "timestamp": 1672373825018,
     "user": {
      "displayName": "学生1935084t",
      "userId": "12227631716568337195"
     },
     "user_tz": -540
    },
    "id": "iG2mBQ4v-taQ"
   },
   "outputs": [
    {
     "name": "stdout",
     "output_type": "stream",
     "text": [
      "153\n",
      "30\n",
      "238\n"
     ]
    },
    {
     "data": {
      "text/plain": [
       "'\\ntensor_0 = ttensor_0\\n#print(tensor_0[1,0,0])\\ntensor_1 = ttensor_1\\n#print(tensor_1[1,0,0])\\ntensor_2 = ttensor_2\\n#print(tensor_2[1,0,0])\\n#ttensor_all = df_clusterall.reshape(-1, 864, 4)\\ntensor_all=ttensor_all\\n#print(tensor_2[1,0,0])\\n'"
      ]
     },
     "execution_count": 11,
     "metadata": {},
     "output_type": "execute_result"
    }
   ],
   "source": [
    "#テンソル化\n",
    "\n",
    "\n",
    "ttensor_init = df_cluster1.reshape(-1, 864, 4)\n",
    "\n",
    "total1 = sum(months[:month1])\n",
    "print(total1)\n",
    "\n",
    "total2 = sum(months[:month2])\n",
    "print(total2)\n",
    "\n",
    "total3 = sum(months[:month3])\n",
    "print(total3)\n",
    "\n",
    "ttensor_0 = ttensor_init[total1:total1+months[month1],:,:]\n",
    "\n",
    "#print(tensor_0[1,0,0])\n",
    "ttensor_1 = ttensor_init[total2:total2+months[month2],:,:]\n",
    "#print(tensor_1[1,0,0])\n",
    "#ttensor_2 = df_cluster2.reshape(-1, 864, 4)\n",
    "ttensor_2 = ttensor_init[total3:total3+months[month3],:,:]\n",
    "#print(tensor_2[1,0,0])\n",
    "#ttensor_all = df_clusterall.reshape(-1, 864, 4)\n",
    "ttensor_all=(ttensor_0[:min(months[month1],months[month2],months[month3]),:,:]+ttensor_1[:min(months[month1],months[month2],months[month3]),:,:]+ttensor_2[:min(months[month1],months[month2],months[month3]),:,:])/3\n",
    "#print(tensor_2[1,0,0])\n",
    "\n",
    "\n",
    "tensor_init = df_cluster1_sc.reshape(-1, 864, 4)\n",
    "\n",
    "tensor_0 = tensor_init[total1:total1+months[month1],:,:]\n",
    "#print(tensor_0[1,0,0])\n",
    "tensor_1 = tensor_init[total2:total2+months[month2],:,:]\n",
    "#print(tensor_1[1,0,0])\n",
    "#tensor_2 = df_cluster2_sc.reshape(-1, 864, 4)\n",
    "tensor_2 = tensor_init[total3:total3+months[month3],:,:]\n",
    "#print(tensor_2[1,0,0])\n",
    "tensor_all=(tensor_0[:min(months[month1],months[month2],months[month3]),:,:]+tensor_1[:min(months[month1],months[month2],months[month3]),:,:]+tensor_2[:min(months[month1],months[month2],months[month3]),:,:])/3\n",
    "#print(tensor_2[1,0,0])\n",
    "\n",
    "\"\"\"\n",
    "ttensor_0 = df_cluster0.reshape(-1, 864, 4)\n",
    "#print(tensor_0[1,0,0])\n",
    "ttensor_1 = df_cluster1.reshape(-1, 864, 4)\n",
    "#print(tensor_1[1,0,0])\n",
    "ttensor_2 = df_cluster2.reshape(-1, 864, 4)\n",
    "#print(tensor_2[1,0,0])\n",
    "#ttensor_all = df_clusterall.reshape(-1, 864, 4)\n",
    "ttensor_all=(ttensor_0+ttensor_1+ttensor_2)/3\n",
    "#print(tensor_2[1,0,0])\n",
    "\n",
    "\n",
    "tensor_0 = df_cluster0_sc.reshape(-1, 864, 4)\n",
    "#print(tensor_0[1,0,0])\n",
    "tensor_1 = df_cluster1_sc.reshape(-1, 864, 4)\n",
    "#print(tensor_1[1,0,0])\n",
    "tensor_2 = df_cluster2_sc.reshape(-1, 864, 4)\n",
    "#print(tensor_2[1,0,0])\n",
    "tensor_all=(tensor_0+tensor_1+tensor_2)/3\n",
    "#print(tensor_2[1,0,0])\n",
    "\"\"\"\n",
    "\n",
    "\"\"\"\n",
    "tensor_0 = ttensor_0\n",
    "#print(tensor_0[1,0,0])\n",
    "tensor_1 = ttensor_1\n",
    "#print(tensor_1[1,0,0])\n",
    "tensor_2 = ttensor_2\n",
    "#print(tensor_2[1,0,0])\n",
    "#ttensor_all = df_clusterall.reshape(-1, 864, 4)\n",
    "tensor_all=ttensor_all\n",
    "#print(tensor_2[1,0,0])\n",
    "\"\"\""
   ]
  },
  {
   "cell_type": "code",
   "execution_count": null,
   "metadata": {
    "colab": {
     "base_uri": "https://localhost:8080/",
     "height": 35
    },
    "executionInfo": {
     "elapsed": 10,
     "status": "ok",
     "timestamp": 1672373825018,
     "user": {
      "displayName": "学生1935084t",
      "userId": "12227631716568337195"
     },
     "user_tz": -540
    },
    "id": "Hu_SfMP_SOFx",
    "outputId": "6bc814b4-7797-400b-e009-7a2464f9a1f3"
   },
   "outputs": [
    {
     "data": {
      "text/plain": [
       "'\\ntensor_0=np.delete(tensor_0,0,axis=1)\\nprint(tensor_0.shape)\\n'"
      ]
     },
     "execution_count": 12,
     "metadata": {},
     "output_type": "execute_result"
    }
   ],
   "source": [
    "#axis=0,奥行,axis=1,行、axis=2,列\n",
    "\"\"\"\n",
    "tensor_0=np.delete(tensor_0,0,axis=1)\n",
    "print(tensor_0.shape)\n",
    "\"\"\""
   ]
  },
  {
   "cell_type": "code",
   "execution_count": null,
   "metadata": {},
   "outputs": [],
   "source": [
    "#tensor_failure =df_failure.values.reshape(-1, 864)"
   ]
  },
  {
   "cell_type": "code",
   "execution_count": null,
   "metadata": {},
   "outputs": [],
   "source": [
    "#print(np.where(tensor_failure == 1))"
   ]
  },
  {
   "attachments": {},
   "cell_type": "markdown",
   "metadata": {
    "id": "Ks_basza-2XR"
   },
   "source": [
    "# テンソル分解"
   ]
  },
  {
   "attachments": {},
   "cell_type": "markdown",
   "metadata": {
    "id": "t70W9uqz-6bF"
   },
   "source": [
    "## import"
   ]
  },
  {
   "cell_type": "code",
   "execution_count": null,
   "metadata": {
    "colab": {
     "base_uri": "https://localhost:8080/"
    },
    "executionInfo": {
     "elapsed": 9950,
     "status": "ok",
     "timestamp": 1672373834959,
     "user": {
      "displayName": "学生1935084t",
      "userId": "12227631716568337195"
     },
     "user_tz": -540
    },
    "id": "PJY7H-4W-6DW",
    "outputId": "187b3687-56be-4467-883a-18d1e10b68d0"
   },
   "outputs": [
    {
     "name": "stdout",
     "output_type": "stream",
     "text": [
      "Requirement already satisfied: tensorly in c:\\users\\cocon\\anaconda3\\lib\\site-packages (0.8.1)\n",
      "Requirement already satisfied: numpy in c:\\users\\cocon\\anaconda3\\lib\\site-packages (from tensorly) (1.18.5)\n",
      "Requirement already satisfied: scipy in c:\\users\\cocon\\anaconda3\\lib\\site-packages (from tensorly) (1.5.0)\n"
     ]
    }
   ],
   "source": [
    "!pip install -U tensorly"
   ]
  },
  {
   "cell_type": "code",
   "execution_count": null,
   "metadata": {
    "executionInfo": {
     "elapsed": 7,
     "status": "ok",
     "timestamp": 1672373834960,
     "user": {
      "displayName": "学生1935084t",
      "userId": "12227631716568337195"
     },
     "user_tz": -540
    },
    "id": "Gusl0k_y-_6z"
   },
   "outputs": [],
   "source": [
    "import tensorly as tl\n",
    "import numpy as np\n",
    "from tensorly.decomposition import tucker\n",
    "from matplotlib import pyplot as plt\n",
    "from tensorly.base import unfold\n",
    "from tensorly.tenalg import multi_mode_dot, mode_dot\n",
    "from tensorly.tucker_tensor import tucker_to_tensor, TuckerTensor, validate_tucker_rank, tucker_normalize\n",
    "from tensorly.decomposition import non_negative_parafac, non_negative_tucker"
   ]
  },
  {
   "attachments": {},
   "cell_type": "markdown",
   "metadata": {
    "id": "ht2gMM-r_b_M"
   },
   "source": [
    "## テンソル分解"
   ]
  },
  {
   "cell_type": "code",
   "execution_count": null,
   "metadata": {
    "executionInfo": {
     "elapsed": 583,
     "status": "ok",
     "timestamp": 1672373835537,
     "user": {
      "displayName": "学生1935084t",
      "userId": "12227631716568337195"
     },
     "user_tz": -540
    },
    "id": "UsraaUhZ_T6y"
   },
   "outputs": [],
   "source": [
    "def non_negative_tucker_core(tensor, rank,mcore,mfactors,ntensor, n_iter_max=1000, init='svd', tol=10e-6,\n",
    "                        random_state=None, verbose=False, return_errors=False,\n",
    "                        normalize_factors=False):\n",
    "    \"\"\"Non-negative Tucker decomposition\n",
    "\n",
    "        Iterative multiplicative update, see [2]_\n",
    "\n",
    "    Parameters\n",
    "    ----------\n",
    "    tensor : ``ndarray``\n",
    "    rank : None, int or int list\n",
    "        size of the core tensor, ``(len(ranks) == tensor.ndim)``\n",
    "        if int, the same rank is used for all modes\n",
    "    n_iter_max : int\n",
    "        maximum number of iteration\n",
    "    init : {'svd', 'random'}\n",
    "    random_state : {None, int, np.random.RandomState}\n",
    "    verbose : int , optional\n",
    "        level of verbosity\n",
    "    ranks : None or int list\n",
    "    size of the core tensor\n",
    "    normalize_factors : if True, aggregates the core which will contain the norms of the factors.\n",
    "\n",
    "    Returns\n",
    "    -------\n",
    "    core : ndarray\n",
    "            positive core of the Tucker decomposition\n",
    "            has shape `ranks`\n",
    "    factors : ndarray list\n",
    "            list of factors of the CP decomposition\n",
    "            element `i` is of shape ``(tensor.shape[i], rank)``\n",
    "\n",
    "    References\n",
    "    ----------\n",
    "    .. [2] Yong-Deok Kim and Seungjin Choi,\n",
    "       \"Non-negative tucker decomposition\",\n",
    "       IEEE Conference on Computer Vision and Pattern Recognition s(CVPR),\n",
    "       pp 1-8, 2007\n",
    "    \"\"\"\n",
    "    rank = validate_tucker_rank(tl.shape(tensor), rank=rank)\n",
    "\n",
    "    epsilon = 10e-12\n",
    "\n",
    "    # Initialisation\n",
    "    if init == 'svd':\n",
    "        core, factors = tucker(tensor, rank)\n",
    "        #core1,factors=tucker(ntensor,rank)\n",
    "        nn_factors = [tl.abs(f) for f in factors]\n",
    "        nn_core = tl.abs(core)\n",
    "    else:\n",
    "        rng = tl.check_random_state(random_state)\n",
    "        core = tl.tensor(rng.random_sample(rank) + 0.01, **tl.context(tensor))  # Check this\n",
    "        factors = [tl.tensor(rng.random_sample(s), **tl.context(tensor)) for s in zip(tl.shape(tensor), rank)]\n",
    "        nn_factors = [tl.abs(f) for f in factors]\n",
    "        nn_core = tl.abs(core)\n",
    "\n",
    "    norm_tensor = tl.norm(tensor, 2)\n",
    "    rec_errors = []\n",
    "    nn_core=tl.abs(mcore)#\n",
    "    #nn_factors[2]=mfactors[2] #\n",
    "    for iteration in range(n_iter_max):\n",
    "        for mode in range(tl.ndim(tensor)):\n",
    "            B = tucker_to_tensor((nn_core, nn_factors), skip_factor=mode)\n",
    "            B = tl.transpose(unfold(B, mode))\n",
    "\n",
    "            numerator = tl.dot(unfold(tensor, mode), B)\n",
    "            numerator = tl.clip(numerator, a_min=epsilon, a_max=None)\n",
    "            denominator = tl.dot(nn_factors[mode], tl.dot(tl.transpose(B), B))\n",
    "            denominator = tl.clip(denominator, a_min=epsilon, a_max=None)\n",
    "            nn_factors[mode] *= numerator / denominator\n",
    "\n",
    "        numerator = tucker_to_tensor((tensor, nn_factors), transpose_factors=True)\n",
    "        numerator = tl.clip(numerator, a_min=epsilon, a_max=None)\n",
    "        for i, f in enumerate(nn_factors):\n",
    "            if i:\n",
    "                denominator = mode_dot(denominator, tl.dot(tl.transpose(f), f), i)\n",
    "            else:\n",
    "                denominator = mode_dot(nn_core, tl.dot(tl.transpose(f), f), i)\n",
    "        denominator = tl.clip(denominator, a_min=epsilon, a_max=None)\n",
    "        #nn_core *= numerator / denominator#\n",
    "\n",
    "        rec_error = tl.norm(tensor - tucker_to_tensor((nn_core, nn_factors)), 2) / norm_tensor\n",
    "        rec_errors.append(rec_error)\n",
    "        if iteration > 1 and verbose:\n",
    "            print('reconstruction error={}, variation={}.'.format(\n",
    "                rec_errors[-1], rec_errors[-2] - rec_errors[-1]))\n",
    "\n",
    "        if iteration > 100 and abs(rec_errors[-2] - rec_errors[-1]) < tol:\n",
    "            if verbose:\n",
    "                print('converged in {} iterations.'.format(iteration))\n",
    "            break\n",
    "        if normalize_factors:\n",
    "            nn_core, nn_factors = tucker_normalize((nn_core, nn_factors))\n",
    "    tensor = TuckerTensor((nn_core, nn_factors))\n",
    "    if return_errors:\n",
    "        return tensor, rec_errors\n",
    "    else:\n",
    "        print(\"rec_errors\")\n",
    "        print(rec_errors)\n",
    "        return tensor\n"
   ]
  },
  {
   "cell_type": "code",
   "execution_count": null,
   "metadata": {
    "executionInfo": {
     "elapsed": 10,
     "status": "ok",
     "timestamp": 1672373835538,
     "user": {
      "displayName": "学生1935084t",
      "userId": "12227631716568337195"
     },
     "user_tz": -540
    },
    "id": "fLXANqhAGT1l"
   },
   "outputs": [],
   "source": [
    "def ntd(tensor,rank_list):\n",
    "  return non_negative_tucker(tensor, rank_list, tol=1.0e-10, n_iter_max=100)"
   ]
  },
  {
   "attachments": {},
   "cell_type": "markdown",
   "metadata": {
    "id": "Uppp086L_j91"
   },
   "source": [
    "## プロット"
   ]
  },
  {
   "cell_type": "code",
   "execution_count": null,
   "metadata": {
    "executionInfo": {
     "elapsed": 10,
     "status": "ok",
     "timestamp": 1672373835538,
     "user": {
      "displayName": "学生1935084t",
      "userId": "12227631716568337195"
     },
     "user_tz": -540
    },
    "id": "w-mS2KFpAMpv"
   },
   "outputs": [],
   "source": [
    "import seaborn as sns\n",
    "import matplotlib.pyplot as plt"
   ]
  },
  {
   "cell_type": "code",
   "execution_count": null,
   "metadata": {
    "executionInfo": {
     "elapsed": 10,
     "status": "ok",
     "timestamp": 1672373835539,
     "user": {
      "displayName": "学生1935084t",
      "userId": "12227631716568337195"
     },
     "user_tz": -540
    },
    "id": "KOdI5urr_rSF"
   },
   "outputs": [],
   "source": [
    "def heatfacpltracwiden(t0,t1,t2,t3,m,n):\n",
    "  plt.figure(figsize=(1*10,1*10))\n",
    "  a=t0[1][:,m].T.reshape(36,24)\n",
    "  b=t1[1][:,m].T.reshape(36,24)\n",
    "  c=t2[1][:,m].T.reshape(36,24)\n",
    "  d=t3[1][:,m].T.reshape(36,24)\n",
    "  plt.subplot(n,4,m*4+1)\n",
    "  sns.heatmap(a,vmin=0, vmax=1)\n",
    "  plt.subplot(n,4,m*4+2)\n",
    "  sns.heatmap(b,vmin=0, vmax=1)\n",
    "  plt.subplot(n,4,m*4+3)\n",
    "  sns.heatmap(c,vmin=0, vmax=1)\n",
    "  plt.subplot(n,4,m*4+4)\n",
    "  sns.heatmap(d,vmin=0, vmax=1)"
   ]
  },
  {
   "cell_type": "code",
   "execution_count": null,
   "metadata": {
    "executionInfo": {
     "elapsed": 9,
     "status": "ok",
     "timestamp": 1672373835539,
     "user": {
      "displayName": "学生1935084t",
      "userId": "12227631716568337195"
     },
     "user_tz": -540
    },
    "id": "pHlcT85Qkhe9"
   },
   "outputs": [],
   "source": [
    "def heattimeplt(t0,t1,t2,t3):\n",
    "  plt.figure(figsize=(1*10,1*10))\n",
    "  plt.subplot(1,4,1)\n",
    "  sns.heatmap(t0[0][:,:])\n",
    "  plt.subplot(1,4,2)\n",
    "  sns.heatmap(t1[0][:,:])\n",
    "  plt.subplot(1,4,3)\n",
    "  sns.heatmap(t2[0][:,:])\n",
    "  plt.subplot(1,4,4)\n",
    "  sns.heatmap(t3[0][:,:])"
   ]
  },
  {
   "attachments": {},
   "cell_type": "markdown",
   "metadata": {
    "id": "Yc5nouG4abZb"
   },
   "source": [
    "特徴ベクトルをひとつめは5以下二つ目は10以下などできないか？"
   ]
  },
  {
   "attachments": {},
   "cell_type": "markdown",
   "metadata": {
    "id": "nFNLHsrsh9ND"
   },
   "source": [
    "実験で様々な分析が出来るように、棒グラフなどいろいろ入れたい"
   ]
  },
  {
   "attachments": {},
   "cell_type": "markdown",
   "metadata": {
    "id": "hpye6TEirNPq"
   },
   "source": [
    "データフレーム実装\n",
    "\n",
    "空間軸ヒートマップ〇\n",
    "\n",
    "時間軸ヒートマップ〇\n",
    "\n",
    "時間軸線グラフ〇\n",
    "\n",
    "測定軸ヒートマップと棒グラフ〇\n",
    "\n",
    "コアテンソルヒートマップもしくは、数値 〇\n",
    "\n",
    "元データの値を選択からの表示\n",
    "\n",
    "個別逆テンソル復元をし、元データの特徴を比較"
   ]
  },
  {
   "attachments": {},
   "cell_type": "markdown",
   "metadata": {
    "id": "1yIUr_Gfj9ce"
   },
   "source": [
    "##データフレーム関数"
   ]
  },
  {
   "cell_type": "code",
   "execution_count": null,
   "metadata": {
    "executionInfo": {
     "elapsed": 7,
     "status": "ok",
     "timestamp": 1672373835539,
     "user": {
      "displayName": "学生1935084t",
      "userId": "12227631716568337195"
     },
     "user_tz": -540
    },
    "id": "bEv3fmyR9-Ov"
   },
   "outputs": [],
   "source": [
    "def spaceHeatPlot(b0,b1,b2,b3,rl):\n",
    "  for num in range(0,rl[1]):\n",
    "    heatfacpltracwiden(b0,b1,b2,b3,num,rl[1])"
   ]
  },
  {
   "cell_type": "code",
   "execution_count": null,
   "metadata": {
    "executionInfo": {
     "elapsed": 8,
     "status": "ok",
     "timestamp": 1672373835540,
     "user": {
      "displayName": "学生1935084t",
      "userId": "12227631716568337195"
     },
     "user_tz": -540
    },
    "id": "MtM9Aw2e-4is"
   },
   "outputs": [],
   "source": [
    "def timeHeatPlot(b0,b1,b2,b3,rl):\n",
    "  heattimeplt(b0,b1,b2,b3)"
   ]
  },
  {
   "cell_type": "code",
   "execution_count": null,
   "metadata": {
    "executionInfo": {
     "elapsed": 7,
     "status": "ok",
     "timestamp": 1672373835540,
     "user": {
      "displayName": "学生1935084t",
      "userId": "12227631716568337195"
     },
     "user_tz": -540
    },
    "id": "Xza6TIGhZdvS"
   },
   "outputs": [],
   "source": [
    "def timeLinePlot(b0,b1,b2,b3,rl):\n",
    "  n=rl[0]\n",
    "  plt.figure(figsize=(1*10,1*10))\n",
    "\n",
    "  sns.relplot(data=b0[0][:,:], kind='line')\n",
    "  sns.relplot(data=b1[0][:,:], kind='line')\n",
    "  sns.relplot(data=b2[0][:,:], kind='line')\n",
    "  sns.relplot(data=b3[0][:,:], kind='line')"
   ]
  },
  {
   "cell_type": "code",
   "execution_count": null,
   "metadata": {
    "executionInfo": {
     "elapsed": 8,
     "status": "ok",
     "timestamp": 1672373835541,
     "user": {
      "displayName": "学生1935084t",
      "userId": "12227631716568337195"
     },
     "user_tz": -540
    },
    "id": "CjJD_y4w-P7R"
   },
   "outputs": [],
   "source": [
    "def measureHeatPlot(b0,b1,b2,b3,rl):\n",
    "  plt.figure(figsize=(1*10,1*10))\n",
    "  plt.subplot(1,4,1)\n",
    "  sns.heatmap(b0[2][:,:])\n",
    "  plt.subplot(1,4,2)\n",
    "  sns.heatmap(b1[2][:,:])\n",
    "  plt.subplot(1,4,3)\n",
    "  sns.heatmap(b2[2][:,:])\n",
    "  plt.subplot(1,4,4)\n",
    "  sns.heatmap(b3[2][:,:])"
   ]
  },
  {
   "cell_type": "code",
   "execution_count": null,
   "metadata": {
    "executionInfo": {
     "elapsed": 10,
     "status": "ok",
     "timestamp": 1672373835874,
     "user": {
      "displayName": "学生1935084t",
      "userId": "12227631716568337195"
     },
     "user_tz": -540
    },
    "id": "NBqYCybg-gWu"
   },
   "outputs": [],
   "source": [
    "def measureBarPlot(b0,b1,b2,b3,rl):\n",
    "  plt.figure(figsize=(1*10,1*10))\n",
    "  plt.subplot(1,4,1)\n",
    "  sns.barplot(data=b0[2])\n",
    "  plt.subplot(1,4,2)\n",
    "  sns.barplot(data=b1[2])\n",
    "  plt.subplot(1,4,3)\n",
    "  sns.barplot(data=b2[2])\n",
    "  plt.subplot(1,4,4)\n",
    "  sns.barplot(data=b3[2])"
   ]
  },
  {
   "cell_type": "code",
   "execution_count": null,
   "metadata": {
    "executionInfo": {
     "elapsed": 9,
     "status": "ok",
     "timestamp": 1672373835874,
     "user": {
      "displayName": "学生1935084t",
      "userId": "12227631716568337195"
     },
     "user_tz": -540
    },
    "id": "n6seKbVtDsns"
   },
   "outputs": [],
   "source": [
    "def coreHeatMap(a0,a1,a2,a3,rl):\n",
    "  n=rl[2]\n",
    "  for m in range(0,rl[2]):\n",
    "    #heatfacpltracwiden(b0,b1,b2,b3,num,rl[1])\n",
    "    plt.figure(figsize=(n*10,n*10))\n",
    "    plt.subplot(n,4,m*4+1)\n",
    "    sns.heatmap(a0[:,:,m],vmin=0, vmax=1)\n",
    "    plt.subplot(n,4,m*4+2)\n",
    "    sns.heatmap(a1[:,:,m],vmin=0, vmax=1)\n",
    "    plt.subplot(n,4,m*4+3)\n",
    "    sns.heatmap(a2[:,:,m],vmin=0, vmax=1)\n",
    "    plt.subplot(n,4,m*4+4)\n",
    "    sns.heatmap(a3[:,:,m],vmin=0, vmax=1)"
   ]
  },
  {
   "cell_type": "code",
   "execution_count": null,
   "metadata": {
    "executionInfo": {
     "elapsed": 9,
     "status": "ok",
     "timestamp": 1672373835875,
     "user": {
      "displayName": "学生1935084t",
      "userId": "12227631716568337195"
     },
     "user_tz": -540
    },
    "id": "xA4hfIjOLoyl"
   },
   "outputs": [],
   "source": [
    "def allPlot(a,b,rl):\n",
    "  plt.subplot(2,3,1)\n",
    "  sns.heatmap(b[0][:,:])\n",
    "  plt.subplot(2,3,2)\n",
    "  sns.heatmap(b[1][:,:])\n",
    "  plt.subplot(2,3,3)\n",
    "  sns.heatmap(b[2][:,:])\n",
    "  for m in range(0,rl[2]):\n",
    "    plt.subplot(2,3,m+4)\n",
    "    sns.heatmap(a[:,:,m])"
   ]
  },
  {
   "cell_type": "code",
   "execution_count": null,
   "metadata": {
    "executionInfo": {
     "elapsed": 8,
     "status": "ok",
     "timestamp": 1672373835875,
     "user": {
      "displayName": "学生1935084t",
      "userId": "12227631716568337195"
     },
     "user_tz": -540
    },
    "id": "JNNPJqNw9LFQ"
   },
   "outputs": [],
   "source": [
    "def spaceHeatDif(t0,t1,t2,t3,m,n):\n",
    "  plt.figure(figsize=(n*10,n*10))\n",
    "  a=t0[1][:,m].T.reshape(36,24)\n",
    "  b=t1[1][:,m].T.reshape(36,24)\n",
    "  c=t2[1][:,m].T.reshape(36,24)\n",
    "  d=t3[1][:,m].T.reshape(36,24)\n",
    "  ab=abs(a-b)\n",
    "  ac=abs(a-c)\n",
    "  bc=abs(b-c)\n",
    "  ad=abs(a-d)\n",
    "  bd=abs(b-d)\n",
    "  cd=abs(c-d)\n",
    "\n",
    "  plt.subplot(n,6,m*6+1)\n",
    "  print(\"01\")\n",
    "  sns.heatmap(ab,vmin=0, vmax=1)\n",
    "  plt.subplot(n,6,m*6+2)\n",
    "  print(\"02\")\n",
    "  sns.heatmap(ac,vmin=0, vmax=1)\n",
    "  plt.subplot(n,6,m*6+3)\n",
    "  print(\"12\")\n",
    "  sns.heatmap(bc,vmin=0, vmax=1)\n",
    "  plt.subplot(n,6,m*6+4)\n",
    "  print(\"0a\")\n",
    "  sns.heatmap(ad,vmin=0, vmax=1)\n",
    "  plt.subplot(n,6,m*6+5)\n",
    "  print(\"1a\")\n",
    "  sns.heatmap(bd,vmin=0, vmax=1)\n",
    "  plt.subplot(n,6,m*6+6)\n",
    "  print(\"2a\")\n",
    "  sns.heatmap(cd,vmin=0, vmax=1)\n",
    "  print(\"誤差\")\n",
    "  print(\"01\")\n",
    "  print(ab.sum())\n",
    "  print(\"02\")\n",
    "  print(ac.sum())\n",
    "  print(\"12\")\n",
    "  print(bc.sum())\n",
    "  print(\"0a\")\n",
    "  print(ad.sum())\n",
    "  print(\"1a\")\n",
    "  print(bd.sum())\n",
    "  print(\"2a\")\n",
    "  print(cd.sum()) "
   ]
  },
  {
   "cell_type": "code",
   "execution_count": null,
   "metadata": {
    "executionInfo": {
     "elapsed": 9,
     "status": "ok",
     "timestamp": 1672373835876,
     "user": {
      "displayName": "学生1935084t",
      "userId": "12227631716568337195"
     },
     "user_tz": -540
    },
    "id": "f2D28HB4B1H7"
   },
   "outputs": [],
   "source": [
    "def spaceRowHeatDif(t0,t1,t2,t3):\n",
    "  plt.figure(figsize=(1*10,1*10))\n",
    "  a=t0[1][:,:]\n",
    "  b=t1[1][:,:]\n",
    "  c=t2[1][:,:]\n",
    "  d=t3[1][:,:]\n",
    "  ab=abs(a-b)\n",
    "  ac=abs(a-c)\n",
    "  bc=abs(b-c)\n",
    "  ad=abs(a-d)\n",
    "  bd=abs(b-d)\n",
    "  cd=abs(c-d)\n",
    "\n",
    "  plt.subplot(1,6,1)\n",
    "  print(\"01\")\n",
    "  sns.heatmap(ab,vmin=0, vmax=1)\n",
    "  plt.subplot(1,6,2)\n",
    "  print(\"02\")\n",
    "  sns.heatmap(ac,vmin=0, vmax=1)\n",
    "  plt.subplot(1,6,3)\n",
    "  print(\"12\")\n",
    "  sns.heatmap(bc,vmin=0, vmax=1)\n",
    "  plt.subplot(1,6,4)\n",
    "  print(\"0a\")\n",
    "  sns.heatmap(ad,vmin=0, vmax=1)\n",
    "  plt.subplot(1,6,5)\n",
    "  print(\"1a\")\n",
    "  sns.heatmap(bd,vmin=0, vmax=1)\n",
    "  plt.subplot(1,6,6)\n",
    "  print(\"2a\")\n",
    "  sns.heatmap(cd,vmin=0, vmax=1)\n",
    "  print(\"誤差\")\n",
    "  print(\"01\")\n",
    "  print(ab.sum())\n",
    "  print(\"02\")\n",
    "  print(ac.sum())\n",
    "  print(\"12\")\n",
    "  print(bc.sum())\n",
    "  print(\"0a\")\n",
    "  print(ad.sum())\n",
    "  print(\"1a\")\n",
    "  print(bd.sum())\n",
    "  print(\"2a\")\n",
    "  print(cd.sum()) "
   ]
  },
  {
   "cell_type": "code",
   "execution_count": null,
   "metadata": {
    "executionInfo": {
     "elapsed": 8,
     "status": "ok",
     "timestamp": 1672373835876,
     "user": {
      "displayName": "学生1935084t",
      "userId": "12227631716568337195"
     },
     "user_tz": -540
    },
    "id": "mBn3XNiciOZJ"
   },
   "outputs": [],
   "source": [
    "def plotFream(t0,t1,t2,t3,rl):\n",
    "  tt0,u0=ntd(t0,rl)\n",
    "  a0,b0=non_negative_tucker_core(t0,rl,tt0)\n",
    "  a1,b1=non_negative_tucker_core(t1,rl,tt0)\n",
    "  a2,b2=non_negative_tucker_core(t2,rl,tt0)\n",
    "  a3,b3=non_negative_tucker_core(t3,rl,tt0)\n",
    "    \n",
    "  #spaceHeatPlot(b0,b1,b2,b3,rl)\n",
    "\n",
    "  #plt.subplot(2,1,1)\n",
    "  plt.subplot2grid((2, 2), (0, 0), colspan=2)\n",
    "  spaceHeatPlot(b0,b1,b2,b3,rl)\n",
    "  plt.title(\"spaceHeatPlot\")\n",
    "  #plt.subplot(2,1,2)\n",
    "  plt.subplot2grid((2, 2), (1, 0), colspan=2)\n",
    "  timeHeatPlot(b0,b1,b2,b3,rl)\n",
    "  plt.title(\"timeHeatPlot\")\n",
    "  \"\"\"\n",
    "  timeLinePlot(b0,b1,b2,b3,rl)\n",
    "  plt.title(\"timeLinePlot\")\n",
    "  measureHeatPlot(b0,b1,b2,b3,rl)\n",
    "  plt.title(\"measureHeatPlot\")\n",
    "  measureBarPlot(b0,b1,b2,b3,rl)  \n",
    "  plt.title(\"measureBarPlot\")\n",
    "  coreHeatMap(a0,a1,a2,a3,rl)\n",
    "  plt.title(\"coreHeatMap\")\n",
    "  allPlot(a0,b0,rl)\n",
    "  plt.title(\"allPlot\")\n",
    "  \n",
    "  \"\"\"\n",
    "  \"\"\"\n",
    "  n=rl[1]\n",
    "  for m in range(0,rl[1]):\n",
    "    spaceHeatDif(b0,b1,b2,b3,m,n)\n",
    "  \"\"\"\n",
    "  #spaceRowHeatDif(b0,b1,b2,b3)"
   ]
  },
  {
   "attachments": {},
   "cell_type": "markdown",
   "metadata": {
    "id": "hdGNXcOH_oxE"
   },
   "source": [
    "## 実験"
   ]
  },
  {
   "attachments": {},
   "cell_type": "markdown",
   "metadata": {
    "id": "tuduxthQevlZ"
   },
   "source": [
    "変数の固定　測定値の固定をすることでの、時間軸と空間軸の比較、ラック毎の差を見た後、その差を生み出している原因の特定のための元データを戻って比較"
   ]
  },
  {
   "cell_type": "code",
   "execution_count": null,
   "metadata": {
    "executionInfo": {
     "elapsed": 7,
     "status": "ok",
     "timestamp": 1672373835876,
     "user": {
      "displayName": "学生1935084t",
      "userId": "12227631716568337195"
     },
     "user_tz": -540
    },
    "id": "zd_aRRSQGV_7"
   },
   "outputs": [],
   "source": [
    "rl1=4\n",
    "rl2=4\n",
    "rl3=4\n",
    "rank_list=[rl1,rl2,rl3]"
   ]
  },
  {
   "cell_type": "code",
   "execution_count": null,
   "metadata": {
    "executionInfo": {
     "elapsed": 8,
     "status": "ok",
     "timestamp": 1672373835877,
     "user": {
      "displayName": "学生1935084t",
      "userId": "12227631716568337195"
     },
     "user_tz": -540
    },
    "id": "Ev9WS14KjJbV"
   },
   "outputs": [],
   "source": [
    "#plotFream(tensor_0,tensor_1,tensor_2,tensor_all,rank_list)"
   ]
  },
  {
   "attachments": {},
   "cell_type": "markdown",
   "metadata": {
    "id": "z71U506jfaBk"
   },
   "source": [
    "01の820番くらいが差が生まれているからその部分を比較するため、元データの比較と並び替えが必要"
   ]
  },
  {
   "cell_type": "code",
   "execution_count": null,
   "metadata": {
    "colab": {
     "base_uri": "https://localhost:8080/"
    },
    "executionInfo": {
     "elapsed": 41210,
     "status": "ok",
     "timestamp": 1672373877080,
     "user": {
      "displayName": "学生1935084t",
      "userId": "12227631716568337195"
     },
     "user_tz": -540
    },
    "id": "pzWP3PC0_Wwn",
    "outputId": "5d7bf73e-f397-4a5c-fd82-3910d880a856"
   },
   "outputs": [
    {
     "name": "stdout",
     "output_type": "stream",
     "text": [
      "rec_errors\n",
      "[0.8731135135770937, 0.8246105935809158, 0.8072990452990481, 0.7956731893882795, 0.7871215212365285, 0.7804350231942182, 0.774796891215064, 0.7697535837850257, 0.7650942954660864, 0.76078195654843, 0.7568558282449264, 0.7533784293400313, 0.7503818752593344, 0.7478444868462856, 0.7456989918861996, 0.7438606738279516, 0.7422496817618792, 0.7408118016025397, 0.7395268064287205, 0.7383856770836664, 0.7373733322363888, 0.7364736050106784, 0.7356806243609727, 0.7349809777096585, 0.7343569722146907, 0.733805022148166, 0.7333115936382775, 0.7328655619142547, 0.732455909780404, 0.7320778950047819, 0.7317354486117831, 0.7314276037627434, 0.7311414393860449, 0.7308812759018654, 0.7306473367464716, 0.7304310858794872, 0.7302302164350429, 0.7300436815939735, 0.729868661754923, 0.7297041178542136, 0.7295528932692874, 0.7294104900274057, 0.7292782798469576, 0.7291574346556704, 0.7290466177981666, 0.7289452009051203, 0.7288522528909815, 0.7287664380772771, 0.7286849574215145, 0.7286023662897687, 0.7285264885852822, 0.7284610851336877, 0.7283999379987511, 0.7283414335568458, 0.7282859714691451, 0.7282349235010765, 0.7281875834191422, 0.7281430455715154, 0.7281008616727369, 0.7280605800874365, 0.7280215161611203, 0.7279826197341386, 0.7279426245517058, 0.7279009282493539, 0.7278585164963286, 0.7278163810939589, 0.7277753130861696, 0.7277377717884066, 0.7277033219214114, 0.7276722195057718, 0.7276430182529371, 0.7276138072950314, 0.7275848711322253, 0.727558133344077, 0.7275349879307398, 0.7275152584953227, 0.72749802048423, 0.7274824414261393, 0.7274679832919474, 0.7274543331564403, 0.7274413110279941, 0.7274288079946931, 0.7274167491188173, 0.7274050695192734, 0.7273936939346972, 0.7273825060418324, 0.7273712719804063, 0.7273594316509121, 0.7273458165622989, 0.7273298550331851, 0.7273138854127367, 0.7272987312907608, 0.7272834406895173, 0.7272679109216217, 0.7272526999976547, 0.727238538902017, 0.7272259540300893, 0.7272150336249036, 0.7272054701798863, 0.7271968272506242, 0.7271887528570737, 0.7271810264674]\n",
      "rec_errors\n",
      "[0.984435643580162, 0.8698500270128312, 0.8305782634821669, 0.8292781947073912, 0.8286848453094999, 0.8279421353150552, 0.8269854364025839, 0.8257719206002885, 0.8242875481156507, 0.8225429661455657, 0.8205771614387027, 0.8185312750168998, 0.8165336611604005, 0.8146839269002928, 0.8130392512896547, 0.811633022425882, 0.810458350562771, 0.8094902305972791, 0.8086925908136181, 0.8080247500065242, 0.8074429467963827, 0.8069295909603743, 0.8064511297118812, 0.8059839674984373, 0.8055084312482803, 0.8049843048224793, 0.8044235140855153, 0.8037767118153855, 0.8030146822689812, 0.8021125636790866, 0.8010494377360364, 0.7998249541939378, 0.7984560207344655, 0.7969844751172986, 0.7954773222035245, 0.7940002210193214, 0.7925966148837075, 0.7912792329691865, 0.7900748514606195, 0.7890089028372053, 0.788044028996656, 0.7871865875539338, 0.7864291981313869, 0.7857603731753179, 0.7851673589017012, 0.784644484928213, 0.7841656394827831, 0.7837212317850126, 0.7833409703452642, 0.7829856688916677, 0.7826763814648301, 0.7824090884350634, 0.7821721275970106, 0.7819580223527822, 0.7817631500470394, 0.781585835616962, 0.7814243646094832, 0.7812765992544598, 0.7811399272140762, 0.7810116398094281, 0.780888009340505, 0.7807642578393463, 0.780632133247589, 0.780509973088477, 0.7804001685321709, 0.7803022268669236, 0.780212645890101, 0.780128000351791, 0.7800460485551041, 0.7799230301467923, 0.7798414133436644, 0.7797596393388978, 0.7796778657702019, 0.7795939698509917, 0.7795060994212246, 0.7794146269472224, 0.7793239825129517, 0.7792400399297786, 0.7791650250589773, 0.7790966200714277, 0.7790316675069917, 0.778968421115506, 0.7789059808466525, 0.7788430323820256, 0.7787779042271503, 0.7787096011342142, 0.7786387765498389, 0.7785681034581107, 0.7785012090152674, 0.7784242780041952, 0.778366791492848, 0.7783182650824972, 0.7782719005142181, 0.7782056967508252, 0.778160724561892, 0.7781179083356113, 0.7780710181530383, 0.7780163203483821, 0.7779529233053637, 0.7778858053022011, 0.7778191947472789, 0.7777527862199227, 0.7776840321132417, 0.7776049800320103, 0.7775464287920617, 0.7775028785201943, 0.7774650836626756, 0.777430215339234, 0.7773963117229925, 0.7773616776773313, 0.7773247882849396, 0.7772846317428562, 0.7772418261686793, 0.7771989957667006, 0.7771585564484501, 0.7771196811334112, 0.7770762487600174, 0.7770150159621028, 0.776952534170001, 0.7769001820312413, 0.776841502268931, 0.7767845173936203, 0.7767392282034644, 0.7767036700324987, 0.7766735861060206, 0.7766457274020895, 0.7766180502958097, 0.7765890616212926, 0.7765571809143477, 0.776520782588527, 0.7764796514010743, 0.7764365558242328, 0.7763962795448628, 0.7763621217687905, 0.7763332940597216, 0.7763069702233604, 0.7762808251181934, 0.7762536726438924, 0.7762257007428015, 0.7761984410797006, 0.7761735258208623, 0.7761512766744757, 0.7761309562135563, 0.776111789844174, 0.7760932691631627, 0.776071993376306, 0.776013547929727, 0.7759787845945708, 0.7759617154946817, 0.7759454519995262, 0.775929770570595, 0.7759146106569783, 0.7758998929996639, 0.7758855308003659, 0.775871467412652, 0.7758576657222087, 0.7758441271610393, 0.7758308899612804, 0.7758179999058916, 0.7758054734675093, 0.7757932974125235, 0.7757814306262681, 0.7757698178878022, 0.775758422428398, 0.7757472392713509, 0.7757363018235325, 0.7757256542914941, 0.7757153111269244, 0.7757052674587099, 0.7756955138565443]\n",
      "rec_errors\n",
      "[0.8416046676608364, 0.8042634620382952, 0.7901999981681194, 0.7807450564700419, 0.7741261200493945, 0.769070607935677, 0.764846802343867, 0.7610577543854041, 0.7574889537284712, 0.7540436339087009, 0.7507164763197002, 0.7475735405508048, 0.7446782174212676, 0.7420650144899814, 0.7397319470237411, 0.7376770471802577, 0.7358913590559487, 0.7343599639711216, 0.7330632691450667, 0.7319705181875042, 0.7310436427721588, 0.7302453140111503, 0.7295557965957586, 0.728962205248686, 0.7284280078223991, 0.7279362759066829, 0.727519794991326, 0.7271555610267341, 0.7268261931062968, 0.7265255320904759, 0.7262496333572497, 0.7259950692332774, 0.7257558594753839, 0.7255224472684371, 0.7253019555612712, 0.7250791107090466, 0.7248680555735971, 0.7246883706912882, 0.72452526549007, 0.7243623258432159, 0.7242041283521741, 0.7240412155529448, 0.723890560122194, 0.7237564854526335, 0.7236370736352704, 0.7235283228811362, 0.7234251969079949, 0.7233242219977513, 0.7232213567732898, 0.723115617728923, 0.7230164005890409, 0.7229293704887215, 0.7228500672502122, 0.7227750879305235, 0.7227032051684057, 0.7226339212156561, 0.722566914865652, 0.7225017428772046, 0.7224369424274681, 0.7223668523752618, 0.722283318063659, 0.7222092159860227, 0.7221513018248134, 0.7220982442450402, 0.7220474966164263, 0.7219983147196702, 0.7219496267804397, 0.7219025650315732, 0.7218581517109504, 0.7218147368672169, 0.7217716111646542, 0.7217305758259576, 0.7216849760462439, 0.72163860965165, 0.7216019228897135, 0.7215666439059426, 0.7215316313729614, 0.7214946677602158, 0.721450224552242, 0.7213975631634983, 0.7213514818723795, 0.7213069372280051, 0.7212374623171546, 0.7211589107603321, 0.7211122979173543, 0.7210784381025782, 0.7210481436132953, 0.7210172556356228, 0.720976633606806, 0.720923171585607, 0.7208869650458924, 0.7208611046878478, 0.7208360630273033, 0.7208041843724875, 0.7207498691570942, 0.7206657373283163, 0.7205909696077769, 0.7205483936197372, 0.7205182881633477, 0.7204930409248186, 0.720472476717491, 0.7204547635977812, 0.720438490916538, 0.720423031289175, 0.7204081512338696, 0.7203937587311554, 0.7203797732504206, 0.7203655415333073, 0.7203482655774377, 0.7203342861205493, 0.7203215830818801, 0.720308242484851, 0.7202919260317456, 0.7202735111628572, 0.7202595225350727, 0.7202481260510665, 0.7202374893878807, 0.7202272256244001, 0.7202172008741196, 0.7202059087945575, 0.7201710026844489, 0.7201549405209055, 0.7201458821209628]\n",
      "rec_errors\n",
      "[0.8788195861904157, 0.7878516591115259, 0.7771005684971867, 0.7691955620098608, 0.7623254419374391, 0.7566616429338758, 0.7519090689855898, 0.7477019092732198, 0.7437278466076084, 0.7397905251648121, 0.7358274953535359, 0.7318900068584226, 0.7280820424808736, 0.7244915621776533, 0.7211616419006014, 0.718126083848679, 0.7154101936819054, 0.713022758682344, 0.710958541690263, 0.709177058377114, 0.7076192151539369, 0.7062300750819982, 0.704978007173143, 0.7038381967640222, 0.702785327665144, 0.7017813425167904, 0.7008349458140752, 0.6999331134551344, 0.6991167462381228, 0.698432553719849, 0.6978487865841766, 0.6973266741655499, 0.6968452602099272, 0.6963801440325643, 0.6959450190535917, 0.6955544492597863, 0.6951839111851296, 0.6948583298917609, 0.6945709183573334, 0.6943080367981754, 0.6940575979175072, 0.6937896354810396, 0.6935363851078987, 0.6933402240111768, 0.6931633291314651, 0.6929975446406298, 0.6928401466312404, 0.6926951199079437, 0.6925633108886002, 0.6924415260167825, 0.6923279287871289, 0.6922213090015631, 0.6921215090853932, 0.6920277729958474, 0.6919387965272461, 0.691853702493659, 0.6917720581112771, 0.6916938596423811, 0.6916193355004887, 0.6915483443214813, 0.6914786416009899, 0.6913955475710788, 0.6912694104161471, 0.6912023442506765, 0.6911496407269181, 0.6911014414116751, 0.6910560592023818, 0.6910129891600842, 0.6909719505844363, 0.6909327316388653, 0.6908951829198388, 0.6908592419944857, 0.6908249084989622, 0.6907921550106586, 0.6907608906924426, 0.6907310028622494, 0.6907022210758748, 0.6906703755622118, 0.6905876132553701, 0.6905208015653642, 0.690494640902626, 0.6904696973013957, 0.6904453897419534, 0.6904216592603152, 0.6903983670186173, 0.6903746100794793, 0.6903478760942213, 0.690317789128049, 0.6902923466738488, 0.690272665064549, 0.690255023566739, 0.6902365316703108, 0.6901941223200218, 0.6901612946160539, 0.6901453455251627, 0.6901297493077276, 0.6901144394691203, 0.6900995792851458, 0.6900853144594079, 0.6900716893808196, 0.6900586323927961, 0.6900459750329048, 0.6900335545121513, 0.6900213070160238, 0.6900093111721561, 0.6899977287581007, 0.6899866063120316, 0.6899756754385926, 0.6899640977485078, 0.6899496096191454, 0.6899228379759335, 0.6898678041840972, 0.6898108336977576, 0.6897986545286462, 0.6897889397996952]\n",
      "0.44076510000002145\n"
     ]
    }
   ],
   "source": [
    "if cp==0:\n",
    "    tt0,u0=ntd(tensor_0,rank_list)\n",
    "    tt1,u1=ntd(tensor_1,rank_list)\n",
    "    tt2,u2=ntd(tensor_2,rank_list)\n",
    "    tt3,u3=ntd(tensor_all,rank_list)\n",
    "    \"\"\"\n",
    "    tt0=(tt0+tt1+tt2+tt3)\n",
    "    tt0=tt0/4    \n",
    "    \"\"\"\n",
    "    \n",
    "    tt0=(tt0+tt1+tt2)\n",
    "    tt0=tt0/3\n",
    "\n",
    "if cp==1:\n",
    "    tt0=np.zeros((rl1,rl2,rl3))\n",
    "    tt0[0,0,0]=1\n",
    "    tt0[1,1,1]=1\n",
    "    tt0[2,2,2]=1\n",
    "    tt0[3,3,3]=1\n",
    "\n",
    "import time\n",
    " \n",
    "# 開始\n",
    "start_time = time.perf_counter()\n",
    " \n",
    "# ダミー処理\n",
    "u0[2][0,0]=20\n",
    "a0,b0=non_negative_tucker_core(tensor_0,rank_list,tt0,u0,tensor_all)\n",
    "a1,b1=non_negative_tucker_core(tensor_1,rank_list,tt0,b0,tensor_all)\n",
    "a2,b2=non_negative_tucker_core(tensor_2,rank_list,tt0,b0,tensor_all)\n",
    "# 修了\n",
    "end_time = time.perf_counter()\n",
    " \n",
    "# 経過時間を出力(秒)\n",
    "elapsed_time0 = end_time - start_time\n",
    "\n",
    "\n",
    "# 開始\n",
    "start_time = time.perf_counter()\n",
    " \n",
    "# ダミー処理\n",
    "a3,b3=non_negative_tucker_core(tensor_all,rank_list,tt0,b0,tensor_all)\n",
    "# 修了\n",
    "end_time = time.perf_counter()\n",
    " \n",
    "# 経過時間を出力(秒)\n",
    "elapsed_time1 = end_time - start_time\n",
    "print(elapsed_time1)"
   ]
  },
  {
   "cell_type": "code",
   "execution_count": null,
   "metadata": {},
   "outputs": [
    {
     "name": "stdout",
     "output_type": "stream",
     "text": [
      "2.923568400000022\n",
      "0.44076510000002145\n"
     ]
    }
   ],
   "source": [
    "print(elapsed_time0)\n",
    "print(elapsed_time1)"
   ]
  },
  {
   "cell_type": "code",
   "execution_count": null,
   "metadata": {},
   "outputs": [],
   "source": [
    "c1=np.zeros((rl1*rl2*rl3))\n",
    "c2=np.zeros((rl1*rl2*rl3))\n",
    "c3=np.zeros((rl1*rl2*rl3))\n",
    "c4=np.zeros((rl1*rl2*rl3))\n",
    "count=0\n",
    "mem=[]\n",
    "for i in range(0,rl1):\n",
    "  for j in range(0,rl2):\n",
    "    for k in range(0,rl3):\n",
    "      mem.append(str(i)+str(j)+str(k))\n",
    "      c1[count]=a0[i,j,k]\n",
    "      c2[count]=a1[i,j,k]\n",
    "      c3[count]=a2[i,j,k]\n",
    "      c4[count]=a3[i,j,k] \n",
    "      count=count+1\n"
   ]
  },
  {
   "cell_type": "code",
   "execution_count": null,
   "metadata": {
    "executionInfo": {
     "elapsed": 22,
     "status": "ok",
     "timestamp": 1672373877081,
     "user": {
      "displayName": "学生1935084t",
      "userId": "12227631716568337195"
     },
     "user_tz": -540
    },
    "id": "NLnEVye1gkZH"
   },
   "outputs": [],
   "source": [
    "def spaceRowHeatDifOut(t0,t1):\n",
    "  plt.figure(figsize=(1*10,1*10))\n",
    "  a=t0[1][:,:]\n",
    "  b=t1[1][:,:]\n",
    "  ab=abs(a-b)\n",
    "\n",
    "  print(\"01\")\n",
    "  sns.heatmap(ab,vmin=0, vmax=1)\n",
    "\n",
    "  print(\"誤差\")\n",
    "  print(\"01\")\n",
    "  print(ab.sum())\n",
    "  return ab"
   ]
  },
  {
   "cell_type": "code",
   "execution_count": null,
   "metadata": {},
   "outputs": [
    {
     "name": "stdout",
     "output_type": "stream",
     "text": [
      "[3.11039989e-04 1.12354711e-38 3.43355691e-12 3.37996006e+00]\n"
     ]
    }
   ],
   "source": [
    "print(b2[2][:,0])"
   ]
  },
  {
   "cell_type": "code",
   "execution_count": null,
   "metadata": {},
   "outputs": [],
   "source": []
  },
  {
   "cell_type": "code",
   "execution_count": null,
   "metadata": {
    "colab": {
     "base_uri": "https://localhost:8080/",
     "height": 1000
    },
    "executionInfo": {
     "elapsed": 6387,
     "status": "ok",
     "timestamp": 1672373883448,
     "user": {
      "displayName": "学生1935084t",
      "userId": "12227631716568337195"
     },
     "user_tz": -540
    },
    "id": "6Yi-5keU_9X0",
    "outputId": "7abaeef7-5467-451a-97d4-78bd3435d7ac"
   },
   "outputs": [
    {
     "name": "stdout",
     "output_type": "stream",
     "text": [
      "01\n",
      "誤差\n",
      "01\n",
      "180.26794176018458\n",
      "01\n",
      "誤差\n",
      "01\n",
      "46.625465731682176\n",
      "01\n",
      "誤差\n",
      "01\n",
      "91.39062187080557\n",
      "01\n",
      "誤差\n",
      "01\n",
      "198.81832613980447\n",
      "01\n",
      "誤差\n",
      "01\n",
      "220.1961109807561\n",
      "01\n",
      "誤差\n",
      "01\n",
      "62.88099217417845\n"
     ]
    },
    {
     "data": {
      "image/png": "[encoded data removed]",
      "text/plain": [
       "<Figure size 720x720 with 2 Axes>"
      ]
     },
     "metadata": {
      "needs_background": "light"
     },
     "output_type": "display_data"
    },
    {
     "data": {
      "image/png": "[encoded data removed]",
      "text/plain": [
       "<Figure size 720x720 with 2 Axes>"
      ]
     },
     "metadata": {
      "needs_background": "light"
     },
     "output_type": "display_data"
    },
    {
     "data": {
      "image/png": "[encoded data removed]",
      "text/plain": [
       "<Figure size 720x720 with 2 Axes>"
      ]
     },
     "metadata": {
      "needs_background": "light"
     },
     "output_type": "display_data"
    },
    {
     "data": {
      "image/png": "[encoded data removed]",
      "text/plain": [
       "<Figure size 720x720 with 2 Axes>"
      ]
     },
     "metadata": {
      "needs_background": "light"
     },
     "output_type": "display_data"
    },
    {
     "data": {
      "image/png": "[encoded data removed]",
      "text/plain": [
       "<Figure size 720x720 with 2 Axes>"
      ]
     },
     "metadata": {
      "needs_background": "light"
     },
     "output_type": "display_data"
    },
    {
     "data": {
      "image/png": "[encoded data removed]",
      "text/plain": [
       "<Figure size 720x720 with 2 Axes>"
      ]
     },
     "metadata": {
      "needs_background": "light"
     },
     "output_type": "display_data"
    }
   ],
   "source": [
    "a1=spaceRowHeatDifOut(b0,b1)\n",
    "a2=spaceRowHeatDifOut(b0,b2)\n",
    "a3=spaceRowHeatDifOut(b0,b3)\n",
    "a4=spaceRowHeatDifOut(b1,b2)\n",
    "a5=spaceRowHeatDifOut(b1,b3)\n",
    "a6=spaceRowHeatDifOut(b2,b3)"
   ]
  },
  {
   "cell_type": "code",
   "execution_count": null,
   "metadata": {
    "colab": {
     "base_uri": "https://localhost:8080/"
    },
    "executionInfo": {
     "elapsed": 16,
     "status": "ok",
     "timestamp": 1672373883449,
     "user": {
      "displayName": "学生1935084t",
      "userId": "12227631716568337195"
     },
     "user_tz": -540
    },
    "id": "jSFaHvXMAYuy",
    "outputId": "f127370a-bf25-4faf-d667-d24d7097f628"
   },
   "outputs": [
    {
     "data": {
      "text/plain": [
       "'\\n# 二次元配列を3次元方向に結合\\ndiff_array_3d = np.stack([a1,a2,a3,a4,a5,a6], axis=2)\\n# 形状確認\\ndiff_array_3d.shape\\n'"
      ]
     },
     "execution_count": 40,
     "metadata": {},
     "output_type": "execute_result"
    }
   ],
   "source": [
    "\"\"\"\n",
    "# 二次元配列を3次元方向に結合\n",
    "diff_array_3d = np.stack([a1,a2,a3,a4,a5,a6], axis=2)\n",
    "# 形状確認\n",
    "diff_array_3d.shape\n",
    "\"\"\""
   ]
  },
  {
   "cell_type": "code",
   "execution_count": null,
   "metadata": {
    "executionInfo": {
     "elapsed": 506,
     "status": "ok",
     "timestamp": 1672373883947,
     "user": {
      "displayName": "学生1935084t",
      "userId": "12227631716568337195"
     },
     "user_tz": -540
    },
    "id": "xEhUy18nA-7m"
   },
   "outputs": [],
   "source": [
    "#cda3,uda3=ntd(diff_array_3d,rank_list)"
   ]
  },
  {
   "cell_type": "code",
   "execution_count": null,
   "metadata": {
    "colab": {
     "base_uri": "https://localhost:8080/",
     "height": 282
    },
    "executionInfo": {
     "elapsed": 483,
     "status": "ok",
     "timestamp": 1672373884419,
     "user": {
      "displayName": "学生1935084t",
      "userId": "12227631716568337195"
     },
     "user_tz": -540
    },
    "id": "uYW2eDkZBz5B",
    "outputId": "79e0ca07-b3f5-43c0-8856-5dc02dc03851"
   },
   "outputs": [
    {
     "data": {
      "text/plain": [
       "'\\nd=uda3[0][:,0].T.reshape(36,24).T\\n#sns.heatmap(d,vmin=0, vmax=1)\\nsns.heatmap(d)\\n'"
      ]
     },
     "execution_count": 42,
     "metadata": {},
     "output_type": "execute_result"
    }
   ],
   "source": [
    "\"\"\"\n",
    "d=uda3[0][:,0].T.reshape(36,24).T\n",
    "#sns.heatmap(d,vmin=0, vmax=1)\n",
    "sns.heatmap(d)\n",
    "\"\"\""
   ]
  },
  {
   "cell_type": "code",
   "execution_count": null,
   "metadata": {
    "colab": {
     "base_uri": "https://localhost:8080/",
     "height": 265
    },
    "executionInfo": {
     "elapsed": 408,
     "status": "ok",
     "timestamp": 1672373884823,
     "user": {
      "displayName": "学生1935084t",
      "userId": "12227631716568337195"
     },
     "user_tz": -540
    },
    "id": "FgsnmS-zCjqm",
    "outputId": "373b0488-18a9-4413-dfbc-ec0c1ba53cbb"
   },
   "outputs": [
    {
     "data": {
      "text/plain": [
       "'\\nleft=range(6)\\nheight1=uda3[2][:,1]\\np1 = plt.bar(left, height1, linewidth=2)\\n'"
      ]
     },
     "execution_count": 43,
     "metadata": {},
     "output_type": "execute_result"
    }
   ],
   "source": [
    "\"\"\"\n",
    "left=range(6)\n",
    "height1=uda3[2][:,1]\n",
    "p1 = plt.bar(left, height1, linewidth=2)\n",
    "\"\"\""
   ]
  },
  {
   "cell_type": "code",
   "execution_count": null,
   "metadata": {
    "colab": {
     "base_uri": "https://localhost:8080/",
     "height": 330
    },
    "executionInfo": {
     "elapsed": 2515,
     "status": "ok",
     "timestamp": 1672373887334,
     "user": {
      "displayName": "学生1935084t",
      "userId": "12227631716568337195"
     },
     "user_tz": -540
    },
    "id": "nTx4DLu_GHxk",
    "outputId": "c709df0b-52f5-4322-b24e-f5f729792a7f"
   },
   "outputs": [
    {
     "data": {
      "text/plain": [
       "'\\nc=np.zeros((64))\\ncount=0\\nmem=[]\\nfor i in range(0,4):\\n  for j in range(0,4):\\n    for k in range(0,4):\\n      mem.append(str(i)+str(j)+str(k))\\n      c[count]=cda3[i,j,k]\\n      count=count+1\\n\\nplt.figure(figsize=(4*10,2*10))\\nleft=range(64)\\nheight1=c\\nplt.xticks(left, mem)\\np1 = plt.bar(left, height1, linewidth=2)\\n'"
      ]
     },
     "execution_count": 44,
     "metadata": {},
     "output_type": "execute_result"
    }
   ],
   "source": [
    "\"\"\"\n",
    "c=np.zeros((64))\n",
    "count=0\n",
    "mem=[]\n",
    "for i in range(0,4):\n",
    "  for j in range(0,4):\n",
    "    for k in range(0,4):\n",
    "      mem.append(str(i)+str(j)+str(k))\n",
    "      c[count]=cda3[i,j,k]\n",
    "      count=count+1\n",
    "\n",
    "plt.figure(figsize=(4*10,2*10))\n",
    "left=range(64)\n",
    "height1=c\n",
    "plt.xticks(left, mem)\n",
    "p1 = plt.bar(left, height1, linewidth=2)\n",
    "\"\"\""
   ]
  },
  {
   "attachments": {},
   "cell_type": "markdown",
   "metadata": {
    "id": "BudiSrewWcg_"
   },
   "source": [
    "上のコアテンソルのグラフから、他の軸の因子ごとの特徴を作っているところをうまく探していき、どこが大事か見ていく"
   ]
  },
  {
   "attachments": {},
   "cell_type": "markdown",
   "metadata": {
    "id": "g9v1VZ0wWotb"
   },
   "source": [
    "\n",
    "000,122,011この３つが上から3番までこの３つから調査をしていく"
   ]
  },
  {
   "cell_type": "code",
   "execution_count": null,
   "metadata": {
    "colab": {
     "base_uri": "https://localhost:8080/",
     "height": 704
    },
    "executionInfo": {
     "elapsed": 16206,
     "status": "ok",
     "timestamp": 1672373903537,
     "user": {
      "displayName": "学生1935084t",
      "userId": "12227631716568337195"
     },
     "user_tz": -540
    },
    "id": "GnVoNaAxDeTK",
    "outputId": "51ba8b28-71c9-4110-b019-e1618ed06620"
   },
   "outputs": [
    {
     "data": {
      "text/plain": [
       "'\\nleft=range(864)\\nplt.figure(figsize=(4*10,2*10))\\nheight1=uda3[0][:,0]\\nheight2=uda3[0][:,1]\\nheight3=uda3[0][:,2]\\nheight4=uda3[0][:,3]\\nplt.subplot(1,2,2)\\np1 = plt.bar(left, height1, linewidth=2)\\np2 = plt.bar(left, height2, linewidth=2)\\np3 = plt.bar(left, height3, linewidth=2)\\np4 = plt.bar(left, height4, linewidth=2)\\nplt.legend((p1[0], p2[0],p3[0], p4[0]), (\"Class 1\", \"Class 2\",\"Class 3\", \"Class 4\"), loc=4)\\n'"
      ]
     },
     "execution_count": 45,
     "metadata": {},
     "output_type": "execute_result"
    }
   ],
   "source": [
    "\"\"\"\n",
    "left=range(864)\n",
    "plt.figure(figsize=(4*10,2*10))\n",
    "height1=uda3[0][:,0]\n",
    "height2=uda3[0][:,1]\n",
    "height3=uda3[0][:,2]\n",
    "height4=uda3[0][:,3]\n",
    "plt.subplot(1,2,2)\n",
    "p1 = plt.bar(left, height1, linewidth=2)\n",
    "p2 = plt.bar(left, height2, linewidth=2)\n",
    "p3 = plt.bar(left, height3, linewidth=2)\n",
    "p4 = plt.bar(left, height4, linewidth=2)\n",
    "plt.legend((p1[0], p2[0],p3[0], p4[0]), (\"Class 1\", \"Class 2\",\"Class 3\", \"Class 4\"), loc=4)\n",
    "\"\"\""
   ]
  },
  {
   "cell_type": "code",
   "execution_count": null,
   "metadata": {
    "colab": {
     "base_uri": "https://localhost:8080/"
    },
    "executionInfo": {
     "elapsed": 22,
     "status": "ok",
     "timestamp": 1672373903538,
     "user": {
      "displayName": "学生1935084t",
      "userId": "12227631716568337195"
     },
     "user_tz": -540
    },
    "id": "OhXFgMSfbO4s",
    "outputId": "ffef35f2-6c8c-4687-962c-4c46ff443e48"
   },
   "outputs": [
    {
     "data": {
      "text/plain": [
       "'\\nmax_index = np.argmax(uda3[0][:,3])\\nprint(max_index)\\n'"
      ]
     },
     "execution_count": 46,
     "metadata": {},
     "output_type": "execute_result"
    }
   ],
   "source": [
    "\"\"\"\n",
    "max_index = np.argmax(uda3[0][:,3])\n",
    "print(max_index)\n",
    "\"\"\""
   ]
  },
  {
   "attachments": {},
   "cell_type": "markdown",
   "metadata": {
    "id": "ApUavKV5aLXD"
   },
   "source": [
    "第一因子は２７３ 第二因子は551、第３因子565、第４因子410となっている。"
   ]
  },
  {
   "attachments": {},
   "cell_type": "markdown",
   "metadata": {
    "id": "oT7ug2UzXACc"
   },
   "source": [
    "空間軸に関しては量が多すぎるため、要素ごとで上から見ていく"
   ]
  },
  {
   "cell_type": "code",
   "execution_count": null,
   "metadata": {
    "colab": {
     "base_uri": "https://localhost:8080/",
     "height": 346
    },
    "executionInfo": {
     "elapsed": 1392,
     "status": "ok",
     "timestamp": 1672373904920,
     "user": {
      "displayName": "学生1935084t",
      "userId": "12227631716568337195"
     },
     "user_tz": -540
    },
    "id": "3jtLdNBnW0cU",
    "outputId": "d2a6376d-19ca-43a6-80b1-98438bb3b1dc"
   },
   "outputs": [
    {
     "data": {
      "text/plain": [
       "'\\nplt.figure(figsize=(4*10,2*10))\\n \\n# 各系列のデータを用意\\nheight1=uda3[1][:,0]\\nheight2=uda3[1][:,1]\\nheight3=uda3[1][:,2]\\nheight4=uda3[1][:,3]\\ndata = [height1, height2,height3,height4]\\n\\nx = np.arange(len(height1))\\n\\nlabels = [\"1\", \"2\", \"3\", \"4\"]\\n# マージンを設定\\nmargin = 0.2  #0 <margin< 1\\ntotoal_width = 1 - margin\\n \\n# 棒グラフをプロット\\nfor i, h in enumerate(data):\\n  pos = x - totoal_width *( 1- (2*i+1)/len(data) )/2\\n  plt.bar(pos, h, width = totoal_width/len(data))\\n \\n# ラベルの設定\\nplt.xticks(x, labels)\\nplt.legend((p1[0], p2[0],p3[0], p4[0]), (\"Class 1\", \"Class 2\",\"Class 3\", \"Class 4\"), loc=4)\\n'"
      ]
     },
     "execution_count": 47,
     "metadata": {},
     "output_type": "execute_result"
    }
   ],
   "source": [
    "\"\"\"\n",
    "plt.figure(figsize=(4*10,2*10))\n",
    " \n",
    "# 各系列のデータを用意\n",
    "height1=uda3[1][:,0]\n",
    "height2=uda3[1][:,1]\n",
    "height3=uda3[1][:,2]\n",
    "height4=uda3[1][:,3]\n",
    "data = [height1, height2,height3,height4]\n",
    "\n",
    "x = np.arange(len(height1))\n",
    "\n",
    "labels = [\"1\", \"2\", \"3\", \"4\"]\n",
    "# マージンを設定\n",
    "margin = 0.2  #0 <margin< 1\n",
    "totoal_width = 1 - margin\n",
    " \n",
    "# 棒グラフをプロット\n",
    "for i, h in enumerate(data):\n",
    "  pos = x - totoal_width *( 1- (2*i+1)/len(data) )/2\n",
    "  plt.bar(pos, h, width = totoal_width/len(data))\n",
    " \n",
    "# ラベルの設定\n",
    "plt.xticks(x, labels)\n",
    "plt.legend((p1[0], p2[0],p3[0], p4[0]), (\"Class 1\", \"Class 2\",\"Class 3\", \"Class 4\"), loc=4)\n",
    "\"\"\""
   ]
  },
  {
   "attachments": {},
   "cell_type": "markdown",
   "metadata": {
    "id": "4kOdRwr-bWBs"
   },
   "source": [
    "因子のテンソル分解の結果より、重要なのは第一因子は2,第二因子は3、第三因子は4、第四因子は1が大事としっかり分かれている。"
   ]
  },
  {
   "cell_type": "code",
   "execution_count": null,
   "metadata": {
    "colab": {
     "base_uri": "https://localhost:8080/",
     "height": 346
    },
    "executionInfo": {
     "elapsed": 1872,
     "status": "ok",
     "timestamp": 1672373906789,
     "user": {
      "displayName": "学生1935084t",
      "userId": "12227631716568337195"
     },
     "user_tz": -540
    },
    "id": "SHt3EVYvbxkt",
    "outputId": "3977e3f5-6122-4421-99bc-e7a9c02b6d93"
   },
   "outputs": [
    {
     "data": {
      "text/plain": [
       "'\\nplt.figure(figsize=(4*10,2*10))\\n \\n# 各系列のデータを用意\\nheight1=uda3[2][:,0]\\nheight2=uda3[2][:,1]\\nheight3=uda3[2][:,2]\\nheight4=uda3[2][:,3]\\ndata = [height1, height2,height3,height4]\\n\\nx = np.arange(len(height1))\\n\\nlabels = [\"01\", \"02\", \"03\", \"12\",\"13\",\"23\"]\\n# マージンを設定\\nmargin = 0.2  #0 <margin< 1\\ntotoal_width = 1 - margin\\n \\n# 棒グラフをプロット\\nfor i, h in enumerate(data):\\n  pos = x - totoal_width *( 1- (2*i+1)/len(data) )/2\\n  plt.bar(pos, h, width = totoal_width/len(data))\\n \\n# ラベルの設定\\nplt.xticks(x, labels)\\nplt.legend((p1[0], p2[0],p3[0], p4[0]), (\"Class 1\", \"Class 2\",\"Class 3\", \"Class 4\"), loc=4)\\n'"
      ]
     },
     "execution_count": 48,
     "metadata": {},
     "output_type": "execute_result"
    }
   ],
   "source": [
    "\"\"\"\n",
    "plt.figure(figsize=(4*10,2*10))\n",
    " \n",
    "# 各系列のデータを用意\n",
    "height1=uda3[2][:,0]\n",
    "height2=uda3[2][:,1]\n",
    "height3=uda3[2][:,2]\n",
    "height4=uda3[2][:,3]\n",
    "data = [height1, height2,height3,height4]\n",
    "\n",
    "x = np.arange(len(height1))\n",
    "\n",
    "labels = [\"01\", \"02\", \"03\", \"12\",\"13\",\"23\"]\n",
    "# マージンを設定\n",
    "margin = 0.2  #0 <margin< 1\n",
    "totoal_width = 1 - margin\n",
    " \n",
    "# 棒グラフをプロット\n",
    "for i, h in enumerate(data):\n",
    "  pos = x - totoal_width *( 1- (2*i+1)/len(data) )/2\n",
    "  plt.bar(pos, h, width = totoal_width/len(data))\n",
    " \n",
    "# ラベルの設定\n",
    "plt.xticks(x, labels)\n",
    "plt.legend((p1[0], p2[0],p3[0], p4[0]), (\"Class 1\", \"Class 2\",\"Class 3\", \"Class 4\"), loc=4)\n",
    "\"\"\""
   ]
  },
  {
   "attachments": {},
   "cell_type": "markdown",
   "metadata": {
    "id": "EYnfE0Vbcft0"
   },
   "source": [
    "第一因子は03、13,第二因子は12,第三因子は23,02、第四因子は01が大事となっている。"
   ]
  },
  {
   "attachments": {},
   "cell_type": "markdown",
   "metadata": {
    "id": "l0Pjns7GdEqY"
   },
   "source": [
    "この後は空間の方も見て、コアテンソルと比較しながらどこが大事か見て、一個前のテンソルに戻り、次に時間軸と空間軸を見ながら、元データに戻り、分析する必要がある。"
   ]
  },
  {
   "attachments": {},
   "cell_type": "markdown",
   "metadata": {
    "id": "ZtFHTnnpWlls"
   },
   "source": [
    "できるだけ絞るために一個前に戻った際に時間軸のデータを削減し、よりはっきりと違いがわかる部分を探し当てる必要がある。"
   ]
  },
  {
   "attachments": {},
   "cell_type": "markdown",
   "metadata": {
    "id": "FWJtBitfZbwz"
   },
   "source": [
    "差をとった軸は第一因子は03、13,第二因子は12,第三因子は23,02、第四因子は01\n",
    "\n",
    "因子の軸、第一因子は2,第二因子は3、第三因子は4、第四因子は1\n",
    "\n",
    "空間軸は第一因子は２７３ 第二因子は551、第３因子565、第４因子410となっている。\n",
    "\n",
    "コアテンソルは000,122,011　軸順は1番目空間軸、2番目因子軸、3番目差軸\n",
    "\n"
   ]
  },
  {
   "attachments": {},
   "cell_type": "markdown",
   "metadata": {
    "id": "2ypinXFjdJLi"
   },
   "source": [
    "よって上より空間軸273、因子2の差03にとても大きな差がある。\n",
    "次は、テンソル０、3のテンソル分解を行なって差だけでなく、範囲を縮めていく"
   ]
  },
  {
   "cell_type": "code",
   "execution_count": null,
   "metadata": {},
   "outputs": [],
   "source": [
    "mem=[]\n",
    "for i in range(0,rl1):\n",
    "  for j in range(0,rl2):\n",
    "    for k in range(0,rl3):\n",
    "      mem.append(str(i)+str(j)+str(k))\n"
   ]
  },
  {
   "cell_type": "code",
   "execution_count": null,
   "metadata": {},
   "outputs": [
    {
     "name": "stdout",
     "output_type": "stream",
     "text": [
      "64\n",
      "<class 'str'>\n"
     ]
    }
   ],
   "source": [
    "print(len(mem))\n",
    "print(type(mem[1]))"
   ]
  },
  {
   "cell_type": "code",
   "execution_count": null,
   "metadata": {},
   "outputs": [
    {
     "name": "stdout",
     "output_type": "stream",
     "text": [
      "(864, 4)\n"
     ]
    }
   ],
   "source": [
    "print(b1[1].shape)"
   ]
  },
  {
   "attachments": {},
   "cell_type": "markdown",
   "metadata": {},
   "source": [
    "上のプログラム後は、実データの方の可視化を行う、できれば、範囲を指定して、ヒートマップも載せる\n",
    "ヒートマップは要らないから、どちらかと言ったら先に、表示した二つのテンソルから重要な事が起きている部分を探索できるように選択した部分のデータ化が必要な気がする。"
   ]
  },
  {
   "attachments": {},
   "cell_type": "markdown",
   "metadata": {},
   "source": [
    "上のボケからデータで比べたいところ、をゲットしたのでそこのヒートマッププロット、元データに戻っての折れ線プロットまでしたい。"
   ]
  },
  {
   "cell_type": "code",
   "execution_count": null,
   "metadata": {},
   "outputs": [
    {
     "name": "stderr",
     "output_type": "stream",
     "text": [
      "BokehUserWarning: ColumnDataSource's columns must be of the same length. Current lengths: ('x', 3), ('y', 0)\n",
      "BokehUserWarning: ColumnDataSource's columns must be of the same length. Current lengths: ('x', 3), ('y', 0)\n",
      "BokehUserWarning: ColumnDataSource's columns must be of the same length. Current lengths: ('x', 3), ('y', 0)\n",
      "BokehUserWarning: ColumnDataSource's columns must be of the same length. Current lengths: ('x', 64), ('y', 0)\n",
      "BokehUserWarning: ColumnDataSource's columns must be of the same length. Current lengths: ('x', 864), ('y', 0)\n",
      "BokehUserWarning: ColumnDataSource's columns must be of the same length. Current lengths: ('x', 4), ('y', 0)\n",
      "BokehUserWarning: ColumnDataSource's columns must be of the same length. Current lengths: ('x', 864), ('y', 0)\n",
      "BokehUserWarning: ColumnDataSource's columns must be of the same length. Current lengths: ('x', 4), ('y', 0)\n",
      "BokehUserWarning: ColumnDataSource's columns must be of the same length. Current lengths: ('x', 864), ('y', 0)\n",
      "BokehUserWarning: ColumnDataSource's columns must be of the same length. Current lengths: ('x', 4), ('y', 0)\n"
     ]
    }
   ],
   "source": [
    "import numpy as np\n",
    "\n",
    "from bokeh.layouts import column, row\n",
    "from bokeh.models import ColumnDataSource, CustomJS, Slider, Select, HoverTool\n",
    "from bokeh.plotting import figure, show\n",
    "from bokeh.layouts import gridplot\n",
    "\n",
    "TOOLS = \"box_select,help,reset\"\n",
    "\n",
    "\n",
    "\n",
    "\n",
    "u4=range(6)\n",
    "source4 = ColumnDataSource(data={'0' : a1[:,0],'1' : a2[:,0],'2' : a3[:,0],'3' : a4[:,0],'4' : a5[:,0],'5' : a6[:,0],'6' : a1[:,1],'7' : a2[:,1],'8' : a3[:,1],'9' : a4[:,1],'10' : a5[:,1],'11' : a6[:,1],'12' : a1[:,2],'13' : a2[:,2],'14' : a3[:,2],'15' : a4[:,2],'16' : a5[:,2],'17' : a6[:,2],'18' : a1[:,3],'19' : a2[:,3],'20' : a3[:,3],'21' : a4[:,3],'22' : a5[:,3],'23' : a6[:,3]})\n",
    "\n",
    "source5 = ColumnDataSource(data={'0' : c1,'1' : c2,'2' : c3,'3' : c4})\n",
    "\n",
    "#u6=range(len(b0[0][:,0]))\n",
    "source60 = ColumnDataSource(data={'0' : b0[0][:,0],'1' : b0[0][:,1],'2' : b0[0][:,2],'3' : b0[0][:,3]})\n",
    "source61 = ColumnDataSource(data={'0' : b1[0][:,0],'1' : b1[0][:,1],'2' : b1[0][:,2],'3' : b1[0][:,3]})\n",
    "source62 = ColumnDataSource(data={'0' : b2[0][:,0],'1' : b2[0][:,1],'2' : b2[0][:,2],'3' : b2[0][:,3]})\n",
    "source63 = ColumnDataSource(data={'0' : b3[0][:,0],'1' : b3[0][:,1],'2' : b3[0][:,2],'3' : b3[0][:,3]})\n",
    "\n",
    "\n",
    "u7=range(len(b0[1][:,0]))\n",
    "source70 = ColumnDataSource(data={'0' : b0[1][:,0],'1' : b0[1][:,1],'2' : b0[1][:,2],'3' : b0[1][:,3]})\n",
    "source71 = ColumnDataSource(data={'0' : b1[1][:,0],'1' : b1[1][:,1],'2' : b1[1][:,2],'3' : b1[1][:,3]})\n",
    "source72 = ColumnDataSource(data={'0' : b2[1][:,0],'1' : b2[1][:,1],'2' : b2[1][:,2],'3' : b2[1][:,3]})\n",
    "source73 = ColumnDataSource(data={'0' : b3[1][:,0],'1' : b3[1][:,1],'2' : b3[1][:,2],'3' : b3[1][:,3]})\n",
    "\n",
    "u8=range(len(b0[2][:,0]))\n",
    "source80 = ColumnDataSource(data={'0' : b0[2][:,0],'1' : b0[2][:,1],'2' : b0[2][:,2],'3' : b0[2][:,3]})\n",
    "source81 = ColumnDataSource(data={'0' : b1[2][:,0],'1' : b1[2][:,1],'2' : b1[2][:,2],'3' : b1[2][:,3]})\n",
    "source82 = ColumnDataSource(data={'0' : b2[2][:,0],'1' : b2[2][:,1],'2' : b2[2][:,2],'3' : b2[2][:,3]})\n",
    "source83 = ColumnDataSource(data={'0' : b3[2][:,0],'1' : b3[2][:,1],'2' : b3[2][:,2],'3' : b3[2][:,3]})\n",
    "\n",
    "\n",
    "\n",
    "\n",
    "l1=range(len(tensor_0[0,:,0]))\n",
    "d1 = {str(s): tensor_0[:,s,0] for s in l1}\n",
    "sourceT1=ColumnDataSource(data=d1)\n",
    "\n",
    "d2 = {str(s): tensor_1[:,s,0] for s in l1}\n",
    "sourceT2=ColumnDataSource(data=d2)\n",
    "\n",
    "d3 = {str(s): tensor_2[:,s,0] for s in l1}\n",
    "sourceT3=ColumnDataSource(data=d3)\n",
    "\n",
    "d4 = {str(s): tensor_all[:,s,0] for s in l1}\n",
    "sourceT4=ColumnDataSource(data=d4)\n",
    "\n",
    "\n",
    "s1 = ColumnDataSource(data=dict(x=u1, y=[]))\n",
    "p1 = figure(width=400, height=400,title=\"core1\", tools=TOOLS)\n",
    "p1.vbar(x='x', top='y', source=s1, alpha=0.6)\n",
    "\n",
    "\n",
    "\n",
    "s2 = ColumnDataSource(data=dict(x=u2, y=[]))\n",
    "p2 = figure(width=400, height=400,title=\"core2\", tools=TOOLS)\n",
    "p2.vbar('x', 1,'y', source=s2, alpha=0.6)\n",
    "\n",
    "s3 = ColumnDataSource(data=dict(x=u3, y=[]))\n",
    "p3 = figure(width=400, height=400, title=\"core3\", tools=TOOLS)\n",
    "p3.vbar('x',1, 'y', source=s3, alpha=0.6)\n",
    "\n",
    "v4=np.zeros(len(u4))\n",
    "s4 = ColumnDataSource(data=dict(x=u4, y=v4))\n",
    "p4 = figure(width=200, height=300, title=\"Difference\", tools=TOOLS)\n",
    "p4.vbar('x',1,'y', source=s4,color=\"#808080\")\n",
    "\n",
    "p4.axis.visible = False\n",
    "p4.grid.grid_line_color = None\n",
    "\n",
    "\n",
    "p4.toolbar.logo = None\n",
    "p4.toolbar_location = None\n",
    "\n",
    "s7 = ColumnDataSource(data=dict(x=mem, y=c1))\n",
    "p5 = figure(x_range=mem,width=1200, height=300, title=\"MainCore\", tools=TOOLS,\n",
    "              background_fill_color=\"#fafafa\")\n",
    "p5.vbar('x',1, 'y', source=s7,color=\"#696969\")\n",
    "p5.axis.visible = False\n",
    "p5.grid.grid_line_color = None\n",
    "p5.toolbar.logo = None\n",
    "p5.toolbar_location = None\n",
    "\n",
    "hover_tool = HoverTool(\n",
    "    tooltips=[\n",
    "        (\"name\", '@x')\n",
    "    ],\n",
    "    formatters={\n",
    "        \"time\": \"datetime\",\n",
    "\n",
    "    },\n",
    "    mode='vline'\n",
    ")\n",
    "\n",
    "p5.tools.append(hover_tool)\n",
    "\n",
    "s8 = ColumnDataSource(data=dict(x=mem, y=[]))\n",
    "p6 = figure(x_range=mem,width=1000, height=400, title=\"core\", tools=TOOLS,\n",
    "              background_fill_color=\"#fafafa\")\n",
    "p6.vbar('x',1, 'y', source=s8)\n",
    "    \n",
    "s5 = ColumnDataSource(data=dict(x=[], y=[]))\n",
    "s5.data[\"x\"].append(0)\n",
    "s6 = ColumnDataSource(data=dict(x=[], y=[]))\n",
    "s6.data[\"x\"].append(0)\n",
    "\n",
    "s5inds = ColumnDataSource(data=dict(x=[], y=[]))\n",
    "s5inds.data[\"x\"].append(0)\n",
    "\n",
    "s9 = ColumnDataSource(data=dict(x=[], y=[]))\n",
    "p9 = figure(width=200, height=150,title=\"FirstTensorTime\", tools=TOOLS)\n",
    "p9.vbar('x',1, 'y', source=s9,color=\"#517fe6\")\n",
    "\n",
    "p9.tools.append(hover_tool)\n",
    "p9.axis.visible = False\n",
    "p9.grid.grid_line_color = None\n",
    "\n",
    "p9.toolbar.logo = None\n",
    "p9.toolbar_location = None\n",
    "\n",
    "s10 = ColumnDataSource(data=dict(x=u7, y=[]))\n",
    "p10 = figure(width=300, height=150,title=\"FirstTensorSpace\", tools=TOOLS)\n",
    "p10.vbar('x', 1,'y', source=s10,color=\"#93dc6f\")\n",
    "\n",
    "p10.tools.append(hover_tool)\n",
    "p10.axis.visible = False\n",
    "p10.grid.grid_line_color = None\n",
    "p10.toolbar.logo = None\n",
    "p10.toolbar_location = None\n",
    "\n",
    "s11 = ColumnDataSource(data=dict(x=u8, y=[]))\n",
    "p11 = figure(width=200, height=150, title=\"FirstTensorMeasure\", tools=TOOLS)\n",
    "p11.vbar('x',1, 'y', source=s11,color=\"#f4949f\")\n",
    "\n",
    "p11.tools.append(hover_tool)\n",
    "p11.axis.visible = False\n",
    "p11.grid.grid_line_color = None\n",
    "\n",
    "p11.toolbar.logo = None\n",
    "p11.toolbar_location = None\n",
    "\n",
    "s12 = ColumnDataSource(data=dict(x=[], y=[]))\n",
    "p12 = figure(width=200, height=150,title=\"SecondTensorTime\", tools=TOOLS)\n",
    "p12.vbar('x',1,'y', source=s12,color=\"#517fe6\")\n",
    "\n",
    "p12.tools.append(hover_tool)\n",
    "\n",
    "p12.axis.visible = False\n",
    "p12.grid.grid_line_color = None\n",
    "p12.toolbar.logo = None\n",
    "p12.toolbar_location = None\n",
    "\n",
    "s13 = ColumnDataSource(data=dict(x=u7, y=[]))\n",
    "p13 = figure(width=300, height=150,title=\"SecondTensorSpace\", tools=TOOLS)\n",
    "p13.vbar('x', 1,'y', source=s13,color=\"#93dc6f\")\n",
    "\n",
    "p13.tools.append(hover_tool)\n",
    "p13.axis.visible = False\n",
    "p13.grid.grid_line_color = None\n",
    "\n",
    "p13.toolbar.logo = None\n",
    "p13.toolbar_location = None\n",
    "\n",
    "s14 = ColumnDataSource(data=dict(x=u8, y=[]))\n",
    "p14 = figure(width=200, height=150, title=\"SecondTensorMeasure\", tools=TOOLS,background_fill_color=\"#fafafa\")\n",
    "p14.vbar('x',1, 'y', source=s14,color=\"#f4949f\")\n",
    "\n",
    "p14.tools.append(hover_tool)\n",
    "p14.axis.visible = False\n",
    "p14.grid.grid_line_color = None\n",
    "p14.toolbar.logo = None\n",
    "p14.toolbar_location = None\n",
    "\n",
    "sdt = ColumnDataSource(data=dict(x=[], y=[]))\n",
    "pdt = figure(width=200, height=300,title=\"DifferenceTensorTime\", tools=TOOLS)\n",
    "#pdt.vbar('x',1,'y', source=sdt,color=\"#1845aa\")\n",
    "pdt.circle('x','y', source=sdt,color=\"#1845aa\")\n",
    "\n",
    "pdt.tools.append(hover_tool)\n",
    "pdt.axis.visible = True\n",
    "pdt.grid.grid_line_color = None\n",
    "\n",
    "pdt.toolbar.logo = None\n",
    "pdt.toolbar_location = None\n",
    "\n",
    "sds = ColumnDataSource(data=dict(x=u7, y=[]))\n",
    "pds = figure(width=300, height=300,title=\"DifferenceTensorSpace\", tools=TOOLS)\n",
    "#pds.vbar('x', 1,'y', source=sds,color=\"#53a22a\")\n",
    "pds.circle('x','y', source=sds,color=\"#53a22a\")\n",
    "pds.axis.visible = False\n",
    "pds.grid.grid_line_color = None\n",
    "pds.tools.append(hover_tool)\n",
    "pds.toolbar.logo = None\n",
    "pds.toolbar_location = None\n",
    "\n",
    "sdm = ColumnDataSource(data=dict(x=u8, y=[]))\n",
    "pdm = figure(width=200, height=300, title=\"DifferenceTensorMeasure\", tools=TOOLS)\n",
    "pdm.vbar('x',1, 'y', source=sdm,color=\"#f25a6b\")\n",
    "\n",
    "pdm.tools.append(hover_tool)\n",
    "pdm.axis.visible = False\n",
    "pdm.grid.grid_line_color = None\n",
    "pdm.toolbar.logo = None\n",
    "pdm.toolbar_location = None\n",
    "\n",
    "s15=ColumnDataSource(data=dict(time=[], space=[],measure=[]))\n",
    "\n",
    "s16=ColumnDataSource(data=dict(time=[], space=[],measure=[]))\n",
    "    \n",
    "s9.selected.js_on_change('indices', CustomJS(args=dict(s=s9,s1=s15), code=\"\"\"\n",
    "        const inds = s.selected.indices;\n",
    "        const d12 = s1.data;\n",
    "        \n",
    "        d12['time'] = [];\n",
    "        for (let i = 0; i < inds.length; i++) {\n",
    "            d12['time'].push(inds[i]);\n",
    "        }\n",
    "        console.log(s1.data['time'])\n",
    "        s1.change.emit();\n",
    "\n",
    "\"\"\"))\n",
    "\n",
    "\n",
    "\n",
    "s10.selected.js_on_change('indices', CustomJS(args=dict(s=s10,s1=s15), code=\"\"\"\n",
    "        const inds = s.selected.indices;\n",
    "        const d12 = s1.data;\n",
    "        \n",
    "        d12['space'] = [];\n",
    "        for (let i = 0; i < inds.length; i++) {\n",
    "            d12['space'].push(inds[i]);\n",
    "        }\n",
    "        console.log(s1.data['space'])\n",
    "        s1.change.emit();\n",
    "\n",
    "\"\"\"))\n",
    "\n",
    "s11.selected.js_on_change('indices', CustomJS(args=dict(s=s11,s1=s15), code=\"\"\"\n",
    "        const inds = s.selected.indices;\n",
    "        const d12 = s1.data;\n",
    "        \n",
    "        d12['measure'] = [];\n",
    "        for (let i = 0; i < inds.length; i++) {\n",
    "            d12['measure'].push(inds[i]);\n",
    "        }\n",
    "        console.log(s1.data['measure'])\n",
    "        s1.change.emit();\n",
    "\n",
    "\"\"\"))\n",
    "\n",
    "s12.selected.js_on_change('indices', CustomJS(args=dict(s=s12,s1=s16), code=\"\"\"\n",
    "        const inds = s.selected.indices;\n",
    "        const d12 = s1.data;\n",
    "        \n",
    "        d12['time'] = [];\n",
    "        for (let i = 0; i < inds.length; i++) {\n",
    "            d12['time'].push(inds[i]);\n",
    "        }\n",
    "        console.log(s1.data['time'])\n",
    "        s1.change.emit();\n",
    "\n",
    "\"\"\"))\n",
    "\n",
    "s13.selected.js_on_change('indices', CustomJS(args=dict(s=s13,s1=s16), code=\"\"\"\n",
    "        const inds = s.selected.indices;\n",
    "        const d12 = s1.data;\n",
    "        \n",
    "        d12['space'] = [];\n",
    "        for (let i = 0; i < inds.length; i++) {\n",
    "            d12['space'].push(inds[i]);\n",
    "        }\n",
    "        console.log(s1.data['space'])\n",
    "        s1.change.emit();\n",
    "\n",
    "\"\"\"))\n",
    "\n",
    "s14.selected.js_on_change('indices', CustomJS(args=dict(s=s14,s1=s16), code=\"\"\"\n",
    "        const inds = s.selected.indices;\n",
    "        const d12 = s1.data;\n",
    "        \n",
    "        d12['measure'] = [];\n",
    "        for (let i = 0; i < inds.length; i++) {\n",
    "            d12['measure'].push(inds[i]);\n",
    "        }\n",
    "        console.log(s1.data['measure'])\n",
    "        s1.change.emit();\n",
    "\n",
    "\"\"\"))\n",
    "\n",
    "sdt.selected.js_on_change('indices', CustomJS(args=dict(s=sdt), code=\"\"\"\n",
    "        const inds = s.selected.indices;\n",
    "\n",
    "        console.log(inds);\n",
    "\n",
    "\"\"\"))\n",
    "\n",
    "sds.selected.js_on_change('indices', CustomJS(args=dict(s=sds), code=\"\"\"\n",
    "        const inds = s.selected.indices;\n",
    "\n",
    "        console.log(inds);\n",
    "\n",
    "\"\"\"))\n",
    "\n",
    "sdm.selected.js_on_change('indices', CustomJS(args=dict(s=sdm), code=\"\"\"\n",
    "        const inds = s.selected.indices;\n",
    "\n",
    "        console.log(inds);\n",
    "\n",
    "\"\"\"))\n",
    "\n",
    "\n",
    "s7.selected.js_on_change('indices', CustomJS(args=dict(s=s7,s5inds=s5inds,s4=s4,source4=source4,m=mem,s1=s9,source60=source60,source61=source61,source62=source62,source63=source63,s2=s10,source70=source70,source71=source71,source72=source72,source73=source73,s3=s11,source80=source80,source81=source81,source82=source82,source83=source83,s5=s5,sds=sds,sdt=sdt,sdm=sdm), code=\"\"\"\n",
    "        const inds = s.selected.indices;\n",
    "        const S5inds=s5inds.data;\n",
    "        S5inds[\"x\"][0]=inds[0];\n",
    "        s5inds.change.emit();\n",
    "        const d = s.data;\n",
    "        console.log(parseInt(Number(m[inds[0]])/100));\n",
    "        console.log(parseInt((Number(m[inds[0]])/10)%10));\n",
    "        console.log(Number(m[inds[0]])%10);\n",
    "        \n",
    "        const A1=parseInt(Number(m[inds[0]])/100);\n",
    "        const d60 = source60.data;\n",
    "        const d61 = source61.data;\n",
    "        const d62 = source62.data;\n",
    "        const d63 = source63.data;\n",
    "        \n",
    "        const d12 = s1.data;\n",
    "        d12['x']=[];\n",
    "        d12['y'] = [];\n",
    "        \n",
    "        \n",
    "        const ddt = sdt.data;\n",
    "        ddt['x']=[];\n",
    "        ddt['y'] = [];\n",
    "        \n",
    "        \n",
    "        const A2=parseInt((Number(m[inds[0]])/10)%10);\n",
    "        const d70 = source70.data;\n",
    "        const d71 = source71.data;\n",
    "        const d72 = source72.data;\n",
    "        const d73 = source73.data;\n",
    "\n",
    "        const d22 = s2.data;\n",
    "        d22['y'] = [];\n",
    "        \n",
    "        const dds = sds.data;\n",
    "        dds['y'] = [];\n",
    "        \n",
    "        const A3=parseInt(Number(m[inds[0]])%10);\n",
    "        const d80 = source80.data;\n",
    "        const d81 = source81.data;\n",
    "        const d82 = source82.data;\n",
    "        const d83 = source83.data;\n",
    "        \n",
    "        const d32 = s3.data;\n",
    "        d32['y'] = [];\n",
    "        \n",
    "        const ddm = sdm.data;\n",
    "        ddm['y'] = [];\n",
    "        \n",
    "        let q=0;\n",
    "        let r=0;\n",
    "        \n",
    "        const S5=s5.data;\n",
    "        console.log(S5['x'][0]);\n",
    "        switch(S5['x'][0]){\n",
    "            case 0:\n",
    "                q=0;\n",
    "                r=1;\n",
    "                console.log(S5['x'][0]);\n",
    "                for (let i = 0; i < d60[A1].length; i++) {\n",
    "                    d12['x'].push(i);\n",
    "                    d12['y'].push(d60[A1][i]);\n",
    "                }\n",
    "                for (let i = 0; i < d22['x'].length; i++) {\n",
    "                    d22['y'].push(d70[A2][i]);\n",
    "                }\n",
    "                for (let i = 0; i < d32['x'].length; i++) {\n",
    "                    d32['y'].push(d80[A3][i]);\n",
    "                }\n",
    "                for (let i = 0; i < Math.min(d60[A1].length,d61[A1].length); i++) {\n",
    "                    ddt['x'].push(i);\n",
    "                    ddt['y'].push(d60[A1][i]-d61[A1][i]);\n",
    "                }\n",
    "                for (let i = 0; i < dds['x'].length; i++) {\n",
    "                    dds['y'].push(d70[A2][i]-d71[A2][i]);\n",
    "                }\n",
    "                for (let i = 0; i < ddm['x'].length; i++) {\n",
    "                    ddm['y'].push(d80[A3][i]-d81[A3][i]);\n",
    "                }\n",
    "                break;\n",
    "            case 1:\n",
    "                q=0;\n",
    "                r=2;\n",
    "                for (let i = 0; i < d60[A1].length; i++) {\n",
    "                    d12['x'].push(i);\n",
    "                    d12['y'].push(d60[A1][i]);\n",
    "                }\n",
    "                for (let i = 0; i < d22['x'].length; i++) {\n",
    "                    d22['y'].push(d70[A2][i]);\n",
    "                }\n",
    "                for (let i = 0; i < d32['x'].length; i++) {\n",
    "                    d32['y'].push(d80[A3][i]);\n",
    "                }\n",
    "                for (let i = 0; i < Math.min(d60[A1].length,d62[A1].length); i++) {\n",
    "                    ddt['x'].push(i);\n",
    "                    ddt['y'].push(d60[A1][i]-d62[A1][i]);\n",
    "                }\n",
    "                for (let i = 0; i < dds['x'].length; i++) {\n",
    "                    dds['y'].push(d70[A2][i]-d72[A2][i]);\n",
    "                }\n",
    "                for (let i = 0; i < ddm['x'].length; i++) {\n",
    "                    ddm['y'].push(d80[A3][i]-d82[A3][i]);\n",
    "                }\n",
    "                break;\n",
    "            case 2:\n",
    "                q=0;\n",
    "                r=3;\n",
    "                for (let i = 0; i < d60[A1].length; i++) {\n",
    "                    d12['x'].push(i);\n",
    "                    d12['y'].push(d60[A1][i]);\n",
    "                }\n",
    "                for (let i = 0; i < d22['x'].length; i++) {\n",
    "                    d22['y'].push(d70[A2][i]);\n",
    "                }\n",
    "                for (let i = 0; i < d32['x'].length; i++) {\n",
    "                    d32['y'].push(d80[A3][i]);\n",
    "                }\n",
    "                for (let i = 0; i < Math.min(d60[A1].length,d63[A1].length); i++) {\n",
    "                    ddt['x'].push(i);\n",
    "                    ddt['y'].push(d60[A1][i]-d63[A1][i]);\n",
    "                }\n",
    "                for (let i = 0; i < dds['x'].length; i++) {\n",
    "                    dds['y'].push(d70[A2][i]-d73[A2][i]);\n",
    "                }\n",
    "                for (let i = 0; i < ddm['x'].length; i++) {\n",
    "                    ddm['y'].push(d80[A3][i]-d83[A3][i]);\n",
    "                }\n",
    "                break;\n",
    "            case 3:\n",
    "                q=1;\n",
    "                r=2;\n",
    "                for (let i = 0; i < d61[A1].length; i++) {\n",
    "                    d12['x'].push(i);\n",
    "                    d12['y'].push(d61[A1][i]);\n",
    "                }\n",
    "                for (let i = 0; i < d22['x'].length; i++) {\n",
    "                    d22['y'].push(d71[A2][i]);\n",
    "                }\n",
    "                for (let i = 0; i < d32['x'].length; i++) {\n",
    "                    d32['y'].push(d81[A3][i]);\n",
    "                }\n",
    "                for (let i = 0; i < Math.min(d61[A1].length,d62[A1].length); i++) {\n",
    "                    ddt['x'].push(i);\n",
    "                    ddt['y'].push(d61[A1][i]-d62[A1][i]);\n",
    "                }\n",
    "                for (let i = 0; i < dds['x'].length; i++) {\n",
    "                    dds['y'].push(d71[A2][i]-d72[A2][i]);\n",
    "                }\n",
    "                for (let i = 0; i < ddm['x'].length; i++) {\n",
    "                    ddm['y'].push(d81[A3][i]-d82[A3][i]);\n",
    "                }\n",
    "                break;\n",
    "            case 4:\n",
    "                q=1;\n",
    "                r=3;\n",
    "                for (let i = 0; i < d61[A1].length; i++) {\n",
    "                    d12['x'].push(i);\n",
    "                    d12['y'].push(d61[A1][i]);\n",
    "                }\n",
    "                for (let i = 0; i < d22['x'].length; i++) {\n",
    "                    d22['y'].push(d71[A2][i]);\n",
    "                }\n",
    "                for (let i = 0; i < d32['x'].length; i++) {\n",
    "                    d32['y'].push(d81[A3][i]);\n",
    "                }\n",
    "                for (let i = 0; i < Math.min(d61[A1].length,d63[A1].length); i++) {\n",
    "                    ddt['x'].push(i);\n",
    "                    ddt['y'].push(d61[A1][i]-d63[A1][i]);\n",
    "                }\n",
    "                for (let i = 0; i < dds['x'].length; i++) {\n",
    "                    dds['y'].push(d71[A2][i]-d73[A2][i]);\n",
    "                }\n",
    "                for (let i = 0; i < ddm['x'].length; i++) {\n",
    "                    ddm['y'].push(d81[A3][i]-d83[A3][i]);\n",
    "                }\n",
    "                break;\n",
    "            case 5:\n",
    "                q=2;\n",
    "                r=3;\n",
    "                for (let i = 0; i < d62[A1].length; i++) {\n",
    "                    d12['x'].push(i);\n",
    "                    d12['y'].push(d62[A1][i]);\n",
    "                }\n",
    "                for (let i = 0; i < d22['x'].length; i++) {\n",
    "                    d22['y'].push(d72[A2][i]);\n",
    "                }\n",
    "                for (let i = 0; i < d32['x'].length; i++) {\n",
    "                    d32['y'].push(d82[A3][i]);\n",
    "                }\n",
    "                for (let i = 0; i < Math.min(d62[A1].length,d63[A1].length); i++) {\n",
    "                    ddt['x'].push(i);\n",
    "                    ddt['y'].push(d62[A1][i]-d63[A1][i]);\n",
    "                }\n",
    "                for (let i = 0; i < dds['x'].length; i++) {\n",
    "                    dds['y'].push(d72[A2][i]-d73[A2][i]);\n",
    "                }\n",
    "                for (let i = 0; i < ddm['x'].length; i++) {\n",
    "                    ddm['y'].push(d82[A3][i]-d83[A3][i]);\n",
    "                }\n",
    "                break;\n",
    "            default:\n",
    "                console.log('hi');\n",
    "                break;\n",
    "                   \n",
    "        }\n",
    "\n",
    "        s1.change.emit();\n",
    "        s2.change.emit();\n",
    "        s3.change.emit();\n",
    "        sds.change.emit();\n",
    "        sdt.change.emit();\n",
    "        sdm.change.emit();\n",
    "        \n",
    "        const d41=source4.data;\n",
    "        const d42=s4.data;\n",
    "        d42['y'][0]=0;\n",
    "        d42['y'][1]=0;\n",
    "        d42['y'][2]=0;\n",
    "        d42['y'][3]=0;\n",
    "        d42['y'][4]=0;\n",
    "        d42['y'][5]=0;\n",
    "        const p=6*A2;\n",
    "        for (let i = 0; i < d41[p].length; i++) {\n",
    "            d42['y'][0]=d42['y'][0]+d41[p][i]*d41[p][i];\n",
    "            d42['y'][1]=d42['y'][1]+d41[p+1][i]*d41[p+1][i];\n",
    "            d42['y'][2]=d42['y'][2]+d41[p+2][i]*d41[p+2][i];\n",
    "            d42['y'][3]=d42['y'][3]+d41[p+3][i]*d41[p+3][i];\n",
    "            d42['y'][4]=d42['y'][4]+d41[p+4][i]*d41[p+4][i];\n",
    "            d42['y'][5]=d42['y'][5]+d41[p+5][i]*d41[p+5][i];\n",
    "            \n",
    "        }\n",
    "        Math.sqrt(d42['y'][0]);\n",
    "        Math.sqrt(d42['y'][1]);\n",
    "        Math.sqrt(d42['y'][2]);\n",
    "        Math.sqrt(d42['y'][3]);\n",
    "        Math.sqrt(d42['y'][4]);\n",
    "        Math.sqrt(d42['y'][5]);\n",
    "        s4.change.emit();\n",
    "\n",
    "\n",
    "\n",
    "\"\"\"))\n",
    "\n",
    "s7.selected.js_on_change('indices', CustomJS(args=dict(s=s7,m=mem,s1=s12,source60=source60,source61=source61,source62=source62,source63=source63,s2=s13,source70=source70,source71=source71,source72=source72,source73=source73,s3=s14,source80=source80,source81=source81,source82=source82,source83=source83,s5=s5), code=\"\"\"\n",
    "        const inds = s.selected.indices;\n",
    "        const d = s.data;\n",
    "        console.log(parseInt(Number(m[inds[0]])/100));\n",
    "        console.log(parseInt((Number(m[inds[0]])/10)%10));\n",
    "        console.log(Number(m[inds[0]])%10);\n",
    "        \n",
    "        const A1=parseInt(Number(m[inds[0]])/100);\n",
    "        const d60 = source60.data;\n",
    "        const d61 = source61.data;\n",
    "        const d62 = source62.data;\n",
    "        const d63 = source63.data;\n",
    "        \n",
    "        const d12 = s1.data;\n",
    "        d12['x']=[];\n",
    "        d12['y'] = [];\n",
    "        \n",
    "        \n",
    "        \n",
    "        \n",
    "        \n",
    "        const A2=parseInt((Number(m[inds[0]])/10)%10);\n",
    "        const d70 = source70.data;\n",
    "        const d71 = source71.data;\n",
    "        const d72 = source72.data;\n",
    "        const d73 = source73.data;\n",
    "\n",
    "        const d22 = s2.data;\n",
    "        d22['y'] = [];\n",
    "        \n",
    "        \n",
    "        \n",
    "        const A3=parseInt(Number(m[inds[0]])%10);\n",
    "        const d80 = source80.data;\n",
    "        const d81 = source81.data;\n",
    "        const d82 = source82.data;\n",
    "        const d83 = source83.data;\n",
    "        \n",
    "        const d32 = s3.data;\n",
    "        d32['y'] = [];\n",
    "        \n",
    "        let q=0;\n",
    "        let r=0;\n",
    "        \n",
    "        const S5=s5.data;\n",
    "        console.log(S5['x'][0]);\n",
    "        switch(S5['x'][0]){\n",
    "            case 0:\n",
    "                q=0;\n",
    "                r=1;\n",
    "                console.log(S5['x'][0]);\n",
    "                for (let i = 0; i < d61[A1].length; i++) {\n",
    "                    d12['x'].push(i);\n",
    "                    d12['y'].push(d61[A1][i]);\n",
    "                }\n",
    "                for (let i = 0; i < d22['x'].length; i++) {\n",
    "                    d22['y'].push(d71[A2][i]);\n",
    "                }\n",
    "                for (let i = 0; i < d32['x'].length; i++) {\n",
    "                    d32['y'].push(d81[A3][i]);\n",
    "                }\n",
    "                break;\n",
    "            case 1:\n",
    "                q=0;\n",
    "                r=2;\n",
    "                for (let i = 0; i < d62[A1].length; i++) {\n",
    "                    d12['x'].push(i);\n",
    "                    d12['y'].push(d62[A1][i]);\n",
    "                }\n",
    "                for (let i = 0; i < d22['x'].length; i++) {\n",
    "                    d22['y'].push(d72[A2][i]);\n",
    "                }\n",
    "                for (let i = 0; i < d32['x'].length; i++) {\n",
    "                    d32['y'].push(d82[A3][i]);\n",
    "                }\n",
    "                break;\n",
    "            case 2:\n",
    "                q=0;\n",
    "                r=3;\n",
    "                for (let i = 0; i < d63[A1].length; i++) {\n",
    "                    d12['x'].push(i);\n",
    "                    d12['y'].push(d63[A1][i]);\n",
    "                }\n",
    "                for (let i = 0; i < d22['x'].length; i++) {\n",
    "                    d22['y'].push(d73[A2][i]);\n",
    "                }\n",
    "                for (let i = 0; i < d32['x'].length; i++) {\n",
    "                    d32['y'].push(d83[A3][i]);\n",
    "                }\n",
    "                break;\n",
    "            case 3:\n",
    "                q=1;\n",
    "                r=2;\n",
    "                for (let i = 0; i < d62[A1].length; i++) {\n",
    "                    d12['x'].push(i);\n",
    "                    d12['y'].push(d62[A1][i]);\n",
    "                }\n",
    "                for (let i = 0; i < d22['x'].length; i++) {\n",
    "                    d22['y'].push(d72[A2][i]);\n",
    "                }\n",
    "                for (let i = 0; i < d32['x'].length; i++) {\n",
    "                    d32['y'].push(d82[A3][i]);\n",
    "                }\n",
    "                break;\n",
    "            case 4:\n",
    "                q=1;\n",
    "                r=3;\n",
    "                for (let i = 0; i < d63[A1].length; i++) {\n",
    "                    d12['x'].push(i);\n",
    "                    d12['y'].push(d63[A1][i]);\n",
    "                }\n",
    "                for (let i = 0; i < d22['x'].length; i++) {\n",
    "                    d22['y'].push(d73[A2][i]);\n",
    "                }\n",
    "                for (let i = 0; i < d32['x'].length; i++) {\n",
    "                    d32['y'].push(d83[A3][i]);\n",
    "                }\n",
    "                break;\n",
    "            case 5:\n",
    "                q=2;\n",
    "                r=3;\n",
    "                for (let i = 0; i < d63[A1].length; i++) {\n",
    "                    d12['x'].push(i);\n",
    "                    d12['y'].push(d63[A1][i]);\n",
    "                }\n",
    "                for (let i = 0; i < d22['x'].length; i++) {\n",
    "                    d22['y'].push(d73[A2][i]);\n",
    "                }\n",
    "                for (let i = 0; i < d32['x'].length; i++) {\n",
    "                    d32['y'].push(d83[A3][i]);\n",
    "                }\n",
    "                break;\n",
    "            default:\n",
    "                console.log('hi');\n",
    "                break;\n",
    "                   \n",
    "        }\n",
    "\n",
    "        s1.change.emit();\n",
    "        s2.change.emit();\n",
    "        s3.change.emit();\n",
    "        \n",
    "\n",
    "\n",
    "\n",
    "\"\"\"))\n",
    "\n",
    "s3.selected.js_on_change('indices', CustomJS(args=dict(s=s3,s4=s4,s5=s5,s6=s6,source4=source4,s7=s7,source5=source5,s8=s8), code=\"\"\"\n",
    "        const inds = s.selected.indices;\n",
    "        const d = s.data;\n",
    "        const S5=s5.data;\n",
    "        S5['x'][0]=inds[0];\n",
    "        const S6=s6.data;\n",
    "        const d41=source4.data;\n",
    "        const d42=s4.data;\n",
    "        const p=S5['x'][0]+6*S6['x'][0];\n",
    "        for (let i = 0; i < d42['x'].length; i++) {\n",
    "            if(d42['y'][i]>0){\n",
    "                d42['y'][i]=d41[p][i];\n",
    "            }\n",
    "        }\n",
    "        console.log(p);        \n",
    "        s5.change.emit();\n",
    "        s4.change.emit();\n",
    "        \n",
    "        const S7=s7.data;\n",
    "        const S8=s8.data;\n",
    "        const d5=source5.data;\n",
    "        const q=0;\n",
    "        const r=0;\n",
    "        \n",
    "        console.log(S5['x'][0]);\n",
    "        switch(S5['x'][0]){\n",
    "            case '0':\n",
    "                q=0;\n",
    "                r=1;\n",
    "                break;\n",
    "            case '1':\n",
    "                q=0;\n",
    "                r=2;\n",
    "                break;\n",
    "            case '2':\n",
    "                q=0;\n",
    "                r=3;\n",
    "                break;\n",
    "            case '3':\n",
    "                q=1;\n",
    "                r=2;\n",
    "                break;\n",
    "            case '4':\n",
    "                q=1;\n",
    "                r=3;\n",
    "                break;\n",
    "            case '5':\n",
    "                q=2;\n",
    "                r=3;\n",
    "                break;\n",
    "            default:\n",
    "                break;\n",
    "                   \n",
    "        }\n",
    "        \n",
    "        for (let i = 0; i < S7['x'].length; i++) {\n",
    "            S7['y'][i]=d5[q][i];\n",
    "            S8['y'][i]=d5[r][i];\n",
    "        }\n",
    "        s7.change.emit();\n",
    "        s8.change.emit();\n",
    "\n",
    "\"\"\"))\n",
    "\n",
    "s1.selected.js_on_change('indices', CustomJS(args=dict(s=s1,source4=source4,s4=s4,s5=s5,s6=s6), code=\"\"\"\n",
    "        const inds = s.selected.indices;\n",
    "        const d = s.data;\n",
    "        console.log(inds);\n",
    "        const d41=source4.data;\n",
    "        const d42=s4.data;\n",
    "        const S6=s6.data;\n",
    "        const S5=s5.data;\n",
    "        for (let i = 0; i < d42['x'].length; i++) {\n",
    "            d42['y'][i]=0;\n",
    "        }\n",
    "        const p=S5['x'][0]+6*S6['x'][0];\n",
    "        console.log(p);\n",
    "        for (let i = 0; i < inds.length; i++) {\n",
    "            d42['y'][inds[i]]=d41[p][inds[i]];\n",
    "            console.log(inds.length);\n",
    "        }\n",
    "        \n",
    "        console.log(d42['y']);\n",
    "        s4.change.emit();\n",
    "\"\"\"))\n",
    "s2.selected.js_on_change('indices', CustomJS(args=dict(s=s2,s4=s4,s5=s5,s6=s6,source4=source4), code=\"\"\"\n",
    "        const inds = s.selected.indices;\n",
    "        const d = s.data;\n",
    "        const S6=s6.data;\n",
    "        S6['x'][0]=inds[0];\n",
    "        const d41=source4.data;\n",
    "        const d42=s4.data;\n",
    "        const S5=s5.data;\n",
    "        const p=S5['x'][0]+6*S6['x'][0];\n",
    "        console.log(p);\n",
    "        for (let i = 0; i < d42['x'].length; i++) {\n",
    "            if(d42['y'][i]>0){\n",
    "                d42['y'][i]=d41[p][i];\n",
    "            }\n",
    "        }\n",
    "        console.log(S5['x'][0]);        \n",
    "        s4.change.emit();\n",
    "        s6.change.emit();\n",
    "        \n",
    "\"\"\"))\n",
    "\n",
    "s4.selected.js_on_change('indices', CustomJS(args=dict(s=s4,s5=s5,s5inds=s5inds,source4=source4,m=mem,s1=s9,source60=source60,source61=source61,source62=source62,source63=source63,s2=s10,source70=source70,source71=source71,source72=source72,source73=source73,s3=s11,source80=source80,source81=source81,source82=source82,source83=source83,sds=sds,sdm=sdm,sdt=sdt), code=\"\"\"\n",
    "\n",
    "        const in4 = s.selected.indices;\n",
    "        const S5=s5.data;\n",
    "        S5['x'][0]=in4[0];\n",
    "        s5.change.emit();\n",
    "        \n",
    "        const inds=s5inds.data;\n",
    "        const d = s.data;\n",
    "        console.log(parseInt(Number(m[inds['x'][0]])/100));\n",
    "        console.log(parseInt((Number(m[inds['x'][0]])/10)%10));\n",
    "        console.log(parseInt(Number(m[inds['x'][0]])%10));\n",
    "        \n",
    "        const A1=parseInt(Number(m[inds['x'][0]])/100);\n",
    "        const d60 = source60.data;\n",
    "        const d61 = source61.data;\n",
    "        const d62 = source62.data;\n",
    "        const d63 = source63.data;\n",
    "        \n",
    "        const d12 = s1.data;\n",
    "        d12['x']=[];\n",
    "        d12['y'] = [];\n",
    "        \n",
    "        const ddt = sdt.data;\n",
    "        ddt['x']=[];\n",
    "        ddt['y'] = [];\n",
    "        \n",
    "        \n",
    "        \n",
    "        const A2=parseInt((Number(m[inds['x'][0]])/10)%10);\n",
    "        const d70 = source70.data;\n",
    "        const d71 = source71.data;\n",
    "        const d72 = source72.data;\n",
    "        const d73 = source73.data;\n",
    "\n",
    "        const d22 = s2.data;\n",
    "        d22['y'] = [];\n",
    "        \n",
    "        const dds = sds.data;\n",
    "        dds['y'] = [];\n",
    "        \n",
    "        \n",
    "        \n",
    "        const A3=parseInt(Number(m[inds['x'][0]])%10);\n",
    "        const d80 = source80.data;\n",
    "        const d81 = source81.data;\n",
    "        const d82 = source82.data;\n",
    "        const d83 = source83.data;\n",
    "        \n",
    "        const d32 = s3.data;\n",
    "        d32['y'] = [];\n",
    "        \n",
    "        const ddm = sdm.data;\n",
    "        ddm['y'] = [];\n",
    "        \n",
    "        \n",
    "        let q=0;\n",
    "        let r=0;\n",
    "        \n",
    "        console.log(S5['x'][0]);\n",
    "        switch(S5['x'][0]){\n",
    "            case 0:\n",
    "                q=0;\n",
    "                r=1;\n",
    "                console.log(S5['x'][0]);\n",
    "                for (let i = 0; i < d60[A1].length; i++) {\n",
    "                    d12['x'].push(i);\n",
    "                    d12['y'].push(d60[A1][i]);\n",
    "                }\n",
    "                for (let i = 0; i < d22['x'].length; i++) {\n",
    "                    d22['y'].push(d70[A2][i]);\n",
    "                }\n",
    "                for (let i = 0; i < d32['x'].length; i++) {\n",
    "                    d32['y'].push(d80[A3][i]);\n",
    "                }\n",
    "                for (let i = 0; i < dds['x'].length; i++) {\n",
    "                    dds['y'].push(d70[A2][i]-d71[A2][i]);\n",
    "                }\n",
    "                for (let i = 0; i < Math.min(d60[A1].length,d61[A1].length); i++) {\n",
    "                    ddt['x'].push(i);\n",
    "                    ddt['y'].push(d60[A1][i]-d61[A1][i]);\n",
    "                }\n",
    "                for (let i = 0; i < ddm['x'].length; i++) {\n",
    "                    ddm['y'].push(d80[A3][i]-d81[A3][i]);\n",
    "                }\n",
    "                break;\n",
    "            case 1:\n",
    "                q=0;\n",
    "                r=2;\n",
    "                for (let i = 0; i < d60[A1].length; i++) {\n",
    "                    d12['x'].push(i);\n",
    "                    d12['y'].push(d60[A1][i]);\n",
    "                }\n",
    "                for (let i = 0; i < d22['x'].length; i++) {\n",
    "                    d22['y'].push(d70[A2][i]);\n",
    "                }\n",
    "                for (let i = 0; i < d32['x'].length; i++) {\n",
    "                    d32['y'].push(d80[A3][i]);\n",
    "                }\n",
    "                for (let i = 0; i < dds['x'].length; i++) {\n",
    "                    dds['y'].push(d70[A2][i]-d72[A2][i]);\n",
    "                }\n",
    "                for (let i = 0; i < Math.min(d60[A1].length,d62[A1].length); i++) {\n",
    "                    ddt['x'].push(i);\n",
    "                    ddt['y'].push(d60[A1][i]-d62[A1][i]);\n",
    "                }\n",
    "                for (let i = 0; i < ddm['x'].length; i++) {\n",
    "                    ddm['y'].push(d80[A3][i]-d82[A3][i]);\n",
    "                }\n",
    "                break;\n",
    "            case 2:\n",
    "                q=0;\n",
    "                r=3;\n",
    "                for (let i = 0; i < d60[A1].length; i++) {\n",
    "                    d12['x'].push(i);\n",
    "                    d12['y'].push(d60[A1][i]);\n",
    "                }\n",
    "                for (let i = 0; i < d22['x'].length; i++) {\n",
    "                    d22['y'].push(d70[A2][i]);\n",
    "                }\n",
    "                for (let i = 0; i < d32['x'].length; i++) {\n",
    "                    d32['y'].push(d80[A3][i]);\n",
    "                }\n",
    "                for (let i = 0; i < dds['x'].length; i++) {\n",
    "                    dds['y'].push(d70[A2][i]-d73[A2][i]);\n",
    "                }\n",
    "                for (let i = 0; i < Math.min(d60[A1].length,d63[A1].length); i++) {\n",
    "                    ddt['x'].push(i);\n",
    "                    ddt['y'].push(d60[A1][i]-d63[A1][i]);\n",
    "                }\n",
    "                \n",
    "                for (let i = 0; i < ddm['x'].length; i++) {\n",
    "                    ddm['y'].push(d80[A3][i]-d83[A3][i]);\n",
    "                }\n",
    "                break;\n",
    "            case 3:\n",
    "                q=1;\n",
    "                r=2;\n",
    "                for (let i = 0; i < d61[A1].length; i++) {\n",
    "                    d12['x'].push(i);\n",
    "                    d12['y'].push(d61[A1][i]);\n",
    "                }\n",
    "                for (let i = 0; i < d22['x'].length; i++) {\n",
    "                    d22['y'].push(d71[A2][i]);\n",
    "                }\n",
    "                for (let i = 0; i < d32['x'].length; i++) {\n",
    "                    d32['y'].push(d81[A3][i]);\n",
    "                }\n",
    "                for (let i = 0; i < dds['x'].length; i++) {\n",
    "                    dds['y'].push(d71[A2][i]-d72[A2][i]);\n",
    "                }\n",
    "                for (let i = 0; i < Math.min(d61[A1].length,d62[A1].length); i++) {\n",
    "                    ddt['x'].push(i);\n",
    "                    ddt['y'].push(d61[A1][i]-d62[A1][i]);\n",
    "                }\n",
    "                for (let i = 0; i < ddm['x'].length; i++) {\n",
    "                    ddm['y'].push(d81[A3][i]-d82[A3][i]);\n",
    "                }\n",
    "                break;\n",
    "            case 4:\n",
    "                q=1;\n",
    "                r=3;\n",
    "                for (let i = 0; i < d61[A1].length; i++) {\n",
    "                    d12['x'].push(i);\n",
    "                    d12['y'].push(d61[A1][i]);\n",
    "                }\n",
    "                for (let i = 0; i < d22['x'].length; i++) {\n",
    "                    d22['y'].push(d71[A2][i]);\n",
    "                }\n",
    "                for (let i = 0; i < d32['x'].length; i++) {\n",
    "                    d32['y'].push(d81[A3][i]);\n",
    "                }\n",
    "                for (let i = 0; i < dds['x'].length; i++) {\n",
    "                    dds['y'].push(d71[A2][i]-d73[A2][i]);\n",
    "                }\n",
    "                for (let i = 0; i < Math.min(d61[A1].length,d63[A1].length); i++) {\n",
    "                    ddt['x'].push(i);\n",
    "                    ddt['y'].push(d61[A1][i]-d63[A1][i]);\n",
    "                }\n",
    "                for (let i = 0; i < ddm['x'].length; i++) {\n",
    "                    ddm['y'].push(d81[A3][i]-d83[A3][i]);\n",
    "                }\n",
    "                break;\n",
    "            case 5:\n",
    "                q=2;\n",
    "                r=3;\n",
    "                for (let i = 0; i < d62[A1].length; i++) {\n",
    "                    d12['x'].push(i);\n",
    "                    d12['y'].push(d62[A1][i]);\n",
    "                }\n",
    "                for (let i = 0; i < d22['x'].length; i++) {\n",
    "                    d22['y'].push(d72[A2][i]);\n",
    "                }\n",
    "                for (let i = 0; i < d32['x'].length; i++) {\n",
    "                    d32['y'].push(d82[A3][i]);\n",
    "                }\n",
    "                for (let i = 0; i < dds['x'].length; i++) {\n",
    "                    dds['y'].push(d72[A2][i]-d73[A2][i]);\n",
    "                }\n",
    "                for (let i = 0; i < Math.min(d62[A1].length,d63[A1].length); i++) {\n",
    "                    ddt['x'].push(i);\n",
    "                    ddt['y'].push(d62[A1][i]-d63[A1][i]);\n",
    "                }\n",
    "                \n",
    "                for (let i = 0; i < ddm['x'].length; i++) {\n",
    "                    ddm['y'].push(d82[A3][i]-d83[A3][i]);\n",
    "                }\n",
    "                break;\n",
    "                \n",
    "            default:\n",
    "                console.log('hi');\n",
    "                break;\n",
    "                   \n",
    "        }\n",
    "\n",
    "        s1.change.emit();\n",
    "        s2.change.emit();\n",
    "        s3.change.emit();\n",
    "        \n",
    "        sds.change.emit();\n",
    "        sdt.change.emit();\n",
    "        sdm.change.emit();\n",
    "\"\"\"))\n",
    "\n",
    "s4.selected.js_on_change('indices', CustomJS(args=dict(s=s4,s5=s5,s5inds=s5inds,m=mem,s1=s12,source60=source60,source61=source61,source62=source62,source63=source63,s2=s13,source70=source70,source71=source71,source72=source72,source73=source73,s3=s14,source80=source80,source81=source81,source82=source82,source83=source83), code=\"\"\"\n",
    "        const in4 = s.selected.indices;\n",
    "        const S5=s5.data;\n",
    "        S5['x'][0]=in4[0];\n",
    "        s5.change.emit();\n",
    "        \n",
    "        const inds = s5inds.data;\n",
    "        const d = s.data;\n",
    "        \n",
    "        console.log('000');\n",
    "        console.log(m[inds['x'][0]]);\n",
    "        console.log(parseInt(Number(m[inds['x'][0]])/100));\n",
    "        console.log(parseInt((Number(m[inds['x'][0]])/10)%10));\n",
    "        console.log(parseInt(Number(m[inds['x'][0]])%10));\n",
    "        \n",
    "        const A1=parseInt(Number(m[inds['x'][0]])/100);\n",
    "        const d60 = source60.data;\n",
    "        const d61 = source61.data;\n",
    "        const d62 = source62.data;\n",
    "        const d63 = source63.data;\n",
    "        \n",
    "        const d12 = s1.data;\n",
    "        d12['x']=[];\n",
    "        d12['y'] = [];\n",
    "        \n",
    "        \n",
    "        \n",
    "        \n",
    "        \n",
    "        const A2=parseInt((Number(m[inds['x'][0]])/10)%10);\n",
    "        const d70 = source70.data;\n",
    "        const d71 = source71.data;\n",
    "        const d72 = source72.data;\n",
    "        const d73 = source73.data;\n",
    "\n",
    "        const d22 = s2.data;\n",
    "        d22['y'] = [];\n",
    "        \n",
    "        \n",
    "        \n",
    "        const A3=parseInt(Number(m[inds['x'][0]])%10);\n",
    "        const d80 = source80.data;\n",
    "        const d81 = source81.data;\n",
    "        const d82 = source82.data;\n",
    "        const d83 = source83.data;\n",
    "        \n",
    "        const d32 = s3.data;\n",
    "        d32['y'] = [];\n",
    "        \n",
    "        let q=0;\n",
    "        let r=0;\n",
    "        \n",
    "        console.log(S5['x'][0]);\n",
    "        switch(S5['x'][0]){\n",
    "            case 0:\n",
    "                q=0;\n",
    "                r=1;\n",
    "                console.log(S5['x'][0]);\n",
    "                for (let i = 0; i < d61[A1].length; i++) {\n",
    "                    d12['x'].push(i);\n",
    "                    d12['y'].push(d61[A1][i]);\n",
    "                }\n",
    "                for (let i = 0; i < d22['x'].length; i++) {\n",
    "                    d22['y'].push(d71[A2][i]);\n",
    "                }\n",
    "                for (let i = 0; i < d32['x'].length; i++) {\n",
    "                    d32['y'].push(d81[A3][i]);\n",
    "                }\n",
    "                break;\n",
    "            case 1:\n",
    "                q=0;\n",
    "                r=2;\n",
    "                for (let i = 0; i < d62[A1].length; i++) {\n",
    "                    d12['x'].push(i);\n",
    "                    d12['y'].push(d62[A1][i]);\n",
    "                }\n",
    "                for (let i = 0; i < d22['x'].length; i++) {\n",
    "                    d22['y'].push(d72[A2][i]);\n",
    "                }\n",
    "                for (let i = 0; i < d32['x'].length; i++) {\n",
    "                    d32['y'].push(d82[A3][i]);\n",
    "                }\n",
    "                break;\n",
    "            case 2:\n",
    "                q=0;\n",
    "                r=3;\n",
    "                for (let i = 0; i < d63[A1].length; i++) {\n",
    "                    d12['x'].push(i);\n",
    "                    d12['y'].push(d63[A1][i]);\n",
    "                }\n",
    "                for (let i = 0; i < d22['x'].length; i++) {\n",
    "                    d22['y'].push(d73[A2][i]);\n",
    "                }\n",
    "                for (let i = 0; i < d32['x'].length; i++) {\n",
    "                    d32['y'].push(d83[A3][i]);\n",
    "                }\n",
    "                break;\n",
    "            case 3:\n",
    "                q=1;\n",
    "                r=2;\n",
    "                for (let i = 0; i < d62[A1].length; i++) {\n",
    "                    d12['x'].push(i);\n",
    "                    d12['y'].push(d62[A1][i]);\n",
    "                }\n",
    "                for (let i = 0; i < d22['x'].length; i++) {\n",
    "                    d22['y'].push(d72[A2][i]);\n",
    "                }\n",
    "                for (let i = 0; i < d32['x'].length; i++) {\n",
    "                    d32['y'].push(d82[A3][i]);\n",
    "                }\n",
    "                break;\n",
    "            case 4:\n",
    "                q=1;\n",
    "                r=3;\n",
    "                for (let i = 0; i < d63[A1].length; i++) {\n",
    "                    d12['x'].push(i);\n",
    "                    d12['y'].push(d63[A1][i]);\n",
    "                }\n",
    "                for (let i = 0; i < d22['x'].length; i++) {\n",
    "                    d22['y'].push(d73[A2][i]);\n",
    "                }\n",
    "                for (let i = 0; i < d32['x'].length; i++) {\n",
    "                    d32['y'].push(d83[A3][i]);\n",
    "                }\n",
    "                break;\n",
    "            case 5:\n",
    "                q=2;\n",
    "                r=3;\n",
    "                for (let i = 0; i < d63[A1].length; i++) {\n",
    "                    d12['x'].push(i);\n",
    "                    d12['y'].push(d63[A1][i]);\n",
    "                }\n",
    "                for (let i = 0; i < d22['x'].length; i++) {\n",
    "                    d22['y'].push(d73[A2][i]);\n",
    "                }\n",
    "                for (let i = 0; i < d32['x'].length; i++) {\n",
    "                    d32['y'].push(d83[A3][i]);\n",
    "                }\n",
    "                break;\n",
    "            default:\n",
    "                console.log('hi');\n",
    "                break;\n",
    "                   \n",
    "        }\n",
    "        console.log('qr');\n",
    "        console.log(q);\n",
    "        console.log(r);\n",
    "        s1.change.emit();\n",
    "        s2.change.emit();\n",
    "        s3.change.emit();\n",
    "        \n",
    "\n",
    "\n",
    "\n",
    "\"\"\"))\n",
    "\n",
    "#show(gridplot([[p5,p9,p10,p11],[p4,p12,p13,p14]]))\n",
    "show(column(row(p5,p4),row(pdt,column(p9,p12),pds,column(p10,p13),pdm,column(p11,p14))))"
   ]
  },
  {
   "attachments": {},
   "cell_type": "markdown",
   "metadata": {},
   "source": [
    "s4の差のランキングを表示することで選択できるようにする、差をプロット"
   ]
  },
  {
   "attachments": {},
   "cell_type": "markdown",
   "metadata": {
    "id": "oksE80h8lXa0"
   },
   "source": [
    "差分テンソルの結果より、空間軸は一旦置いておいて、因子２なので上のテンソルコアで？1？で関わりが大きそうな所をプロットすることで特徴を知れる。111と213、313って感じの順番"
   ]
  },
  {
   "attachments": {},
   "cell_type": "markdown",
   "metadata": {
    "id": "mh6BWD_k9ySS"
   },
   "source": [
    "このこのテンソル分解後の要素をもう一度テンソルに再構成して、時間軸の要素だけのテンソルを作り、それを比較するというのはどう？"
   ]
  },
  {
   "cell_type": "code",
   "execution_count": null,
   "metadata": {
    "executionInfo": {
     "elapsed": 45,
     "status": "ok",
     "timestamp": 1672373964430,
     "user": {
      "displayName": "学生1935084t",
      "userId": "12227631716568337195"
     },
     "user_tz": -540
    },
    "id": "fKLJgrxJ9x-z"
   },
   "outputs": [],
   "source": []
  },
  {
   "cell_type": "code",
   "execution_count": null,
   "metadata": {
    "colab": {
     "base_uri": "https://localhost:8080/",
     "height": 35
    },
    "executionInfo": {
     "elapsed": 45,
     "status": "ok",
     "timestamp": 1672373964431,
     "user": {
      "displayName": "学生1935084t",
      "userId": "12227631716568337195"
     },
     "user_tz": -540
    },
    "id": "lh0IZIT-lHgy",
    "outputId": "10f0a4bb-e9e2-4345-a5bd-475bd3d06b08"
   },
   "outputs": [
    {
     "data": {
      "text/plain": [
       "'\\nnp.set_printoptions(threshold=np.inf)\\nprint(a)\\n'"
      ]
     },
     "execution_count": 53,
     "metadata": {},
     "output_type": "execute_result"
    }
   ],
   "source": [
    "\"\"\"\n",
    "np.set_printoptions(threshold=np.inf)\n",
    "print(a)\n",
    "\"\"\""
   ]
  },
  {
   "cell_type": "code",
   "execution_count": null,
   "metadata": {
    "executionInfo": {
     "elapsed": 43,
     "status": "ok",
     "timestamp": 1672373964431,
     "user": {
      "displayName": "学生1935084t",
      "userId": "12227631716568337195"
     },
     "user_tz": -540
    },
    "id": "pgTclbsyjBMP"
   },
   "outputs": [],
   "source": [
    "#print(a[:,0].shape)"
   ]
  },
  {
   "cell_type": "code",
   "execution_count": null,
   "metadata": {
    "executionInfo": {
     "elapsed": 44,
     "status": "ok",
     "timestamp": 1672373964432,
     "user": {
      "displayName": "学生1935084t",
      "userId": "12227631716568337195"
     },
     "user_tz": -540
    },
    "id": "2sv96aWujPdY"
   },
   "outputs": [],
   "source": [
    "#a=a[:,:]"
   ]
  },
  {
   "cell_type": "code",
   "execution_count": null,
   "metadata": {
    "colab": {
     "base_uri": "https://localhost:8080/",
     "height": 70
    },
    "executionInfo": {
     "elapsed": 43,
     "status": "ok",
     "timestamp": 1672373964432,
     "user": {
      "displayName": "学生1935084t",
      "userId": "12227631716568337195"
     },
     "user_tz": -540
    },
    "id": "zVnOndxaxCHG",
    "outputId": "8fecfb6e-2f84-4aef-831f-0be32fe26ba0"
   },
   "outputs": [
    {
     "data": {
      "text/plain": [
       "'\\ndef spaceRowHeatDifOutn(t0,t1):\\n  plt.figure(figsize=(1*10,1*10))\\n  a=t0\\n  b=t1\\n  ab=abs(a-b)\\n\\n  print(\"01\")\\n  sns.heatmap(ab,vmin=0, vmax=0.5)\\n\\n  print(\"誤差\")\\n  print(\"01\")\\n  print(ab.sum())\\n  return ab\\n'"
      ]
     },
     "execution_count": 56,
     "metadata": {},
     "output_type": "execute_result"
    }
   ],
   "source": [
    "\"\"\"\n",
    "def spaceRowHeatDifOutn(t0,t1):\n",
    "  plt.figure(figsize=(1*10,1*10))\n",
    "  a=t0\n",
    "  b=t1\n",
    "  ab=abs(a-b)\n",
    "\n",
    "  print(\"01\")\n",
    "  sns.heatmap(ab,vmin=0, vmax=0.5)\n",
    "\n",
    "  print(\"誤差\")\n",
    "  print(\"01\")\n",
    "  print(ab.sum())\n",
    "  return ab\n",
    "\"\"\""
   ]
  },
  {
   "cell_type": "code",
   "execution_count": null,
   "metadata": {
    "executionInfo": {
     "elapsed": 43,
     "status": "ok",
     "timestamp": 1672373964433,
     "user": {
      "displayName": "学生1935084t",
      "userId": "12227631716568337195"
     },
     "user_tz": -540
    },
    "id": "GHK8qOa4jYVT"
   },
   "outputs": [],
   "source": [
    "#print(a.shape)"
   ]
  },
  {
   "cell_type": "code",
   "execution_count": null,
   "metadata": {
    "colab": {
     "base_uri": "https://localhost:8080/",
     "height": 122
    },
    "executionInfo": {
     "elapsed": 44,
     "status": "ok",
     "timestamp": 1672373964434,
     "user": {
      "displayName": "学生1935084t",
      "userId": "12227631716568337195"
     },
     "user_tz": -540
    },
    "id": "RFFREXSqizpL",
    "outputId": "5ac9e8f0-9a82-4fc7-bc53-70f6f5313577"
   },
   "outputs": [
    {
     "data": {
      "text/plain": [
       "\"\\na=spaceRowHeatDifOut(b0,b1)\\ny=np.argsort(a[:,3]*(10**20),kind='mergesort')\\nb0n=b0[1][:,:]\\nb1n=b1[1][:,:]\\nb0n=b0n[y,:]\\nb1n=b1n[y,:]\\na=spaceRowHeatDifOutn(b0n,b1n)\\ny=np.argsort(a[:,2]*(10**20),kind='mergesort')\\nb0n=b0n[y,:]\\nb1n=b1n[y,:]\\na=spaceRowHeatDifOutn(b0n,b1n)\\ny=np.argsort(a[:,1]*(10**20),kind='mergesort')\\nb0n=b0n[y,:]\\nb1n=b1n[y,:]\\na=spaceRowHeatDifOutn(b0n,b1n)\\ny=np.argsort(a[:,0]*(10**20),kind='mergesort')\\nb0n=b0n[y,:]\\nb1n=b1n[y,:]\\na=spaceRowHeatDifOutn(b0n,b1n)\\n\""
      ]
     },
     "execution_count": 58,
     "metadata": {},
     "output_type": "execute_result"
    }
   ],
   "source": [
    "\"\"\"\n",
    "a=spaceRowHeatDifOut(b0,b1)\n",
    "y=np.argsort(a[:,3]*(10**20),kind='mergesort')\n",
    "b0n=b0[1][:,:]\n",
    "b1n=b1[1][:,:]\n",
    "b0n=b0n[y,:]\n",
    "b1n=b1n[y,:]\n",
    "a=spaceRowHeatDifOutn(b0n,b1n)\n",
    "y=np.argsort(a[:,2]*(10**20),kind='mergesort')\n",
    "b0n=b0n[y,:]\n",
    "b1n=b1n[y,:]\n",
    "a=spaceRowHeatDifOutn(b0n,b1n)\n",
    "y=np.argsort(a[:,1]*(10**20),kind='mergesort')\n",
    "b0n=b0n[y,:]\n",
    "b1n=b1n[y,:]\n",
    "a=spaceRowHeatDifOutn(b0n,b1n)\n",
    "y=np.argsort(a[:,0]*(10**20),kind='mergesort')\n",
    "b0n=b0n[y,:]\n",
    "b1n=b1n[y,:]\n",
    "a=spaceRowHeatDifOutn(b0n,b1n)\n",
    "\"\"\""
   ]
  },
  {
   "cell_type": "code",
   "execution_count": null,
   "metadata": {
    "colab": {
     "base_uri": "https://localhost:8080/",
     "height": 87
    },
    "executionInfo": {
     "elapsed": 43,
     "status": "ok",
     "timestamp": 1672373964434,
     "user": {
      "displayName": "学生1935084t",
      "userId": "12227631716568337195"
     },
     "user_tz": -540
    },
    "id": "AA-fmO3TjhaC",
    "outputId": "9b7dbf72-0107-4f70-c594-4fce3ecc9037"
   },
   "outputs": [
    {
     "data": {
      "text/plain": [
       "'\\ntensor_0 = df_cluster0.values.reshape(-1, 864, 4)\\n#print(tensor_0[1,0,0])\\ntensor_1 = df_cluster1.values.reshape(-1, 864, 4)\\n#print(tensor_1[1,0,0])\\ntensor_2 = df_cluster2.values.reshape(-1, 864, 4)\\n#print(tensor_2[1,0,0])\\ntensor_all = df_clusterall.values.reshape(-1, 864, 4)\\n#print(tensor_2[1,0,0])\\n'"
      ]
     },
     "execution_count": 59,
     "metadata": {},
     "output_type": "execute_result"
    }
   ],
   "source": [
    "#元データ\n",
    "\"\"\"\n",
    "tensor_0 = df_cluster0.values.reshape(-1, 864, 4)\n",
    "#print(tensor_0[1,0,0])\n",
    "tensor_1 = df_cluster1.values.reshape(-1, 864, 4)\n",
    "#print(tensor_1[1,0,0])\n",
    "tensor_2 = df_cluster2.values.reshape(-1, 864, 4)\n",
    "#print(tensor_2[1,0,0])\n",
    "tensor_all = df_clusterall.values.reshape(-1, 864, 4)\n",
    "#print(tensor_2[1,0,0])\n",
    "\"\"\""
   ]
  },
  {
   "cell_type": "code",
   "execution_count": null,
   "metadata": {
    "colab": {
     "base_uri": "https://localhost:8080/",
     "height": 35
    },
    "executionInfo": {
     "elapsed": 43,
     "status": "ok",
     "timestamp": 1672373964435,
     "user": {
      "displayName": "学生1935084t",
      "userId": "12227631716568337195"
     },
     "user_tz": -540
    },
    "id": "n5qh5SVuK2Ja",
    "outputId": "d1036f4a-e193-4dcf-cb77-ae6bb6bc39c7"
   },
   "outputs": [
    {
     "data": {
      "text/plain": [
       "'\\nleft=range(864)\\nheight1=a[:,1]\\np1 = plt.plot(left, height1, linewidth=2)\\n'"
      ]
     },
     "execution_count": 60,
     "metadata": {},
     "output_type": "execute_result"
    }
   ],
   "source": [
    "\"\"\"\n",
    "left=range(864)\n",
    "height1=a[:,1]\n",
    "p1 = plt.plot(left, height1, linewidth=2)\n",
    "\"\"\""
   ]
  },
  {
   "attachments": {},
   "cell_type": "markdown",
   "metadata": {
    "id": "RzBwykhKLMjB"
   },
   "source": [
    "並び替えがうまくいっていない→多分うまくいった"
   ]
  },
  {
   "cell_type": "code",
   "execution_count": null,
   "metadata": {
    "colab": {
     "base_uri": "https://localhost:8080/",
     "height": 35
    },
    "executionInfo": {
     "elapsed": 43,
     "status": "ok",
     "timestamp": 1672373964436,
     "user": {
      "displayName": "学生1935084t",
      "userId": "12227631716568337195"
     },
     "user_tz": -540
    },
    "id": "sim1FgwwmMt2",
    "outputId": "5b050990-f08b-4202-df3e-d7ff4b990a06"
   },
   "outputs": [
    {
     "data": {
      "text/plain": [
       "'\\nt0=tensor_0\\nt1=tensor_2\\n#print(t0[:,0,:])\\n'"
      ]
     },
     "execution_count": 61,
     "metadata": {},
     "output_type": "execute_result"
    }
   ],
   "source": [
    "\"\"\"\n",
    "t0=tensor_0\n",
    "t1=tensor_2\n",
    "#print(t0[:,0,:])\n",
    "\"\"\""
   ]
  },
  {
   "cell_type": "code",
   "execution_count": null,
   "metadata": {
    "colab": {
     "base_uri": "https://localhost:8080/",
     "height": 35
    },
    "executionInfo": {
     "elapsed": 43,
     "status": "ok",
     "timestamp": 1672373964437,
     "user": {
      "displayName": "学生1935084t",
      "userId": "12227631716568337195"
     },
     "user_tz": -540
    },
    "id": "ybe5J7HUwLRh",
    "outputId": "e18e13af-0735-4850-8c2b-2ff12cc12d26"
   },
   "outputs": [
    {
     "data": {
      "text/plain": [
       "'\\nb0n=b0[1][:,:]\\nb1n=b1[1][:,:]\\nb0n=b0n[y,:]\\nb1n=b1n[y,:]\\n'"
      ]
     },
     "execution_count": 62,
     "metadata": {},
     "output_type": "execute_result"
    }
   ],
   "source": [
    "\"\"\"\n",
    "b0n=b0[1][:,:]\n",
    "b1n=b1[1][:,:]\n",
    "b0n=b0n[y,:]\n",
    "b1n=b1n[y,:]\n",
    "\"\"\""
   ]
  },
  {
   "cell_type": "code",
   "execution_count": null,
   "metadata": {
    "executionInfo": {
     "elapsed": 42,
     "status": "ok",
     "timestamp": 1672373964438,
     "user": {
      "displayName": "学生1935084t",
      "userId": "12227631716568337195"
     },
     "user_tz": -540
    },
    "id": "WqI6b_71wGZT"
   },
   "outputs": [],
   "source": [
    "#spaceRowHeatDifOutn(b0n,b1n)"
   ]
  },
  {
   "cell_type": "code",
   "execution_count": null,
   "metadata": {
    "colab": {
     "base_uri": "https://localhost:8080/",
     "height": 35
    },
    "executionInfo": {
     "elapsed": 42,
     "status": "ok",
     "timestamp": 1672373964438,
     "user": {
      "displayName": "学生1935084t",
      "userId": "12227631716568337195"
     },
     "user_tz": -540
    },
    "id": "wAEc14Yw570F",
    "outputId": "4b475b85-c817-41c0-e05b-eee8f50c7897"
   },
   "outputs": [
    {
     "data": {
      "text/plain": [
       "'\\ny1=np.argsort(a[:,1]*(10**20))\\n'"
      ]
     },
     "execution_count": 64,
     "metadata": {},
     "output_type": "execute_result"
    }
   ],
   "source": [
    "\"\"\"\n",
    "y1=np.argsort(a[:,1]*(10**20))\n",
    "\"\"\""
   ]
  },
  {
   "cell_type": "code",
   "execution_count": null,
   "metadata": {
    "colab": {
     "base_uri": "https://localhost:8080/",
     "height": 35
    },
    "executionInfo": {
     "elapsed": 41,
     "status": "ok",
     "timestamp": 1672373964439,
     "user": {
      "displayName": "学生1935084t",
      "userId": "12227631716568337195"
     },
     "user_tz": -540
    },
    "id": "0xsGgm-G6ABv",
    "outputId": "6190f0e1-ddbd-47a0-81be-77e2a22b79ea"
   },
   "outputs": [
    {
     "data": {
      "text/plain": [
       "'\\nb0n=b0n[y1,:]\\nb1n=b1n[y1,:]\\n'"
      ]
     },
     "execution_count": 65,
     "metadata": {},
     "output_type": "execute_result"
    }
   ],
   "source": [
    "\"\"\"\n",
    "b0n=b0n[y1,:]\n",
    "b1n=b1n[y1,:]\n",
    "\"\"\""
   ]
  },
  {
   "cell_type": "code",
   "execution_count": null,
   "metadata": {
    "executionInfo": {
     "elapsed": 41,
     "status": "ok",
     "timestamp": 1672373964440,
     "user": {
      "displayName": "学生1935084t",
      "userId": "12227631716568337195"
     },
     "user_tz": -540
    },
    "id": "kxflFtyO6FS2"
   },
   "outputs": [],
   "source": [
    "\n",
    "#spaceRowHeatDifOutn(b0n,b1n)"
   ]
  },
  {
   "cell_type": "code",
   "execution_count": null,
   "metadata": {
    "colab": {
     "base_uri": "https://localhost:8080/",
     "height": 35
    },
    "executionInfo": {
     "elapsed": 41,
     "status": "ok",
     "timestamp": 1672373964440,
     "user": {
      "displayName": "学生1935084t",
      "userId": "12227631716568337195"
     },
     "user_tz": -540
    },
    "id": "2KmZt7cEKgRG",
    "outputId": "ae88a6d3-5d24-4dfc-f55b-1a42329cffa7"
   },
   "outputs": [
    {
     "data": {
      "text/plain": [
       "'\\nt0=tensor_0[:,y,:]\\nt1=tensor_2[:,y,:]\\n'"
      ]
     },
     "execution_count": 67,
     "metadata": {},
     "output_type": "execute_result"
    }
   ],
   "source": [
    "\"\"\"\n",
    "t0=tensor_0[:,y,:]\n",
    "t1=tensor_2[:,y,:]\n",
    "\"\"\""
   ]
  },
  {
   "cell_type": "code",
   "execution_count": null,
   "metadata": {
    "executionInfo": {
     "elapsed": 41,
     "status": "ok",
     "timestamp": 1672373964441,
     "user": {
      "displayName": "学生1935084t",
      "userId": "12227631716568337195"
     },
     "user_tz": -540
    },
    "id": "eAmbseDAnYqW"
   },
   "outputs": [],
   "source": [
    "#t0[0,0,3]"
   ]
  },
  {
   "cell_type": "code",
   "execution_count": null,
   "metadata": {
    "executionInfo": {
     "elapsed": 40,
     "status": "ok",
     "timestamp": 1672373964441,
     "user": {
      "displayName": "学生1935084t",
      "userId": "12227631716568337195"
     },
     "user_tz": -540
    },
    "id": "bMLu6jbUnpri"
   },
   "outputs": [],
   "source": [
    "#print(t1[:,863,:].shape)"
   ]
  },
  {
   "cell_type": "code",
   "execution_count": null,
   "metadata": {
    "colab": {
     "base_uri": "https://localhost:8080/",
     "height": 104
    },
    "executionInfo": {
     "elapsed": 41,
     "status": "ok",
     "timestamp": 1672373964442,
     "user": {
      "displayName": "学生1935084t",
      "userId": "12227631716568337195"
     },
     "user_tz": -540
    },
    "id": "-Q6b9UgDqQrs",
    "outputId": "ca84ddc1-8222-4d63-d365-b7af01230367"
   },
   "outputs": [
    {
     "data": {
      "text/plain": [
       "'\\nleft=range(117)\\nheight1=t1[:,pt,0]\\nheight2=t1[:,pt,1]\\nheight3=t1[:,pt,2]\\nheight4=t1[:,pt,3]\\nplt.subplot(1,2,2)\\np1 = plt.plot(left, height1, linewidth=2)\\np2 = plt.plot(left, height2, linewidth=2)\\np3 = plt.plot(left, height3, linewidth=2)\\np4 = plt.plot(left, height4, linewidth=2)\\nplt.legend((p1[0], p2[0],p3[0], p4[0]), (\"Class 1\", \"Class 2\",\"Class 3\", \"Class 4\"), loc=4)\\n'"
      ]
     },
     "execution_count": 70,
     "metadata": {},
     "output_type": "execute_result"
    }
   ],
   "source": [
    "\"\"\"\n",
    "left=range(221)\n",
    "cnt=0\n",
    "for pt in range(859,863):\n",
    "  plt.figure(figsize=(2*10,2*10))\n",
    "  height1=t0[:,pt,0]\n",
    "  height2=t0[:,pt,1]\n",
    "  height3=t0[:,pt,2]\n",
    "  height4=t0[:,pt,3]\n",
    "  cnt=cnt+1\n",
    "  plt.subplot(4,1,cnt)\n",
    "  p1 = plt.plot(left, height1, linewidth=2)\n",
    "  p2 = plt.plot(left, height2, linewidth=2)\n",
    "  p3 = plt.plot(left, height3, linewidth=2)\n",
    "  p4 = plt.plot(left, height4, linewidth=2)\n",
    "  plt.legend((p1[0], p2[0],p3[0], p4[0]), (\"Class 1\", \"Class 2\",\"Class 3\", \"Class 4\"), loc=4)\n",
    "\n",
    "\"\"\"\n",
    "\"\"\"\n",
    "left=range(117)\n",
    "height1=t1[:,pt,0]\n",
    "height2=t1[:,pt,1]\n",
    "height3=t1[:,pt,2]\n",
    "height4=t1[:,pt,3]\n",
    "plt.subplot(1,2,2)\n",
    "p1 = plt.plot(left, height1, linewidth=2)\n",
    "p2 = plt.plot(left, height2, linewidth=2)\n",
    "p3 = plt.plot(left, height3, linewidth=2)\n",
    "p4 = plt.plot(left, height4, linewidth=2)\n",
    "plt.legend((p1[0], p2[0],p3[0], p4[0]), (\"Class 1\", \"Class 2\",\"Class 3\", \"Class 4\"), loc=4)\n",
    "\"\"\"\n"
   ]
  },
  {
   "cell_type": "code",
   "execution_count": null,
   "metadata": {},
   "outputs": [
    {
     "name": "stdout",
     "output_type": "stream",
     "text": [
      "tensor\n",
      "time\n"
     ]
    },
    {
     "ename": "ValueError",
     "evalue": "invalid literal for int() with base 10: ''",
     "output_type": "error",
     "traceback": [
      "\u001b[1;31m---------------------------------------------------------------------------\u001b[0m",
      "\u001b[1;31mValueError\u001b[0m                                Traceback (most recent call last)",
      "\u001b[1;32m<ipython-input-71-8ce8a5829c3e>\u001b[0m in \u001b[0;36m<module>\u001b[1;34m\u001b[0m\n\u001b[0;32m     29\u001b[0m \u001b[0mprint\u001b[0m\u001b[1;33m(\u001b[0m\u001b[1;34m\"time\"\u001b[0m\u001b[1;33m)\u001b[0m\u001b[1;33m\u001b[0m\u001b[1;33m\u001b[0m\u001b[0m\n\u001b[0;32m     30\u001b[0m \u001b[1;33m\u001b[0m\u001b[0m\n\u001b[1;32m---> 31\u001b[1;33m \u001b[0mtime\u001b[0m\u001b[1;33m=\u001b[0m\u001b[0mlist\u001b[0m\u001b[1;33m(\u001b[0m\u001b[0mmap\u001b[0m\u001b[1;33m(\u001b[0m\u001b[0mint\u001b[0m\u001b[1;33m,\u001b[0m \u001b[0minput\u001b[0m\u001b[1;33m(\u001b[0m\u001b[1;33m)\u001b[0m\u001b[1;33m.\u001b[0m\u001b[0msplit\u001b[0m\u001b[1;33m(\u001b[0m\u001b[1;34m\",\"\u001b[0m\u001b[1;33m)\u001b[0m\u001b[1;33m)\u001b[0m\u001b[1;33m)\u001b[0m\u001b[1;33m\u001b[0m\u001b[1;33m\u001b[0m\u001b[0m\n\u001b[0m\u001b[0;32m     32\u001b[0m \u001b[0mleft\u001b[0m\u001b[1;33m=\u001b[0m\u001b[0mrange\u001b[0m\u001b[1;33m(\u001b[0m\u001b[0mlen\u001b[0m\u001b[1;33m(\u001b[0m\u001b[0mtime\u001b[0m\u001b[1;33m)\u001b[0m\u001b[1;33m)\u001b[0m\u001b[1;33m\u001b[0m\u001b[1;33m\u001b[0m\u001b[0m\n\u001b[0;32m     33\u001b[0m \u001b[1;33m\u001b[0m\u001b[0m\n",
      "\u001b[1;31mValueError\u001b[0m: invalid literal for int() with base 10: ''"
     ]
    }
   ],
   "source": [
    "#テンソル元データの探索1\n",
    "\n",
    "\n",
    "print(\"tensor\")\n",
    "t=input()\n",
    "if t==\"0\":\n",
    "    t1=tensor_0\n",
    "    t2=tensor_1\n",
    "elif t==\"1\":\n",
    "    t1=ttensor_0\n",
    "    t2=ttensor_2\n",
    "elif t==\"2\":\n",
    "    t1=ttensor_0\n",
    "    t2=ttensor_all\n",
    "elif t==\"3\":\n",
    "    t1=ttensor_1\n",
    "    t2=ttensor_2\n",
    "elif t==\"4\":\n",
    "    t1=ttensor_1\n",
    "    t2=ttensor_all\n",
    "elif t==\"5\":\n",
    "    t1=ttensor_2\n",
    "    t2=ttensor_all\n",
    "\n",
    "height1=[]\n",
    "height2=[]\n",
    "height3=[]\n",
    "height4=[]\n",
    "print(\"time\")\n",
    "\n",
    "time=list(map(int, input().split(\",\")))\n",
    "left=range(len(time))\n",
    "\n",
    "print(\"space\")\n",
    "sel=list(map(int, input().split(\",\")))\n",
    "\n",
    "plt.figure(figsize=(2*10,2*10))\n",
    "plt.subplot(2,1,1)\n",
    "cnt=0\n",
    "h1a=0\n",
    "h2a=0\n",
    "h3a=0\n",
    "h4a=0\n",
    "\n",
    "for pt in sel:\n",
    "    height1=[]\n",
    "    height2=[]\n",
    "    height3=[]\n",
    "    height4=[]\n",
    "    cnt=cnt+1\n",
    "    for tt in time:\n",
    "        height1.append(t1[tt,int(pt),0])\n",
    "        height2.append(t1[tt,int(pt),1])\n",
    "        height3.append(t1[tt,int(pt),2])\n",
    "        height4.append(t1[tt,int(pt),3])\n",
    "        \n",
    "    p1 = plt.scatter(left, height1, color=\"b\")\n",
    "    p2 = plt.scatter(left, height2, color=\"g\")\n",
    "    p3 = plt.scatter(left, height3, color=\"r\")\n",
    "    p4 = plt.scatter(left, height4, color=\"y\")\n",
    "    h1a=h1a+np.average(height1)\n",
    "    h2a=h2a+np.average(height2)\n",
    "    h3a=h3a+np.average(height3)\n",
    "    h4a=h4a+np.average(height4)\n",
    "\n",
    "h1a=h1a/cnt\n",
    "h2a=h2a/cnt\n",
    "h3a=h3a/cnt\n",
    "h4a=h4a/cnt\n",
    "print(\"tensor1\")\n",
    "print(\"Average AirIn\")\n",
    "print(h1a)\n",
    "print(\"Average AirOut\")\n",
    "print(h2a) \n",
    "print(\"Average CPU\")\n",
    "print(h3a) \n",
    "print(\"Average Water\")\n",
    "print(h4a)  \n",
    "height1=[]\n",
    "height2=[]\n",
    "height3=[]\n",
    "height4=[]\n",
    "h1a=0\n",
    "h2a=0\n",
    "h3a=0\n",
    "h4a=0\n",
    "\n",
    "plt.figure(figsize=(2*10,2*10))\n",
    "plt.subplot(2,1,1)\n",
    "cnt=0\n",
    "for pt in sel:\n",
    "    height1=[]\n",
    "    height2=[]\n",
    "    height3=[]\n",
    "    height4=[]\n",
    "    cnt=cnt+1\n",
    "    for tt in time:\n",
    "        height1.append(t2[tt,int(pt),0])\n",
    "        height2.append(t2[tt,int(pt),1])\n",
    "        height3.append(t2[tt,int(pt),2])\n",
    "        height4.append(t2[tt,int(pt),3])\n",
    "        \n",
    "    p1 = plt.scatter(left, height1, color=\"b\")\n",
    "    p2 = plt.scatter(left, height2, color=\"g\")\n",
    "    p3 = plt.scatter(left, height3, color=\"r\")\n",
    "    p4 = plt.scatter(left, height4, color=\"y\")\n",
    "    h1a=h1a+np.average(height1)\n",
    "    h2a=h2a+np.average(height2)\n",
    "    h3a=h3a+np.average(height3)\n",
    "    h4a=h4a+np.average(height4)\n",
    "\n",
    "h1a=h1a/cnt\n",
    "h2a=h2a/cnt\n",
    "h3a=h3a/cnt\n",
    "h4a=h4a/cnt\n",
    "print(\"tensor2\")\n",
    "print(\"Average AirIn\")\n",
    "print(h1a)\n",
    "print(\"Average AirOut\")\n",
    "print(h2a) \n",
    "print(\"Average CPU\")\n",
    "print(h3a) \n",
    "print(\"Average Water\")\n",
    "print(h4a) "
   ]
  },
  {
   "cell_type": "code",
   "execution_count": null,
   "metadata": {
    "colab": {
     "base_uri": "https://localhost:8080/",
     "height": 122
    },
    "executionInfo": {
     "elapsed": 40,
     "status": "ok",
     "timestamp": 1672373964442,
     "user": {
      "displayName": "学生1935084t",
      "userId": "12227631716568337195"
     },
     "user_tz": -540
    },
    "id": "iosm3p053dbi",
    "outputId": "407ec661-2af7-43e1-db6c-1d857a2ed804"
   },
   "outputs": [
    {
     "name": "stdout",
     "output_type": "stream",
     "text": [
      "因子数\n"
     ]
    },
    {
     "data": {
      "text/plain": [
       "<matplotlib.axes._subplots.AxesSubplot at 0x224cb76beb0>"
      ]
     },
     "execution_count": 298,
     "metadata": {},
     "output_type": "execute_result"
    },
    {
     "data": {
      "image/png": "[encoded data removed]",
      "text/plain": [
       "<Figure size 10368x1728 with 8 Axes>"
      ]
     },
     "metadata": {
      "needs_background": "light"
     },
     "output_type": "display_data"
    }
   ],
   "source": [
    "#元データの探索\n",
    "print(\"因子数\")\n",
    "q=input()\n",
    "#print(\"tensor\")\n",
    "#t=input()\n",
    "if t==\"0\":\n",
    "    bb1=b0[1][:,int(q)]\n",
    "    bb2=b1[1][:,int(q)]    \n",
    "elif t==\"1\":\n",
    "    bb1=b0[1][:,int(q)]\n",
    "    bb2=b2[1][:,int(q)]\n",
    "elif t==\"2\":\n",
    "    bb1=b0[1][:,int(q)]\n",
    "    bb2=b3[1][:,int(q)]\n",
    "elif t==\"3\":\n",
    "    bb1=b1[1][:,int(q)]\n",
    "    bb2=b2[1][:,int(q)]\n",
    "elif t==\"4\":\n",
    "    bb1=b1[1][:,int(q)]\n",
    "    bb2=b3[1][:,int(q)]\n",
    "elif t==\"5\":\n",
    "    bb1=b2[1][:,int(q)]\n",
    "    bb2=b3[1][:,int(q)]\n",
    "    \n",
    "    \n",
    "\"\"\"\n",
    "print(\"因子数\")\n",
    "q=input()\n",
    "print(\"tensor\")\n",
    "t=input()\n",
    "if t==\"0\":\n",
    "    bb2=b0[1][:,int(q)]\n",
    "elif t==\"1\":\n",
    "\n",
    "elif t==\"2\":\n",
    "    bb2=b2[1][:,int(q)]\n",
    "elif t==\"3\":\n",
    "    bb2=b3[1][:,int(q)]\n",
    "\"\"\"\n",
    "\n",
    "\n",
    "#print(\"space\")\n",
    "#sel=list(map(int, input().split(\",\")))\n",
    "\n",
    "#print(\"一つ目\")\n",
    "tx1=np.zeros(864)\n",
    "for i in sel:\n",
    "    tx1[i]=bb1[i]\n",
    "    #print(tx1[i])\n",
    "#print(\"２つ目\")\n",
    "tx2=np.zeros(864)\n",
    "for i in sel:\n",
    "    tx2[i]=bb2[i]\n",
    "    #print(tx2[i])\n",
    "\n",
    "plt.figure(figsize=(144,24))\n",
    "plt.subplot(1,4,1)\n",
    "d1=tx1.reshape(24,36).T\n",
    "#sns.heatmap(d,vmin=0, vmax=1)\n",
    "sns.heatmap(d1)\n",
    "plt.subplot(1,4,2)\n",
    "d2=tx2.reshape(24,36).T\n",
    "#sns.heatmap(d,vmin=0, vmax=1)\n",
    "sns.heatmap(d2)\n",
    "plt.subplot(1,4,3)\n",
    "d3=(tx1-tx2).reshape(24,36).T\n",
    "sns.heatmap(d3,cmap=\"RdBu_r\",center=0)\n",
    "plt.subplot(1,4,4)\n",
    "d4=(tx2-tx1).reshape(24,36).T\n",
    "sns.heatmap(d4,vmin=0,cmap=\"RdBu_r\",center=0)\n",
    "#sns.heatmap(d3)\n"
   ]
  },
  {
   "cell_type": "code",
   "execution_count": null,
   "metadata": {},
   "outputs": [
    {
     "name": "stdout",
     "output_type": "stream",
     "text": [
      "測定値コンポーネント\n"
     ]
    },
    {
     "data": {
      "text/plain": [
       "<matplotlib.axes._subplots.AxesSubplot at 0x224cbd2e850>"
      ]
     },
     "execution_count": 299,
     "metadata": {},
     "output_type": "execute_result"
    },
    {
     "data": {
      "image/png": "[encoded data removed]",
      "text/plain": [
       "<Figure size 3456x5184 with 8 Axes>"
      ]
     },
     "metadata": {
      "needs_background": "light"
     },
     "output_type": "display_data"
    }
   ],
   "source": [
    "#元のデータ（正規化なし）\n",
    "#print(\"tensor\")\n",
    "#t=input()\n",
    "print(\"測定値コンポーネント\")\n",
    "q2=int(input())\n",
    "if t==\"0\":\n",
    "    t1=tensor_0[:,:,q2]\n",
    "    t2=tensor_1[:,:,q2]\n",
    "elif t==\"1\":\n",
    "    t1=ttensor_0[:,:,q2]\n",
    "    t2=ttensor_2[:,:,q2]\n",
    "elif t==\"2\":\n",
    "    t1=ttensor_0[:,:,q2]\n",
    "    t2=ttensor_all[:,:,q2]\n",
    "elif t==\"3\":\n",
    "    t1=ttensor_1[:,:,q2]\n",
    "    t2=ttensor_2[:,:,q2]\n",
    "elif t==\"4\":\n",
    "    t1=ttensor_1[:,:,q2]\n",
    "    t2=ttensor_all[:,:,q2]\n",
    "elif t==\"5\":\n",
    "    t1=ttensor_2[:,:,q2]\n",
    "    t2=ttensor_all[:,:,q2]\n",
    "    \n",
    "\n",
    "#print(\"space\")\n",
    "#sel=list(map(int, input().split(\",\")))\n",
    "\n",
    "#print(\"time\")\n",
    "#tim=list(map(int, input().split(\",\")))\n",
    "\n",
    "\n",
    "#print(\"一つ目\")\n",
    "tx1=np.zeros(864)\n",
    "cnt=0\n",
    "for i in sel:\n",
    "    cnt=0\n",
    "    for j in time:\n",
    "        cnt=cnt+1\n",
    "        tx1[i]=tx1[i]+t1[j,i]\n",
    "    tx1[i]=tx1[i]/cnt\n",
    "\n",
    "#print(\"２つ目\")\n",
    "tx2=np.zeros(864)\n",
    "cnt=0\n",
    "for i in sel:\n",
    "    cnt=0\n",
    "    for j in time:\n",
    "        cnt=cnt+1\n",
    "        tx2[i]=tx2[i]+t2[j,i]\n",
    "    tx2[i]=tx2[i]/cnt\n",
    "    #print(tx2[i])\n",
    "\n",
    "mask = np.zeros((24,36)).T\n",
    "mask[np.where(d1==0)] = True\n",
    "\n",
    "plt.figure(figsize=(24*2,36*2))\n",
    "plt.subplot(2,2,1)\n",
    "d1=tx1.reshape(24,36).T\n",
    "#sns.heatmap(d,vmin=0, vmax=1)\n",
    "mask = np.zeros((24,36)).T\n",
    "mask[np.where(d1==0)] = True\n",
    "sns.heatmap(d1,mask=mask,cmap=\"RdBu_r\",center=0,linewidths=2,linecolor='black',xticklabels=False,yticklabels=False)\n",
    "plt.subplot(2,2,2)\n",
    "d2=tx2.reshape(24,36).T\n",
    "#sns.heatmap(d,vmin=0, vmax=1)\n",
    "mask = np.zeros((24,36)).T\n",
    "mask[np.where(d2==0)] = True\n",
    "sns.heatmap(d2,mask=mask,cmap=\"RdBu_r\",center=0,linewidths=2,linecolor='black',xticklabels=False,yticklabels=False)\n",
    "plt.subplot(2,2,3)\n",
    "d3=(tx1-tx2).reshape(24,36).T\n",
    "mask = np.zeros((24,36)).T\n",
    "mask[np.where(d2==0)] = True\n",
    "sns.heatmap(d3,vmin=-1, vmax=1,mask=mask,cmap=\"RdBu_r\",center=0,linewidths=2,linecolor='black',xticklabels=False,yticklabels=False)\n",
    "#sns.heatmap(d3)\n",
    "plt.subplot(2,2,4)\n",
    "d4=(tx2-tx1).reshape(24,36).T\n",
    "mask = np.zeros((24,36)).T\n",
    "mask[np.where(d2==0)] = True\n",
    "sns.heatmap(d4,mask=mask,cmap=\"RdBu_r\",center=0)"
   ]
  },
  {
   "cell_type": "code",
   "execution_count": null,
   "metadata": {},
   "outputs": [
    {
     "name": "stdout",
     "output_type": "stream",
     "text": [
      "測定値コンポーネント\n"
     ]
    },
    {
     "data": {
      "text/plain": [
       "<matplotlib.axes._subplots.AxesSubplot at 0x224cd8fc4f0>"
      ]
     },
     "execution_count": 300,
     "metadata": {},
     "output_type": "execute_result"
    },
    {
     "data": {
      "image/png": "[encoded data removed]",
      "text/plain": [
       "<Figure size 3456x5184 with 8 Axes>"
      ]
     },
     "metadata": {
      "needs_background": "light"
     },
     "output_type": "display_data"
    }
   ],
   "source": [
    "#元のデータ（正規化なし）\n",
    "#print(\"tensor\")\n",
    "#t=input()\n",
    "print(\"測定値コンポーネント\")\n",
    "q2=int(input())\n",
    "if t==\"0\":\n",
    "    t1=ttensor_0[:,:,q2]\n",
    "    t2=ttensor_1[:,:,q2]\n",
    "elif t==\"1\":\n",
    "    t1=ttensor_0[:,:,q2]\n",
    "    t2=ttensor_2[:,:,q2]\n",
    "elif t==\"2\":\n",
    "    t1=ttensor_0[:,:,q2]\n",
    "    t2=ttensor_all[:,:,q2]\n",
    "elif t==\"3\":\n",
    "    t1=ttensor_1[:,:,q2]\n",
    "    t2=ttensor_2[:,:,q2]\n",
    "elif t==\"4\":\n",
    "    t1=ttensor_1[:,:,q2]\n",
    "    t2=ttensor_all[:,:,q2]\n",
    "elif t==\"5\":\n",
    "    t1=ttensor_2[:,:,q2]\n",
    "    t2=ttensor_all[:,:,q2]\n",
    "    \n",
    "\n",
    "#print(\"space\")\n",
    "#sel=list(map(int, input().split(\",\")))\n",
    "\n",
    "#print(\"time\")\n",
    "#tim=list(map(int, input().split(\",\")))\n",
    "\n",
    "\n",
    "#print(\"一つ目\")\n",
    "tx1=np.zeros(864)\n",
    "cnt=0\n",
    "for i in sel:\n",
    "    cnt=0\n",
    "    for j in time:\n",
    "        cnt=cnt+1\n",
    "        tx1[i]=tx1[i]+t1[j,i]\n",
    "    tx1[i]=tx1[i]/cnt\n",
    "\n",
    "#print(\"２つ目\")\n",
    "tx2=np.zeros(864)\n",
    "cnt=0\n",
    "for i in sel:\n",
    "    cnt=0\n",
    "    for j in time:\n",
    "        cnt=cnt+1\n",
    "        tx2[i]=tx2[i]+t2[j,i]\n",
    "    tx2[i]=tx2[i]/cnt\n",
    "    #print(tx2[i])\n",
    "\n",
    "mask = np.zeros((24,36)).T\n",
    "mask[np.where(d1==0)] = True\n",
    "\n",
    "plt.figure(figsize=(24*2,36*2))\n",
    "plt.subplot(2,2,1)\n",
    "d1=tx1.reshape(24,36).T\n",
    "#sns.heatmap(d,vmin=0, vmax=1)\n",
    "mask = np.zeros((24,36)).T\n",
    "mask[np.where(d1==0)] = True\n",
    "sns.heatmap(d1,mask=mask)\n",
    "plt.subplot(2,2,2)\n",
    "d2=tx2.reshape(24,36).T\n",
    "#sns.heatmap(d,vmin=0, vmax=1)\n",
    "mask = np.zeros((24,36)).T\n",
    "mask[np.where(d2==0)] = True\n",
    "sns.heatmap(d2,mask=mask)\n",
    "plt.subplot(2,2,3)\n",
    "d3=(tx1-tx2).reshape(24,36).T\n",
    "mask = np.zeros((24,36)).T\n",
    "mask[np.where(d2==0)] = True\n",
    "sns.heatmap(d3,mask=mask,cmap=\"RdBu_r\",center=0,linewidths=2,linecolor='black',xticklabels=False,yticklabels=False)\n",
    "#sns.heatmap(d3)\n",
    "plt.subplot(2,2,4)\n",
    "d4=(tx2-tx1).reshape(24,36).T\n",
    "mask = np.zeros((24,36)).T\n",
    "mask[np.where(d2==0)] = True\n",
    "sns.heatmap(d4,mask=mask,cmap=\"RdBu_r\",center=0)"
   ]
  },
  {
   "cell_type": "code",
   "execution_count": null,
   "metadata": {},
   "outputs": [
    {
     "name": "stdout",
     "output_type": "stream",
     "text": [
      "806094\n"
     ]
    }
   ],
   "source": [
    "an=0\n",
    "for i in range(1,9999999+1):\n",
    "  ans=0\n",
    "  x=str(i)\n",
    "  for j in range(len(x)):\n",
    "    ans=ans+int(x[j])\n",
    "  if i%ans==0:\n",
    "    an=an+1\n",
    "print(an)\n",
    "    "
   ]
  },
  {
   "cell_type": "code",
   "execution_count": null,
   "metadata": {},
   "outputs": [
    {
     "name": "stdout",
     "output_type": "stream",
     "text": [
      "48\n",
      "48\n",
      "48\n",
      "48\n",
      "48\n",
      "48\n",
      "48\n",
      "48\n",
      "48\n",
      "48\n",
      "48\n",
      "48\n",
      "48\n",
      "13\n"
     ]
    }
   ],
   "source": [
    "n=\"141592653589793238462643383279502884197169399375105820974944592307816406286208998628034825342117067982148086513282306647093844609550582231725359408128481117450284102701938521105559644622948954930381964428810975665933446128475648233786783165271201909145648566923460348610454326648213393607260249141273724587006606315588174881520920962829254091715364367892590360011330530548820466521384146951941511609433057270365759591953092186117381932611793105118548074462379962749567351885752724891227938183011949129833673362440656643086021394946395224737190702179860943702770539217176293176752384674818467669405132\"\n",
    "ans=0\n",
    "for i in range(0,598):\n",
    "    a=n[i]+n[i+1]\n",
    "    an=0\n",
    "    for j in range(0,598):\n",
    "        if str(a)==str(n[j]+n[j+1]):\n",
    "            an=an+1\n",
    "    ans=max(ans,an)\n",
    "    if(an==13):\n",
    "        print(a)\n",
    "print(ans)"
   ]
  },
  {
   "cell_type": "code",
   "execution_count": null,
   "metadata": {},
   "outputs": [
    {
     "name": "stdout",
     "output_type": "stream",
     "text": [
      "64\n"
     ]
    }
   ],
   "source": [
    "ans=0\n",
    "an=1\n",
    "for i in reversed(range(1,777)):\n",
    "    ans=i+ans\n",
    "    if(ans+i+1>5000):\n",
    "        an=an+1\n",
    "        ans=0\n",
    "    \n",
    "\n",
    "print(an)"
   ]
  },
  {
   "cell_type": "code",
   "execution_count": null,
   "metadata": {},
   "outputs": [
    {
     "name": "stdout",
     "output_type": "stream",
     "text": [
      "288\n",
      "338\n",
      "378\n",
      "383\n",
      "387\n",
      "389\n",
      "398\n",
      "488\n",
      "688\n",
      "738\n",
      "778\n",
      "783\n",
      "787\n",
      "789\n",
      "798\n",
      "828\n",
      "833\n",
      "837\n",
      "839\n",
      "848\n",
      "868\n",
      "873\n",
      "877\n",
      "879\n",
      "882\n",
      "884\n",
      "886\n",
      "893\n",
      "897\n",
      "899\n",
      "938\n",
      "978\n",
      "983\n",
      "987\n",
      "989\n",
      "998\n",
      "27306\n"
     ]
    }
   ],
   "source": [
    "ans=0\n",
    "for i in range(1,1000):\n",
    "    m=i//1000\n",
    "    d=(i%1000)//500\n",
    "    c=(i%500)//100\n",
    "    l=(i%100)//50\n",
    "    x=(i%50)//10\n",
    "    v=(i%10)//5\n",
    "    j=(i%5)//1\n",
    "    if(j>=4):\n",
    "        j=j-3\n",
    "        v=v+1\n",
    "    if(v>=4):\n",
    "        v=v-3\n",
    "        x=x+1\n",
    "    if(x>=4):\n",
    "        x=x-3\n",
    "        l=l+1\n",
    "    if(l>=4):\n",
    "        l=l-3\n",
    "        c=c+1\n",
    "    if(c>=4):\n",
    "        c=c-3\n",
    "        d=d+1\n",
    "    if(d>=4):\n",
    "        d=d-3\n",
    "        m=m+1\n",
    "\n",
    "    if(m+d+c+l+x+v+j==10):\n",
    "        print(i)\n",
    "        ans=ans+i\n",
    "print(ans)\n",
    "    \n",
    "    "
   ]
  },
  {
   "cell_type": "code",
   "execution_count": null,
   "metadata": {},
   "outputs": [],
   "source": []
  }
 ],
 "metadata": {
  "colab": {
   "authorship_tag": "ABX9TyMyOkSX2cULebgTn0PRv05Q",
   "collapsed_sections": [
    "t70W9uqz-6bF",
    "ht2gMM-r_b_M",
    "SCyG1MM985nW"
   ],
   "mount_file_id": "1k7T6N0YT8v7rpDOTOinJS8F84JIMHCkr",
   "provenance": []
  },
  "gpuClass": "standard",
  "kernelspec": {
   "display_name": "Python 3 (ipykernel)",
   "language": "python",
   "name": "python3"
  },
  "language_info": {
   "codemirror_mode": {
    "name": "ipython",
    "version": 3
   },
   "file_extension": ".py",
   "mimetype": "text/x-python",
   "name": "python",
   "nbconvert_exporter": "python",
   "pygments_lexer": "ipython3",
   "version": "3.10.11"
  }
 },
 "nbformat": 4,
 "nbformat_minor": 4
}
